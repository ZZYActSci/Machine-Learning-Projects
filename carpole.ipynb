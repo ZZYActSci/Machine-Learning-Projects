{
  "nbformat": 4,
  "nbformat_minor": 0,
  "metadata": {
    "colab": {
      "name": "project.ipynb",
      "provenance": [],
      "collapsed_sections": [],
      "include_colab_link": true
    },
    "kernelspec": {
      "name": "python3",
      "display_name": "Python 3"
    },
    "accelerator": "GPU",
    "gpuClass": "standard"
  },
  "cells": [
    {
      "cell_type": "markdown",
      "metadata": {
        "id": "view-in-github",
        "colab_type": "text"
      },
      "source": [
        "<a href=\"https://colab.research.google.com/github/ZZYActSci/Machine-Learning-Projects/blob/main/carpole.ipynb\" target=\"_parent\"><img src=\"https://colab.research.google.com/assets/colab-badge.svg\" alt=\"Open In Colab\"/></a>"
      ]
    },
    {
      "cell_type": "markdown",
      "metadata": {
        "id": "u497wtaKJg6U"
      },
      "source": [
        "Using Reinforcement Learning, train an agent to play Cartpole V1 (OpenAI Gym environment). All python libraries are accepted.\n",
        "\n",
        "Cite all used resources used for your work.\n",
        "\n",
        "\n",
        "\n",
        "Requirements\n",
        "1. Code is bug-free.\n",
        "\n",
        "2. Mean reward above 475 on the last 100 episodes\n",
        "\n",
        "3. Graph mean reward over episodes"
      ]
    },
    {
      "cell_type": "markdown",
      "source": [
        "## Part 1: Exploration of attributes"
      ],
      "metadata": {
        "id": "t9qiqyH7eeKN"
      }
    },
    {
      "cell_type": "code",
      "metadata": {
        "id": "C31BnLaWnzAO"
      },
      "source": [
        "%%capture\n",
        "!apt update && apt install -y libpq-dev libsdl2-dev swig xorg-dev xvfb\n",
        "!pip install -q -U tf-agents-nightly pyvirtualdisplay gym[atari]"
      ],
      "execution_count": 1,
      "outputs": []
    },
    {
      "cell_type": "code",
      "source": [
        ""
      ],
      "metadata": {
        "id": "jHRhcbPEt3TS"
      },
      "execution_count": 1,
      "outputs": []
    },
    {
      "cell_type": "code",
      "metadata": {
        "id": "L-lNJ7LmOZ7U"
      },
      "source": [
        "import gym\n",
        "import numpy as np\n",
        "from tensorflow import keras\n",
        "import tensorflow as tf\n",
        "\n",
        "import matplotlib as mpl\n",
        "import matplotlib.pyplot as plt\n",
        "import matplotlib.animation as animation\n",
        "mpl.rc('animation', html='jshtml')"
      ],
      "execution_count": 2,
      "outputs": []
    },
    {
      "cell_type": "code",
      "metadata": {
        "id": "lFVlgMLuOchf"
      },
      "source": [
        "# gym.envs.registry.all()"
      ],
      "execution_count": 3,
      "outputs": []
    },
    {
      "cell_type": "code",
      "metadata": {
        "id": "GUe2e9EeOce7"
      },
      "source": [
        "# https://github.com/openai/gym/blob/master/gym/envs/classic_control/cartpole.py\n",
        "env = gym.make('CartPole-v1')\n",
        "env._max_episode_steps = 500"
      ],
      "execution_count": 4,
      "outputs": []
    },
    {
      "cell_type": "code",
      "metadata": {
        "id": "03ZkfxiJOcZk",
        "colab": {
          "base_uri": "https://localhost:8080/"
        },
        "outputId": "d514eb15-01ae-49ba-8cfe-bac8632f8e53"
      },
      "source": [
        "env.seed(42)\n",
        "obs = env.reset()\n",
        "obs"
      ],
      "execution_count": 5,
      "outputs": [
        {
          "output_type": "execute_result",
          "data": {
            "text/plain": [
              "array([-0.01258566, -0.00156614,  0.04207708, -0.00180545])"
            ]
          },
          "metadata": {},
          "execution_count": 5
        }
      ]
    },
    {
      "cell_type": "code",
      "metadata": {
        "id": "zuJDMrnZOcND"
      },
      "source": [
        "try:\n",
        "    import pyvirtualdisplay\n",
        "    display = pyvirtualdisplay.Display(visible=0, size=(1400, 900)).start()\n",
        "except ImportError:\n",
        "    pass"
      ],
      "execution_count": 6,
      "outputs": []
    },
    {
      "cell_type": "code",
      "metadata": {
        "id": "qtZSO97bOtIT",
        "colab": {
          "base_uri": "https://localhost:8080/",
          "height": 217
        },
        "outputId": "13c9f6aa-5bf1-4a54-e5f3-de733e964514"
      },
      "source": [
        "env.render( )\n",
        "\n",
        "def plot_environment(env, figsize=(5,4)):\n",
        "  plt.figure(figsize=figsize)\n",
        "  img = env.render(mode='rgb_array')\n",
        "  plt.imshow(img)\n",
        "  plt.axis('off')\n",
        "  return img\n",
        "\n",
        "plot_environment(env)\n",
        "plt.show()"
      ],
      "execution_count": 7,
      "outputs": [
        {
          "output_type": "display_data",
          "data": {
            "text/plain": [
              "<Figure size 360x288 with 1 Axes>"
            ],
            "image/png": "[encoded data removed]"
          },
          "metadata": {
            "needs_background": "light"
          }
        }
      ]
    },
    {
      "cell_type": "code",
      "source": [
        "env.action_space"
      ],
      "metadata": {
        "colab": {
          "base_uri": "https://localhost:8080/"
        },
        "id": "h1v7YN5RwSM4",
        "outputId": "32430547-fe36-447f-caac-228ad3afa81e"
      },
      "execution_count": 8,
      "outputs": [
        {
          "output_type": "execute_result",
          "data": {
            "text/plain": [
              "Discrete(2)"
            ]
          },
          "metadata": {},
          "execution_count": 8
        }
      ]
    },
    {
      "cell_type": "code",
      "source": [
        "action=1\n",
        "obs, reward, done, info = env.step(action)\n",
        "obs\n",
        "plot_environment(env)\n",
        "plt.show()"
      ],
      "metadata": {
        "colab": {
          "base_uri": "https://localhost:8080/",
          "height": 217
        },
        "id": "_IXUs_H4wmv1",
        "outputId": "f1f8558e-7494-4d13-b660-464a19ffc8a8"
      },
      "execution_count": 9,
      "outputs": [
        {
          "output_type": "display_data",
          "data": {
            "text/plain": [
              "<Figure size 360x288 with 1 Axes>"
            ],
            "image/png": "[encoded data removed]"
          },
          "metadata": {
            "needs_background": "light"
          }
        }
      ]
    },
    {
      "cell_type": "code",
      "source": [
        "obs"
      ],
      "metadata": {
        "colab": {
          "base_uri": "https://localhost:8080/"
        },
        "id": "-rqR6YwN1cKV",
        "outputId": "e6e1eb8d-53a3-40f3-e768-48855597ad47"
      },
      "execution_count": 10,
      "outputs": [
        {
          "output_type": "execute_result",
          "data": {
            "text/plain": [
              "array([-0.01261699,  0.19292789,  0.04204097, -0.28092127])"
            ]
          },
          "metadata": {},
          "execution_count": 10
        }
      ]
    },
    {
      "cell_type": "code",
      "source": [
        "reward"
      ],
      "metadata": {
        "colab": {
          "base_uri": "https://localhost:8080/"
        },
        "id": "o6ab1RI71iKW",
        "outputId": "8e582278-9951-4c74-f811-88824e2589d7"
      },
      "execution_count": 11,
      "outputs": [
        {
          "output_type": "execute_result",
          "data": {
            "text/plain": [
              "1.0"
            ]
          },
          "metadata": {},
          "execution_count": 11
        }
      ]
    },
    {
      "cell_type": "code",
      "source": [
        "done"
      ],
      "metadata": {
        "colab": {
          "base_uri": "https://localhost:8080/"
        },
        "id": "rdJJGrbR2zuV",
        "outputId": "4fecfb8a-4c0d-4f88-d989-53355c1f5379"
      },
      "execution_count": 12,
      "outputs": [
        {
          "output_type": "execute_result",
          "data": {
            "text/plain": [
              "False"
            ]
          },
          "metadata": {},
          "execution_count": 12
        }
      ]
    },
    {
      "cell_type": "code",
      "source": [
        "info"
      ],
      "metadata": {
        "colab": {
          "base_uri": "https://localhost:8080/"
        },
        "id": "JqhR1SGq23Jw",
        "outputId": "869030ec-f66e-4cc8-c4de-e52b1412e7bc"
      },
      "execution_count": 13,
      "outputs": [
        {
          "output_type": "execute_result",
          "data": {
            "text/plain": [
              "{}"
            ]
          },
          "metadata": {},
          "execution_count": 13
        }
      ]
    },
    {
      "cell_type": "code",
      "source": [
        "print(env.observation_space.high)\n",
        "print(env.observation_space.low)\n",
        "print(env.action_space.n)"
      ],
      "metadata": {
        "colab": {
          "base_uri": "https://localhost:8080/"
        },
        "id": "Vd4qmlIL3K8U",
        "outputId": "18c3a5e9-35fe-4ad4-b443-811a2efdc964"
      },
      "execution_count": 14,
      "outputs": [
        {
          "output_type": "stream",
          "name": "stdout",
          "text": [
            "[4.8000002e+00 3.4028235e+38 4.1887903e-01 3.4028235e+38]\n",
            "[-4.8000002e+00 -3.4028235e+38 -4.1887903e-01 -3.4028235e+38]\n",
            "2\n"
          ]
        }
      ]
    },
    {
      "cell_type": "markdown",
      "source": [
        "## Part 2: Change bounds\n",
        "## From above, tt seems that the velocities have unlimited space. Hard to creat bins for them. So we try to clip the space."
      ],
      "metadata": {
        "id": "34PZDFIhekAZ"
      }
    },
    {
      "cell_type": "code",
      "source": [
        "obs = env.reset()\n",
        "for i in range(10):\n",
        "    action = np.random.randint(2)  # always go right!\n",
        "    new_state, reward, done, _ = env.step(action)\n",
        "    print(reward, new_state)"
      ],
      "metadata": {
        "colab": {
          "base_uri": "https://localhost:8080/"
        },
        "id": "QHJ757cmAt-S",
        "outputId": "deeae298-ade9-4220-8349-0c47107bdd8b"
      },
      "execution_count": 15,
      "outputs": [
        {
          "output_type": "stream",
          "name": "stdout",
          "text": [
            "1.0 [ 0.00597787  0.21404067 -0.03614886 -0.31586023]\n",
            "1.0 [ 0.01025868  0.40965838 -0.04246607 -0.61972055]\n",
            "1.0 [ 0.01845185  0.21515447 -0.05486048 -0.34070898]\n",
            "1.0 [ 0.02275494  0.02085426 -0.06167466 -0.06581803]\n",
            "1.0 [ 0.02317202 -0.17333171 -0.06299102  0.20678627]\n",
            "1.0 [ 0.01970539  0.02263179 -0.05885529 -0.10508313]\n",
            "1.0 [ 0.02015803 -0.1715995  -0.06095696  0.16846588]\n",
            "1.0 [ 0.01672604 -0.36579836 -0.05758764  0.44131289]\n",
            "1.0 [ 0.00941007 -0.16991076 -0.04876138  0.13104716]\n",
            "1.0 [ 0.00601185 -0.36430153 -0.04614044  0.40795658]\n"
          ]
        }
      ]
    },
    {
      "cell_type": "code",
      "source": [
        "QT_SIZE = [20] * len(env.observation_space.high)\n",
        "window_size = (env.observation_space.high - env.observation_space.low) / QT_SIZE\n",
        "\n",
        "print(window_size)"
      ],
      "metadata": {
        "colab": {
          "base_uri": "https://localhost:8080/"
        },
        "id": "LmThD3XQADk_",
        "outputId": "9d2c7636-3772-42d3-a17e-afbf8180d083"
      },
      "execution_count": 16,
      "outputs": [
        {
          "output_type": "stream",
          "name": "stdout",
          "text": [
            "[0.48000002        inf 0.0418879         inf]\n"
          ]
        },
        {
          "output_type": "stream",
          "name": "stderr",
          "text": [
            "/usr/local/lib/python3.7/dist-packages/ipykernel_launcher.py:2: RuntimeWarning: overflow encountered in subtract\n",
            "  \n"
          ]
        }
      ]
    },
    {
      "cell_type": "code",
      "source": [
        "env.observation_space.low,env.observation_space.high"
      ],
      "metadata": {
        "colab": {
          "base_uri": "https://localhost:8080/"
        },
        "id": "RtxApbgUdFPM",
        "outputId": "66d81fd4-8dac-42ae-ff2b-df43a1bb4238"
      },
      "execution_count": 17,
      "outputs": [
        {
          "output_type": "execute_result",
          "data": {
            "text/plain": [
              "(array([-4.8000002e+00, -3.4028235e+38, -4.1887903e-01, -3.4028235e+38],\n",
              "       dtype=float32),\n",
              " array([4.8000002e+00, 3.4028235e+38, 4.1887903e-01, 3.4028235e+38],\n",
              "       dtype=float32))"
            ]
          },
          "metadata": {},
          "execution_count": 17
        }
      ]
    },
    {
      "cell_type": "code",
      "source": [
        "env.observation_space.low = np.array([-4.8000002e+00, -5., -4.1887903e-01, -5.],dtype=np.float32)\n",
        "env.observation_space.high = np.array([4.8000002e+00, 5., 4.1887903e-01, 5.],dtype=np.float32)"
      ],
      "metadata": {
        "id": "UL_ZPcNucUvA"
      },
      "execution_count": 18,
      "outputs": []
    },
    {
      "cell_type": "code",
      "source": [
        "env.observation_space.low,env.observation_space.high"
      ],
      "metadata": {
        "colab": {
          "base_uri": "https://localhost:8080/"
        },
        "id": "JEB_GaiAdOGD",
        "outputId": "8ed944ce-ad27-4f77-ae9c-f460bda17563"
      },
      "execution_count": 19,
      "outputs": [
        {
          "output_type": "execute_result",
          "data": {
            "text/plain": [
              "(array([-4.8       , -5.        , -0.41887903, -5.        ], dtype=float32),\n",
              " array([4.8       , 5.        , 0.41887903, 5.        ], dtype=float32))"
            ]
          },
          "metadata": {},
          "execution_count": 19
        }
      ]
    },
    {
      "cell_type": "code",
      "source": [
        "QT_SIZE = [40] * len(env.observation_space.high)\n",
        "window_size = (env.observation_space.high - env.observation_space.low) / QT_SIZE\n",
        "\n",
        "print(window_size)"
      ],
      "metadata": {
        "colab": {
          "base_uri": "https://localhost:8080/"
        },
        "id": "bmgZ_vQrdtlH",
        "outputId": "8883f3bb-8a35-4185-82be-eaae50373bfd"
      },
      "execution_count": 20,
      "outputs": [
        {
          "output_type": "stream",
          "name": "stdout",
          "text": [
            "[0.24000001 0.25       0.02094395 0.25      ]\n"
          ]
        }
      ]
    },
    {
      "cell_type": "code",
      "source": [
        "q_table = np.random.uniform(low=-2, high=0, size=(QT_SIZE + [env.action_space.n]))\n",
        "q_table.shape"
      ],
      "metadata": {
        "colab": {
          "base_uri": "https://localhost:8080/"
        },
        "id": "AxdigYE0AKrg",
        "outputId": "8715afc0-cfad-41ea-d06b-a688c090f3c0"
      },
      "execution_count": 21,
      "outputs": [
        {
          "output_type": "execute_result",
          "data": {
            "text/plain": [
              "(40, 40, 40, 40, 2)"
            ]
          },
          "metadata": {},
          "execution_count": 21
        }
      ]
    },
    {
      "cell_type": "markdown",
      "source": [
        "## Part 3:  Put them all together\n",
        "## Changes: max steps from 200 to 500"
      ],
      "metadata": {
        "id": "as8yKP4Le0Fs"
      }
    },
    {
      "cell_type": "code",
      "source": [
        "env = gym.make(\"CartPole-v1\")\n",
        "env._max_episode_steps = 500\n",
        "env.observation_space.low = np.array([-4.8000002e+00, -5., -4.1887903e-01, -5.],dtype=np.float32)\n",
        "env.observation_space.high = np.array([4.8000002e+00, 5., 4.1887903e-01, 5.],dtype=np.float32)\n",
        "\n",
        "LEARNING_RATE = 0.1 #0.05\n",
        "DISCOUNT = 0.95 #0.9\n",
        "EPISODES = 10000\n",
        "QT_SIZE = [40] * len(env.observation_space.high)\n",
        "window_size = (env.observation_space.high - env.observation_space.low) / QT_SIZE\n",
        "\n",
        "# Explore\n",
        "epsilon = 0.5  # not a constant, qoing to be decayed\n",
        "START_EPSILON_DECAYING = 1\n",
        "END_EPSILON_DECAYING = EPISODES//2\n",
        "epsilon_decay_value = epsilon/(END_EPSILON_DECAYING - START_EPSILON_DECAYING)\n",
        "\n",
        "q_table = np.random.uniform(low=-2, high=0, size=(QT_SIZE + [env.action_space.n]))\n",
        "\n",
        "def get_discrete_state(state):\n",
        "  discrete_state = (state - env.observation_space.low) / window_size\n",
        "  return tuple(discrete_state.astype(np.int))\n",
        "\n",
        "discrete_state = get_discrete_state(env.reset()) "
      ],
      "metadata": {
        "colab": {
          "base_uri": "https://localhost:8080/"
        },
        "id": "MxP_v_RTdnVE",
        "outputId": "165191b2-1ae0-4a6c-febf-13d0ac415e02"
      },
      "execution_count": 23,
      "outputs": [
        {
          "output_type": "stream",
          "name": "stderr",
          "text": [
            "/usr/local/lib/python3.7/dist-packages/ipykernel_launcher.py:22: DeprecationWarning: `np.int` is a deprecated alias for the builtin `int`. To silence this warning, use `int` by itself. Doing this will not modify any behavior and is safe. When replacing `np.int`, you may wish to use e.g. `np.int64` or `np.int32` to specify the precision. If you wish to review your current use, check the release note link for additional information.\n",
            "Deprecated in NumPy 1.20; for more details and guidance: https://numpy.org/devdocs/release/1.20.0-notes.html#deprecations\n"
          ]
        }
      ]
    },
    {
      "cell_type": "code",
      "source": [
        "discrete_state "
      ],
      "metadata": {
        "colab": {
          "base_uri": "https://localhost:8080/"
        },
        "id": "zT3jKxv4e_uP",
        "outputId": "3b15f6e0-0b94-41e6-a8e2-4a14d70894c9"
      },
      "execution_count": 24,
      "outputs": [
        {
          "output_type": "execute_result",
          "data": {
            "text/plain": [
              "(20, 19, 19, 20)"
            ]
          },
          "metadata": {},
          "execution_count": 24
        }
      ]
    },
    {
      "cell_type": "markdown",
      "source": [
        "## Part 4: Q-Learning"
      ],
      "metadata": {
        "id": "9HKzi6y0lCge"
      }
    },
    {
      "cell_type": "code",
      "source": [
        "previous_count = []\n",
        "metrics = {'ep': [], 'avg': [], 'min': [], 'max': []}  # metrics recorded for graph\n",
        "\n",
        "for episode in range(EPISODES):\n",
        "\n",
        "  discrete_state = get_discrete_state(env.reset())\n",
        "  done = False\n",
        "  count = 0 # How many steps we have survived\n",
        "\n",
        "\n",
        "  while not done:\n",
        "    count += 1\n",
        "    # NEW\n",
        "    if np.random.random() > epsilon:\n",
        "      # Get action from Q table\n",
        "      action = np.argmax(q_table[discrete_state])\n",
        "    else:\n",
        "      # Get random action\n",
        "      action = np.random.randint(0, env.action_space.n)\n",
        "\n",
        "    action = np.argmax(q_table[discrete_state])\n",
        "    new_state, reward, done, _ = env.step(action)\n",
        "    new_discrete_state = get_discrete_state(new_state)\n",
        "    # pole fell over / went out of bounds, negative reward\n",
        "    if done and count < 500:\n",
        "      reward = -500\n",
        "    q_table[discrete_state + (action,)] = (1 - LEARNING_RATE) * q_table[new_discrete_state + (action, )] + LEARNING_RATE * (reward + DISCOUNT *  np.max(q_table[new_discrete_state]))\n",
        "\n",
        "    discrete_state = new_discrete_state\n",
        "\n",
        "  previous_count.append(count) # store all historical steps\n",
        "\n",
        "  if END_EPSILON_DECAYING >= episode >= START_EPSILON_DECAYING:\n",
        "      epsilon -= epsilon_decay_value # decay the learning rate\n",
        "\n",
        "  if episode % 100 == 0:\n",
        "    averageCnt = np.mean(previous_count[-100:])\n",
        "    metrics['ep'].append(episode)\n",
        "    metrics['avg'].append(averageCnt)\n",
        "\n",
        "    print(\"Episode:\", episode, \"Average:\", averageCnt)\n",
        "\n",
        "env.close()"
      ],
      "metadata": {
        "colab": {
          "base_uri": "https://localhost:8080/"
        },
        "id": "T7bVqpzFeHEV",
        "outputId": "986be6b7-0d9f-4f02-902e-602309606788"
      },
      "execution_count": 32,
      "outputs": [
        {
          "output_type": "stream",
          "name": "stderr",
          "text": [
            "/usr/local/lib/python3.7/dist-packages/ipykernel_launcher.py:22: DeprecationWarning: `np.int` is a deprecated alias for the builtin `int`. To silence this warning, use `int` by itself. Doing this will not modify any behavior and is safe. When replacing `np.int`, you may wish to use e.g. `np.int64` or `np.int32` to specify the precision. If you wish to review your current use, check the release note link for additional information.\n",
            "Deprecated in NumPy 1.20; for more details and guidance: https://numpy.org/devdocs/release/1.20.0-notes.html#deprecations\n"
          ]
        },
        {
          "output_type": "stream",
          "name": "stdout",
          "text": [
            "Episode: 0 Average: 500.0\n",
            "Episode: 100 Average: 426.09\n",
            "Episode: 200 Average: 437.57\n",
            "Episode: 300 Average: 425.44\n",
            "Episode: 400 Average: 430.09\n",
            "Episode: 500 Average: 416.52\n",
            "Episode: 600 Average: 418.2\n",
            "Episode: 700 Average: 414.86\n",
            "Episode: 800 Average: 418.36\n",
            "Episode: 900 Average: 435.65\n",
            "Episode: 1000 Average: 425.48\n",
            "Episode: 1100 Average: 437.02\n",
            "Episode: 1200 Average: 412.58\n",
            "Episode: 1300 Average: 419.74\n",
            "Episode: 1400 Average: 435.31\n",
            "Episode: 1500 Average: 427.77\n",
            "Episode: 1600 Average: 428.74\n",
            "Episode: 1700 Average: 437.38\n",
            "Episode: 1800 Average: 420.92\n",
            "Episode: 1900 Average: 441.61\n",
            "Episode: 2000 Average: 423.91\n",
            "Episode: 2100 Average: 456.85\n",
            "Episode: 2200 Average: 418.32\n",
            "Episode: 2300 Average: 448.44\n",
            "Episode: 2400 Average: 424.63\n",
            "Episode: 2500 Average: 430.86\n",
            "Episode: 2600 Average: 424.45\n",
            "Episode: 2700 Average: 409.29\n",
            "Episode: 2800 Average: 422.31\n",
            "Episode: 2900 Average: 432.25\n",
            "Episode: 3000 Average: 424.5\n",
            "Episode: 3100 Average: 431.45\n",
            "Episode: 3200 Average: 417.38\n",
            "Episode: 3300 Average: 449.73\n",
            "Episode: 3400 Average: 438.48\n",
            "Episode: 3500 Average: 417.35\n",
            "Episode: 3600 Average: 440.12\n",
            "Episode: 3700 Average: 431.7\n",
            "Episode: 3800 Average: 458.5\n",
            "Episode: 3900 Average: 477.71\n",
            "Episode: 4000 Average: 478.46\n",
            "Episode: 4100 Average: 471.69\n",
            "Episode: 4200 Average: 477.08\n",
            "Episode: 4300 Average: 479.51\n",
            "Episode: 4400 Average: 476.1\n",
            "Episode: 4500 Average: 486.95\n",
            "Episode: 4600 Average: 479.25\n",
            "Episode: 4700 Average: 479.52\n",
            "Episode: 4800 Average: 478.38\n",
            "Episode: 4900 Average: 475.65\n",
            "Episode: 5000 Average: 486.58\n",
            "Episode: 5100 Average: 475.88\n",
            "Episode: 5200 Average: 482.39\n",
            "Episode: 5300 Average: 464.2\n",
            "Episode: 5400 Average: 468.25\n",
            "Episode: 5500 Average: 466.13\n",
            "Episode: 5600 Average: 467.14\n",
            "Episode: 5700 Average: 469.26\n",
            "Episode: 5800 Average: 467.72\n",
            "Episode: 5900 Average: 453.98\n",
            "Episode: 6000 Average: 469.53\n",
            "Episode: 6100 Average: 473.42\n",
            "Episode: 6200 Average: 463.19\n",
            "Episode: 6300 Average: 476.96\n",
            "Episode: 6400 Average: 461.24\n",
            "Episode: 6500 Average: 464.72\n",
            "Episode: 6600 Average: 463.12\n",
            "Episode: 6700 Average: 458.93\n",
            "Episode: 6800 Average: 442.72\n",
            "Episode: 6900 Average: 470.15\n",
            "Episode: 7000 Average: 403.33\n",
            "Episode: 7100 Average: 374.67\n",
            "Episode: 7200 Average: 375.32\n",
            "Episode: 7300 Average: 461.94\n",
            "Episode: 7400 Average: 476.31\n",
            "Episode: 7500 Average: 484.02\n",
            "Episode: 7600 Average: 473.98\n",
            "Episode: 7700 Average: 471.6\n",
            "Episode: 7800 Average: 448.62\n",
            "Episode: 7900 Average: 473.39\n",
            "Episode: 8000 Average: 479.6\n",
            "Episode: 8100 Average: 471.73\n",
            "Episode: 8200 Average: 486.39\n",
            "Episode: 8300 Average: 491.21\n",
            "Episode: 8400 Average: 474.39\n",
            "Episode: 8500 Average: 467.2\n",
            "Episode: 8600 Average: 476.62\n",
            "Episode: 8700 Average: 472.72\n",
            "Episode: 8800 Average: 474.74\n",
            "Episode: 8900 Average: 482.88\n",
            "Episode: 9000 Average: 483.02\n",
            "Episode: 9100 Average: 463.19\n",
            "Episode: 9200 Average: 472.99\n",
            "Episode: 9300 Average: 466.07\n",
            "Episode: 9400 Average: 470.4\n",
            "Episode: 9500 Average: 467.87\n",
            "Episode: 9600 Average: 472.66\n",
            "Episode: 9700 Average: 487.68\n",
            "Episode: 9800 Average: 484.24\n",
            "Episode: 9900 Average: 484.87\n"
          ]
        }
      ]
    },
    {
      "cell_type": "code",
      "source": [
        ""
      ],
      "metadata": {
        "id": "ylaQ7yZNVZvX"
      },
      "execution_count": null,
      "outputs": []
    },
    {
      "cell_type": "code",
      "source": [
        "plt.plot(metrics['ep'], metrics['avg'], label=\"average rewards\")"
      ],
      "metadata": {
        "colab": {
          "base_uri": "https://localhost:8080/",
          "height": 283
        },
        "id": "Pnpe1A7fQ-C0",
        "outputId": "d93c7b88-ca90-449f-88f3-029814ea0361"
      },
      "execution_count": 33,
      "outputs": [
        {
          "output_type": "execute_result",
          "data": {
            "text/plain": [
              "[<matplotlib.lines.Line2D at 0x7f0e2735df10>]"
            ]
          },
          "metadata": {},
          "execution_count": 33
        },
        {
          "output_type": "display_data",
          "data": {
            "text/plain": [
              "<Figure size 432x288 with 1 Axes>"
            ],
            "image/png": "[encoded data removed]"
          },
          "metadata": {
            "needs_background": "light"
          }
        }
      ]
    },
    {
      "cell_type": "markdown",
      "source": [
        "## Part 5: Plot one Animation"
      ],
      "metadata": {
        "id": "w3w9fL5DlRsu"
      }
    },
    {
      "cell_type": "code",
      "source": [
        "def update_scene(num, frames, patch):\n",
        "    patch.set_data(frames[num])\n",
        "    return patch,\n",
        "\n",
        "def plot_animation(frames, repeat=False, interval=20):\n",
        "    fig = plt.figure()\n",
        "    patch = plt.imshow(frames[0])\n",
        "    plt.axis('off')\n",
        "    anim = animation.FuncAnimation(\n",
        "        fig, update_scene, fargs=(frames, patch),\n",
        "        frames=len(frames), repeat=repeat, interval=interval)\n",
        "    plt.close()\n",
        "    return anim\n",
        "\n",
        "frames = []\n",
        "\n",
        "discrete_state = get_discrete_state(env.reset())\n",
        "\n",
        "done = False\n",
        "\n",
        "while not done:\n",
        "  action = np.argmax(q_table[discrete_state])\n",
        "  new_state, reward, done, _ = env.step(action)\n",
        "  discrete_state = get_discrete_state(new_state)\n",
        "\n",
        "  img = env.render(mode=\"rgb_array\")\n",
        "  frames.append(img)\n",
        "\n",
        "plot_animation(frames)"
      ],
      "metadata": {
        "id": "iQ19pAHBCnru"
      },
      "execution_count": null,
      "outputs": []
    },
    {
      "cell_type": "code",
      "source": [
        ""
      ],
      "metadata": {
        "id": "D2k8cFVwCsbL"
      },
      "execution_count": null,
      "outputs": []
    },
    {
      "cell_type": "code",
      "source": [
        ""
      ],
      "metadata": {
        "id": "O0q6Pft9EEUc"
      },
      "execution_count": null,
      "outputs": []
    },
    {
      "cell_type": "code",
      "source": [
        ""
      ],
      "metadata": {
        "id": "TLhaytEaEdDr"
      },
      "execution_count": null,
      "outputs": []
    }
  ]
}