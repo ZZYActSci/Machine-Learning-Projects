{
 "cells": [
  {
   "cell_type": "markdown",
   "metadata": {},
   "source": [
    "# MGSC 662 Group Project - Postal Transportation Routing Optimization \n",
    "### Fall 2021 Group 21\n",
    "\n",
    "Betty Au, Claire Cai, Jiahua Liang, Christina Ming, Ziye Zhang"
   ]
  },
  {
   "cell_type": "markdown",
   "metadata": {},
   "source": [
    "### Note: \n",
    "The base problem formulation is the **Capacitated Vehicle Routing Problem with Time Windows (CVRPTW)** and the extension problem formulation is the **Capacitated Vehicle Routing Problem with Simultaneous Delivery and Pickup and with Time Windows (CVRPSDPTW)**. We started with basic TSP problem and regular Capacitated Vehicle Routing Problem (CVRP) and progressively build up our base model. The TSP and CVRP section of the code can be considered as warm-up and their results were used as comparsion to help us better understand the results of our base model. Therefore, feel free to drump directly to section 3 and 4 for grading purpose."
   ]
  },
  {
   "cell_type": "code",
   "execution_count": 1,
   "metadata": {
    "scrolled": true
   },
   "outputs": [],
   "source": [
    "import pandas as pd\n",
    "import matplotlib.pyplot as plt\n",
    "import gurobipy as gp\n",
    "from gurobipy import *\n",
    "import numpy as np\n",
    "location=pd.read_csv('/Users/ziyezhang/Desktop/MMA/Courses Taken/Fall 2021/MGSC 662/Grp Proj/Submission/Places.csv')"
   ]
  },
  {
   "cell_type": "markdown",
   "metadata": {},
   "source": [
    "## 1. Original TSP problem \n",
    "No constraints on vehicle capcity, customer demand and time\n",
    "\n",
    "#### Parameters\n",
    "$d_{ij}$: the Manhattan distance between location $i$ and $j$\n",
    "\n",
    "$\\{1,...,n\\}$: a set of customer locations\n",
    "\n",
    "$\\{0\\}$: depot\n",
    "\n",
    "#### Decision Variables:  \n",
    "$x_{ij}$: whether the vehicle travels from location $i$ to $j$ (arc)\n",
    "\n",
    "$u_{i}$: represents the the number of steps needed to reach location $i$\n",
    "\n",
    "​\n",
    "$$\n",
    "min \\sum_{i=0}^{n} \\sum_{j=0}^{n} d_{ij} x_{ij}\n",
    "$$\n",
    "\n",
    "s.t. \n",
    "​\n",
    "$$\n",
    "\\sum_{i=0}^{n} x_{ij} = 1, j \\in \\{0, ..., n\\}, (1.1)\n",
    "$$\n",
    "​\n",
    "$$\n",
    "\\sum_{j=0}^{n} x_{ij} = 1, i \\in \\{0, ..., n\\},  (1.2)\n",
    "$$\n",
    "​\n",
    "$$\n",
    "\\sum_{i=0}^{n} x_{ii} = 0, i \\in \\{0, ..., n\\}, (1.3)\n",
    "$$\n",
    "​\n",
    "$$\n",
    "u_{i} - u_{j} + (n+1)x_{ij}\\leq n, i,j \\in \\{1, ..., n\\}, (1.4)\n",
    "$$\n",
    "​\n",
    "$$\n",
    "1 \\leq u_{i} \\leq n, i \\in \\{1, ..., n\\}, (1.5)\n",
    "$$\n",
    "​\n",
    "$$\n",
    "x_{ij} = \\{0, 1\\}, i, j \\in \\{0, ... n\\},  (1.6)\n",
    "$$\n",
    "​"
   ]
  },
  {
   "cell_type": "code",
   "execution_count": 2,
   "metadata": {},
   "outputs": [],
   "source": [
    "Customers=location.iloc[50:100,:]\n",
    "Depot=pd.DataFrame(location.iloc[0,:])"
   ]
  },
  {
   "cell_type": "code",
   "execution_count": 3,
   "metadata": {},
   "outputs": [],
   "source": [
    "df1=pd.concat([Depot.transpose(),Customers])\n",
    "df1=df1[['identity','latitude','longitude']]"
   ]
  },
  {
   "cell_type": "code",
   "execution_count": 4,
   "metadata": {
    "scrolled": true
   },
   "outputs": [
    {
     "data": {
      "text/plain": [
       "51"
      ]
     },
     "execution_count": 4,
     "metadata": {},
     "output_type": "execute_result"
    }
   ],
   "source": [
    "len(df1)"
   ]
  },
  {
   "cell_type": "code",
   "execution_count": 5,
   "metadata": {
    "scrolled": false
   },
   "outputs": [
    {
     "data": {
      "text/plain": [
       "<matplotlib.collections.PathCollection at 0x7f9bc31929a0>"
      ]
     },
     "execution_count": 5,
     "metadata": {},
     "output_type": "execute_result"
    },
    {
     "data": {
      "image/png": "[encoded data removed]",
      "text/plain": [
       "<Figure size 432x288 with 1 Axes>"
      ]
     },
     "metadata": {
      "needs_background": "light"
     },
     "output_type": "display_data"
    }
   ],
   "source": [
    "# Visualize locations\n",
    "plt.plot(df1.longitude[0],df1.latitude[0],c='r',marker='s')\n",
    "plt.scatter(df1.longitude[1:],df1.latitude[1:],c='b')"
   ]
  },
  {
   "cell_type": "code",
   "execution_count": 6,
   "metadata": {
    "scrolled": true
   },
   "outputs": [],
   "source": [
    "df1_array=np.array(df1.iloc[:,1:3])"
   ]
  },
  {
   "cell_type": "code",
   "execution_count": 7,
   "metadata": {},
   "outputs": [],
   "source": [
    "# Calculate Manhattan distance for each pair of locations\n",
    "from scipy.spatial.distance import cityblock\n",
    "N=len(df1_array)\n",
    "d_Manhattan=[]\n",
    "for i in range(N):\n",
    "    tls=[]\n",
    "    for j in range(N):\n",
    "        tls.append(cityblock(df1_array[i,:],df1_array[j,:]))\n",
    "    d_Manhattan.append(tls)\n",
    "    \n",
    "# Manhattan Distance Matrix\n",
    "d_Manhattan=np.asarray(d_Manhattan)"
   ]
  },
  {
   "cell_type": "code",
   "execution_count": 8,
   "metadata": {},
   "outputs": [
    {
     "data": {
      "text/plain": [
       "51"
      ]
     },
     "execution_count": 8,
     "metadata": {},
     "output_type": "execute_result"
    }
   ],
   "source": [
    "n = len(d_Manhattan)\n",
    "n"
   ]
  },
  {
   "cell_type": "code",
   "execution_count": 9,
   "metadata": {},
   "outputs": [
    {
     "name": "stdout",
     "output_type": "stream",
     "text": [
      "Academic license - for non-commercial use only - expires 2022-09-25\n",
      "Using license file /Users/jiahua/gurobi.lic\n"
     ]
    }
   ],
   "source": [
    "model1 = gp.Model(\"TSP\")"
   ]
  },
  {
   "cell_type": "code",
   "execution_count": 10,
   "metadata": {},
   "outputs": [],
   "source": [
    "# Define decision variables\n",
    "x = model1.addVars(n, n, lb = 0, ub = 1, vtype= GRB.BINARY, name = [\"x_\"+str(i)+\"_\"+str(j) for i in range(n) for j in range(n)])\n",
    "# dummy variables representing the number of steps needed to reach each location\n",
    "u = model1.addVars(n, lb = 1, ub = n-1, vtype=GRB.INTEGER, name = [\"u_\"+str(i) for i in range(n)])"
   ]
  },
  {
   "cell_type": "code",
   "execution_count": 11,
   "metadata": {},
   "outputs": [],
   "source": [
    "# Objective Function\n",
    "model1.setObjective(sum(d_Manhattan[i,j]*x[i,j] for i in range(n) for j in range(n)), GRB.MINIMIZE)"
   ]
  },
  {
   "cell_type": "code",
   "execution_count": 12,
   "metadata": {},
   "outputs": [],
   "source": [
    "# Add Constraints\n",
    "\n",
    "# 1.1: must enter each location exactly once\n",
    "for j in range(n):\n",
    "    model1.addConstr(sum(x[i,j] for i in range(n)) ==1)\n",
    "    \n",
    "# 1.2: must exit each location exactly once    \n",
    "for i in range(n):\n",
    "    model1.addConstr(sum(x[i,j] for j in range(n)) ==1)\n",
    "\n",
    "# 1.3: avoid self-loops\n",
    "for i in range(n):\n",
    "    model1.addConstr(x[i,i]==0)\n",
    "\n",
    "# 1.4: avoid subtours\n",
    "for i in range(1,n):\n",
    "    for j in range(1,n):\n",
    "        model1.addConstr(u[i]-u[j]+n*x[i,j] <= n-1)"
   ]
  },
  {
   "cell_type": "code",
   "execution_count": 13,
   "metadata": {},
   "outputs": [],
   "source": [
    "model1.Params.LogToConsole = 0\n",
    "model1.optimize()"
   ]
  },
  {
   "cell_type": "code",
   "execution_count": 14,
   "metadata": {},
   "outputs": [
    {
     "name": "stdout",
     "output_type": "stream",
     "text": [
      "7.05 km\n"
     ]
    }
   ],
   "source": [
    "# the conversion factor for location coordinates: 10,000km per 90 degrees. \n",
    "print(round(model1.objVal*(10000/90),2),'km')"
   ]
  },
  {
   "cell_type": "code",
   "execution_count": 15,
   "metadata": {},
   "outputs": [
    {
     "name": "stdout",
     "output_type": "stream",
     "text": [
      "x_0_44 = 1.0\n",
      "x_1_8 = 1.0\n",
      "x_2_42 = 1.0\n",
      "x_3_2 = 1.0\n",
      "x_4_3 = 1.0\n",
      "x_5_6 = 1.0\n",
      "x_6_11 = 1.0\n",
      "x_7_10 = 1.0\n",
      "x_8_7 = 1.0\n",
      "x_9_36 = 1.0\n",
      "x_10_35 = 1.0\n",
      "x_11_23 = 1.0\n",
      "x_12_13 = 1.0\n",
      "x_13_9 = 1.0\n",
      "x_14_40 = 1.0\n",
      "x_15_0 = 1.0\n",
      "x_16_15 = 1.0\n",
      "x_17_20 = 1.0\n",
      "x_18_16 = 1.0\n",
      "x_19_14 = 1.0\n",
      "x_20_19 = 1.0\n",
      "x_21_4 = 1.0\n",
      "x_22_21 = 1.0\n",
      "x_23_38 = 1.0\n",
      "x_24_18 = 1.0\n",
      "x_25_29 = 1.0\n",
      "x_26_27 = 1.0\n",
      "x_27_24 = 1.0\n",
      "x_28_26 = 1.0\n",
      "x_29_28 = 1.0\n",
      "x_30_33 = 1.0\n",
      "x_31_25 = 1.0\n",
      "x_32_31 = 1.0\n",
      "x_33_32 = 1.0\n",
      "x_34_5 = 1.0\n",
      "x_35_34 = 1.0\n",
      "x_36_1 = 1.0\n",
      "x_37_12 = 1.0\n",
      "x_38_39 = 1.0\n",
      "x_39_30 = 1.0\n",
      "x_40_41 = 1.0\n",
      "x_41_50 = 1.0\n",
      "x_42_17 = 1.0\n",
      "x_43_22 = 1.0\n",
      "x_44_45 = 1.0\n",
      "x_45_43 = 1.0\n",
      "x_46_49 = 1.0\n",
      "x_47_48 = 1.0\n",
      "x_48_37 = 1.0\n",
      "x_49_47 = 1.0\n",
      "x_50_46 = 1.0\n",
      "u_0 = 1.0\n",
      "u_1 = 26.0\n",
      "u_2 = 8.0\n",
      "u_3 = 7.0\n",
      "u_4 = 6.0\n",
      "u_5 = 32.0\n",
      "u_6 = 33.0\n",
      "u_7 = 28.0\n",
      "u_8 = 27.0\n",
      "u_9 = 24.0\n",
      "u_10 = 29.0\n",
      "u_11 = 34.0\n",
      "u_12 = 22.0\n",
      "u_13 = 23.0\n",
      "u_14 = 13.0\n",
      "u_15 = 50.0\n",
      "u_16 = 49.0\n",
      "u_17 = 10.0\n",
      "u_18 = 48.0\n",
      "u_19 = 12.0\n",
      "u_20 = 11.0\n",
      "u_21 = 5.0\n",
      "u_22 = 4.0\n",
      "u_23 = 35.0\n",
      "u_24 = 47.0\n",
      "u_25 = 42.0\n",
      "u_26 = 45.0\n",
      "u_27 = 46.0\n",
      "u_28 = 44.0\n",
      "u_29 = 43.0\n",
      "u_30 = 38.0\n",
      "u_31 = 41.0\n",
      "u_32 = 40.0\n",
      "u_33 = 39.0\n",
      "u_34 = 31.0\n",
      "u_35 = 30.0\n",
      "u_36 = 25.0\n",
      "u_37 = 21.0\n",
      "u_38 = 36.0\n",
      "u_39 = 37.0\n",
      "u_40 = 14.0\n",
      "u_41 = 15.0\n",
      "u_42 = 9.0\n",
      "u_43 = 3.0\n",
      "u_44 = 1.0\n",
      "u_45 = 2.0\n",
      "u_46 = 17.0\n",
      "u_47 = 19.0\n",
      "u_48 = 20.0\n",
      "u_49 = 18.0\n",
      "u_50 = 16.0\n"
     ]
    }
   ],
   "source": [
    "for var in model1.getVars():\n",
    "    if var.x > 0: # just print the non-zero decision variables \n",
    "        print(var.varName, \"=\", round(var.x,2))"
   ]
  },
  {
   "cell_type": "code",
   "execution_count": 16,
   "metadata": {},
   "outputs": [
    {
     "name": "stdout",
     "output_type": "stream",
     "text": [
      "The Optimal Delivery Route\n",
      "0 > 44 > 45 > 43 > 22 > 21 > 4 > 3 > 2 > 42 > 17 > 20 > 19 > 14 > 40 > 41 > 50 > 46 > 49 > 47 > 48 > 37 > 12 > 13 > 9 > 36 > 1 > 8 > 7 > 10 > 35 > 34 > 5 > 6 > 11 > 23 > 38 > 39 > 30 > 33 > 32 > 31 > 25 > 29 > 28 > 26 > 27 > 24 > 18 > 16 > 15 > 0\n"
     ]
    }
   ],
   "source": [
    "# show optimal route\n",
    "print(\"The Optimal Delivery Route\")\n",
    "cycle = [0, \" > \"]\n",
    "k = 0\n",
    "for i in range(1,n):\n",
    "    for j in range(1,n):\n",
    "        name = 'x_'+str(k)+'_'+str(j)\n",
    "        if model1.getVarByName(name).x >0:\n",
    "            cycle.append(j)\n",
    "            cycle.append(\" > \")\n",
    "            k=j\n",
    "        \n",
    "cycle.append(0)\n",
    "print(*cycle, sep=\"\")"
   ]
  },
  {
   "cell_type": "code",
   "execution_count": 17,
   "metadata": {},
   "outputs": [
    {
     "data": {
      "text/plain": [
       "<matplotlib.collections.PathCollection at 0x7f9bacfc89d0>"
      ]
     },
     "execution_count": 17,
     "metadata": {},
     "output_type": "execute_result"
    },
    {
     "data": {
      "image/png": "[encoded data removed]",
      "text/plain": [
       "<Figure size 864x864 with 1 Axes>"
      ]
     },
     "metadata": {
      "needs_background": "light"
     },
     "output_type": "display_data"
    }
   ],
   "source": [
    "# Visualize optimal route\n",
    "active_arcs = [a for a in [(i,j) for i in range(N) for j in range(N)] if x[a].x > 0]\n",
    "yc=df1_array[:,0]\n",
    "xc=df1_array[:,1]\n",
    "plt.figure(figsize=(12,12))\n",
    "plt.rc('xtick',labelsize=15)\n",
    "plt.rc('ytick',labelsize=15)\n",
    "for i, j in active_arcs:\n",
    "    plt.plot([xc[i], xc[j]], [yc[i], yc[j]], c='g', zorder=0)\n",
    "plt.plot(xc[0], yc[0], c='r', marker='s')\n",
    "plt.scatter(xc[1:], yc[1:], c='b')"
   ]
  },
  {
   "cell_type": "markdown",
   "metadata": {},
   "source": [
    "## 2. Capcitated Vehicle Routing Problem (CVRP) \n",
    "\n",
    "On top of original TSP in section 1, each vehicle has limited capacity, each customer location has specific delivery demand\n",
    "\n",
    "#### Parameters\n",
    "$d_{ij}$: the Manhattan distance between location $i$ and $j$\n",
    "\n",
    "$q_{i}$: the delivery demand of customer $i$  \n",
    "\n",
    "$Q$: vehicle capacity  \n",
    "\n",
    "$\\{1,...,n\\}$: a set of costomers\n",
    "\n",
    "$\\{0\\}$: depot\n",
    "\n",
    "#### Decision Variables:  \n",
    "$x_{ij}$: whether the vehicle travels from location $i$ to $j$ (arc)\n",
    "\n",
    "$y_{i}$: cumulative delivery demand that has been delivered after reaching location $i$\n",
    "\n",
    "​\n",
    "$$\n",
    "min \\sum_{i=0}^{n} \\sum_{j=0}^{n} d_{ij} x_{ij}\n",
    "$$\n",
    "\n",
    "s.t. \n",
    "​\n",
    "$$\n",
    "\\sum_{i=0}^{n} x_{ij} = 1, j \\in \\{1, ..., n\\}, (2.1)\n",
    "$$\n",
    "​\n",
    "$$\n",
    "\\sum_{j=0}^{n} x_{ij} = 1, i \\in \\{1, ..., n\\},  (2.2)\n",
    "$$\n",
    "​\n",
    "$$\n",
    "\\sum_{i=0}^{n} x_{ii} = 0, i \\in \\{0, ..., n\\}, (2.3)\n",
    "$$\n",
    "​\n",
    "$$\n",
    "y_{j} \\geq y_{i} + q_{j}x_{ij} - Q(1-x_{ij}), i,j \\in \\{1, ..., n\\}, (2.4)\n",
    "$$\n",
    "​\n",
    "$$\n",
    "q_{i} \\leq y_{i} \\leq Q, i \\in \\{1, ..., n\\}, (2.5)\n",
    "$$\n",
    "​\n",
    "$$\n",
    "x_{ij} = \\{0, 1\\}, i, j \\in \\{0, ... n\\},  (2.6)\n",
    "$$\n",
    "​"
   ]
  },
  {
   "cell_type": "code",
   "execution_count": 18,
   "metadata": {},
   "outputs": [],
   "source": [
    "Customers=location.iloc[50:100,:]\n",
    "Depot=pd.DataFrame(location.iloc[0,:])\n",
    "df2=pd.concat([Depot.transpose(),Customers])\n",
    "df2=df2[['identity','latitude','longitude']]"
   ]
  },
  {
   "cell_type": "code",
   "execution_count": 19,
   "metadata": {
    "scrolled": true
   },
   "outputs": [
    {
     "data": {
      "text/plain": [
       "<matplotlib.collections.PathCollection at 0x7f9bad290490>"
      ]
     },
     "execution_count": 19,
     "metadata": {},
     "output_type": "execute_result"
    },
    {
     "data": {
      "image/png": "[encoded data removed]",
      "text/plain": [
       "<Figure size 432x288 with 1 Axes>"
      ]
     },
     "metadata": {
      "needs_background": "light"
     },
     "output_type": "display_data"
    }
   ],
   "source": [
    "# Visualize locations\n",
    "plt.plot(df2.longitude[0],df1.latitude[0],c='r',marker='s')\n",
    "plt.scatter(df2.longitude[1:],df1.latitude[1:],c='b')"
   ]
  },
  {
   "cell_type": "code",
   "execution_count": 20,
   "metadata": {},
   "outputs": [],
   "source": [
    "df2_array=np.array(df2.iloc[:,1:3])"
   ]
  },
  {
   "cell_type": "code",
   "execution_count": 21,
   "metadata": {},
   "outputs": [],
   "source": [
    "# Calculate Manhattan distance for each pair of locations\n",
    "from scipy.spatial.distance import cityblock\n",
    "N=len(df2_array)\n",
    "d_Manhattan=[]\n",
    "for i in range(N):\n",
    "    tls=[]\n",
    "    for j in range(N):\n",
    "        tls.append(cityblock(df2_array[i,:],df2_array[j,:]))\n",
    "    d_Manhattan.append(tls)\n",
    "\n",
    "# Manhattan Distance Matrix    \n",
    "d_Manhattan=np.asarray(d_Manhattan)"
   ]
  },
  {
   "cell_type": "code",
   "execution_count": 22,
   "metadata": {},
   "outputs": [
    {
     "data": {
      "text/plain": [
       "51"
      ]
     },
     "execution_count": 22,
     "metadata": {},
     "output_type": "execute_result"
    }
   ],
   "source": [
    "n = len(d_Manhattan)\n",
    "n"
   ]
  },
  {
   "cell_type": "code",
   "execution_count": 23,
   "metadata": {},
   "outputs": [],
   "source": [
    "# The capacity of a delivery vehicle\n",
    "Q = 50  \n",
    "# simulation of customer delivery demand\n",
    "np.random.seed(0)\n",
    "q = {i: np.random.choice(np.arange(1,8),p=[0.5,0.25,0.15,0.05,0.025,0.015,0.01]) for i in range(1, n)}"
   ]
  },
  {
   "cell_type": "code",
   "execution_count": 24,
   "metadata": {},
   "outputs": [],
   "source": [
    "model2 = gp.Model(\"CVRP\")"
   ]
  },
  {
   "cell_type": "code",
   "execution_count": 25,
   "metadata": {},
   "outputs": [],
   "source": [
    "# Define decision variables\n",
    "# representing an arc from location i to j\n",
    "x = model2.addVars(n, n, lb = 0, ub = 1, vtype= GRB.BINARY, name = [\"x_\"+str(i)+\"_\"+str(j) for i in range(n) for j in range(n)])\n",
    "# representing the cumulative demand that has been delivered after reaching each location\n",
    "y = model2.addVars(n, lb = 0, vtype=GRB.CONTINUOUS, name = [\"y_\"+str(i) for i in range(n)])"
   ]
  },
  {
   "cell_type": "code",
   "execution_count": 26,
   "metadata": {},
   "outputs": [],
   "source": [
    "# Objective Function\n",
    "model2.setObjective(sum(d_Manhattan[i,j]*x[i,j] for i in range(n) for j in range(n)), GRB.MINIMIZE)"
   ]
  },
  {
   "cell_type": "code",
   "execution_count": 27,
   "metadata": {
    "scrolled": false
   },
   "outputs": [],
   "source": [
    "# Add constraints\n",
    "\n",
    "# 2.1: must enter each *customer* location exactly once (excluding the depot)\n",
    "for j in range(1,n):\n",
    "    model2.addConstr(sum(x[i,j] for i in range(n)) == 1)\n",
    "    \n",
    "# 2.2: must exit each *customer* location exactly once (excluding the depot)\n",
    "for i in range(1,n):\n",
    "    model2.addConstr(sum(x[i,j] for j in range(n)) == 1)\n",
    "\n",
    "# 2.3: avoid self-loops\n",
    "for i in range(n):\n",
    "    model2.addConstr(x[i,i] == 0)\n",
    "    \n",
    "# 2.4: update cumulative delivery and avoid subtours\n",
    "for i in range(1,n):\n",
    "    for j in range(1,n):\n",
    "        model2.addConstr(y[j] >= y[i]+q[j]*x[i,j] - Q*(1-x[i,j]))\n",
    "\n",
    "# 2.5: constraints on the cumulative delivery\n",
    "for i in range(1, n):\n",
    "    model2.addConstr(y[i] >= q[i])\n",
    "    model2.addConstr(y[i] <= Q)"
   ]
  },
  {
   "cell_type": "code",
   "execution_count": 28,
   "metadata": {
    "scrolled": true
   },
   "outputs": [
    {
     "name": "stdout",
     "output_type": "stream",
     "text": [
      "Changed value of parameter MIPGap to 0.1\n",
      "   Prev: 0.0001  Min: 0.0  Max: inf  Default: 0.0001\n",
      "Changed value of parameter TimeLimit to 1000.0\n",
      "   Prev: inf  Min: 0.0  Max: inf  Default: inf\n",
      "Gurobi Optimizer version 9.1.2 build v9.1.2rc0 (mac64)\n",
      "Thread count: 2 physical cores, 4 logical processors, using up to 4 threads\n",
      "Optimize a model with 2751 rows, 2652 columns and 12651 nonzeros\n",
      "Model fingerprint: 0x4cd5cb54\n",
      "Variable types: 51 continuous, 2601 integer (2601 binary)\n",
      "Coefficient statistics:\n",
      "  Matrix range     [1e+00, 6e+01]\n",
      "  Objective range  [1e-06, 2e-02]\n",
      "  Bounds range     [1e+00, 1e+00]\n",
      "  RHS range        [1e+00, 5e+01]\n",
      "Found heuristic solution: objective 0.4204809\n",
      "Presolve removed 201 rows and 52 columns\n",
      "Presolve time: 0.03s\n",
      "Presolved: 2550 rows, 2600 columns, 12350 nonzeros\n",
      "Variable types: 50 continuous, 2550 integer (2550 binary)\n",
      "\n",
      "Root relaxation: objective 4.852777e-02, 161 iterations, 0.00 seconds\n",
      "\n",
      "    Nodes    |    Current Node    |     Objective Bounds      |     Work\n",
      " Expl Unexpl |  Obj  Depth IntInf | Incumbent    BestBd   Gap | It/Node Time\n",
      "\n",
      "     0     0    0.04853    0   76    0.42048    0.04853  88.5%     -    0s\n",
      "H    0     0                       0.2707803    0.04853  82.1%     -    0s\n",
      "H    0     0                       0.0785175    0.04853  38.2%     -    0s\n",
      "     0     0    0.05473    0  109    0.07852    0.05473  30.3%     -    0s\n",
      "H    0     0                       0.0778577    0.05473  29.7%     -    0s\n",
      "     0     0    0.05473    0  108    0.07786    0.05473  29.7%     -    0s\n",
      "     0     0    0.05625    0   97    0.07786    0.05625  27.7%     -    0s\n",
      "     0     0    0.05625    0  103    0.07786    0.05625  27.7%     -    0s\n",
      "     0     0    0.05654    0  100    0.07786    0.05654  27.4%     -    0s\n",
      "     0     0    0.05712    0  102    0.07786    0.05712  26.6%     -    0s\n",
      "     0     0    0.05712    0  102    0.07786    0.05712  26.6%     -    1s\n",
      "     0     0    0.05712    0  103    0.07786    0.05712  26.6%     -    1s\n",
      "     0     0    0.05712    0  103    0.07786    0.05712  26.6%     -    1s\n",
      "     0     0    0.05712    0  103    0.07786    0.05712  26.6%     -    1s\n",
      "     0     0    0.05712    0   84    0.07786    0.05712  26.6%     -    1s\n",
      "     0     0    0.05712    0   91    0.07786    0.05712  26.6%     -    1s\n",
      "     0     0    0.05712    0   79    0.07786    0.05712  26.6%     -    1s\n",
      "     0     0    0.05712    0   79    0.07786    0.05712  26.6%     -    1s\n",
      "     0     2    0.05712    0   79    0.07786    0.05712  26.6%     -    1s\n",
      "H   29    32                       0.0764765    0.05796  24.2%  15.3    1s\n",
      "H  736   645                       0.0764631    0.05798  24.2%   6.7    5s\n",
      "H  738   614                       0.0763479    0.05798  24.1%   6.7    6s\n",
      "   751   622    0.07500  130   74    0.07635    0.05820  23.8%   6.6   10s\n",
      "H  785   615                       0.0759486    0.05846  23.0%  11.8   12s\n",
      "H  786   587                       0.0751184    0.05846  22.2%  11.8   13s\n",
      "   935   705    0.06891   55   34    0.07512    0.05846  22.2%  12.3   15s\n",
      "  1679  1063 infeasible  157         0.07512    0.05846  22.2%  12.5   20s\n",
      "H 1975  1103                       0.0746975    0.05846  21.7%  12.4   23s\n",
      "  2109  1216    0.06285   91   67    0.07470    0.05846  21.7%  12.3   25s\n",
      "H 2167  1182                       0.0746407    0.05846  21.7%  12.3   26s\n",
      "  2873  1788    0.06961   78   73    0.07464    0.05846  21.7%  12.5   30s\n",
      "  3563  2356 infeasible   86         0.07464    0.05846  21.7%  12.4   35s\n",
      "H 4444  2679                       0.0732999    0.05848  20.2%  12.3   39s\n",
      "  4445  2831    0.06188   23   74    0.07330    0.05848  20.2%  12.3   40s\n",
      "  5331  3480    0.06314   89   70    0.07330    0.05851  20.2%  12.3   46s\n",
      "H 5615  3494                       0.0728257    0.05852  19.6%  12.2   47s\n",
      "  5982  3865 infeasible   93         0.07283    0.05853  19.6%  12.1   50s\n",
      "  6853  4391    0.06180   26   30    0.07283    0.05857  19.6%  12.0   56s\n",
      "H 6890  4381                       0.0727839    0.05857  19.5%  12.1   56s\n",
      "  7319  4885    0.06506   64   52    0.07278    0.05860  19.5%  12.1   61s\n",
      "  8194  5437    0.06615   22   65    0.07278    0.05866  19.4%  12.3   65s\n",
      "  8874  5972    0.06747   37   57    0.07278    0.05869  19.4%  12.6   70s\n",
      "  9928  6693    0.06566   32   41    0.07278    0.05871  19.3%  12.8   75s\n",
      "H 9999  6638                       0.0726820    0.05871  19.2%  12.8   75s\n",
      "H10317  6777                       0.0723918    0.05873  18.9%  12.9   78s\n",
      " 10668  7037    0.06771   72   82    0.07239    0.05874  18.9%  12.9   80s\n",
      " 11352  7563    0.06298   26   68    0.07239    0.05878  18.8%  13.0   85s\n",
      " 12274  8269    0.06998   50   56    0.07239    0.05882  18.7%  13.1   91s\n",
      " 13190  8808     cutoff   31         0.07239    0.05885  18.7%  13.2   95s\n",
      " 13978  9516    0.06367   36   31    0.07239    0.05892  18.6%  13.1  100s\n",
      " 14558  9763    0.07123   45   79    0.07239    0.05894  18.6%  13.1  128s\n",
      " 14561  9765    0.06565   29   62    0.07239    0.05894  18.6%  13.1  130s\n",
      " 14568  9770    0.06602   43   97    0.07239    0.05894  18.6%  13.1  135s\n",
      " 14573  9773    0.06585   24   90    0.07239    0.05894  18.6%  13.1  140s\n",
      " 14578  9776    0.06773   52  116    0.07239    0.05894  18.6%  13.1  145s\n",
      " 14583  9780    0.06940   65  110    0.07239    0.05905  18.4%  13.1  150s\n",
      " 14588  9783    0.06461   52  122    0.07239    0.05912  18.3%  13.1  155s\n",
      " 14593  9786    0.06761   28   96    0.07239    0.05927  18.1%  13.1  160s\n",
      " 14598  9790    0.06315   23  116    0.07239    0.05935  18.0%  13.1  165s\n",
      " 14603  9793    0.06852   49   95    0.07239    0.05935  18.0%  13.1  170s\n",
      " 14607  9796    0.06914   46   87    0.07239    0.05935  18.0%  13.0  175s\n",
      " 14613  9800    0.06476   33   98    0.07239    0.05936  18.0%  13.0  180s\n",
      " 14618  9803    0.06864   32  103    0.07239    0.05936  18.0%  13.0  185s\n",
      "H14622  9314                       0.0723918    0.05939  18.0%  13.0  189s\n",
      " 14628  9321    0.05953   25   67    0.07239    0.05939  18.0%  13.8  190s\n",
      " 14752  9391    0.06632   55   43    0.07239    0.05939  18.0%  13.8  195s\n",
      "H14934  8965                       0.0721625    0.05939  17.7%  13.8  199s\n",
      " 14967  8974    0.06651  117   46    0.07216    0.05939  17.7%  13.9  200s\n",
      "H15205  8614                       0.0720884    0.05940  17.6%  13.8  204s\n",
      " 15207  8666    0.06470   66   40    0.07209    0.05940  17.6%  13.8  205s\n",
      "H15232  8236                       0.0720879    0.05940  17.6%  13.8  205s\n",
      " 15413  8313    0.07129   66   31    0.07209    0.05948  17.5%  13.8  210s\n",
      " 15842  8494    0.07196   57   33    0.07209    0.05955  17.4%  13.8  215s\n",
      " 16641  8870    0.06906  110   47    0.07209    0.05962  17.3%  13.7  220s\n",
      " 17443  9248    0.06833   79   34    0.07209    0.05978  17.1%  13.7  225s\n",
      " 18311  9659    0.07133   81   40    0.07209    0.05995  16.8%  13.7  230s\n",
      " 19119  9991    0.06435   30  102    0.07209    0.06016  16.5%  13.7  235s\n",
      " 20048 10468    0.06987   86   34    0.07209    0.06035  16.3%  13.7  240s\n",
      " 21103 10998    0.06880  140   33    0.07209    0.06058  16.0%  13.6  245s\n",
      " 21903 11389    0.06542   53   53    0.07209    0.06075  15.7%  13.7  250s\n",
      " 23021 11840    0.06327   37   42    0.07209    0.06089  15.5%  13.6  255s\n",
      " 23744 12135    0.06852  195   46    0.07209    0.06094  15.5%  13.8  260s\n",
      " 24393 12466    0.06936   55   49    0.07209    0.06102  15.4%  13.9  265s\n",
      " 25445 12838    0.06822   61   47    0.07209    0.06116  15.2%  13.9  271s\n",
      " 26298 13206    0.07028   45   47    0.07209    0.06124  15.1%  13.9  275s\n",
      " 27204 13612    0.06618   41   32    0.07209    0.06142  14.8%  13.9  280s\n",
      " 27810 13853    0.06502   52   59    0.07209    0.06150  14.7%  13.9  285s\n",
      " 28636 14207    0.07206   53   52    0.07209    0.06158  14.6%  13.9  290s\n",
      " 29331 14449     cutoff  146         0.07209    0.06162  14.5%  14.0  295s\n",
      " 30200 14830    0.06611   48   37    0.07209    0.06182  14.2%  14.1  300s\n",
      " 31147 15169    0.06634   41   38    0.07209    0.06194  14.1%  14.1  305s\n",
      " 32003 15488    0.06363   51   47    0.07209    0.06209  13.9%  14.1  311s\n",
      " 32632 15795    0.06359   72   61    0.07209    0.06220  13.7%  14.1  315s\n",
      " 33713 16237    0.06920   42   55    0.07209    0.06240  13.4%  14.0  320s\n",
      " 34519 16606    0.06609  122   57    0.07209    0.06250  13.3%  14.0  325s\n"
     ]
    },
    {
     "name": "stdout",
     "output_type": "stream",
     "text": [
      "*34852 15669             251       0.0715669    0.06252  12.6%  13.9  327s\n",
      " 35121 15918    0.06681   70   50    0.07157    0.06256  12.6%  13.9  330s\n",
      " 35829 16167    0.06458   30   93    0.07157    0.06264  12.5%  14.0  335s\n",
      " 36726 16563    0.06347   58   71    0.07157    0.06270  12.4%  14.0  340s\n",
      " 37807 17167    0.07114   88   38    0.07157    0.06273  12.3%  14.0  345s\n",
      " 38799 17973    0.06388   65   71    0.07157    0.06274  12.3%  14.0  350s\n",
      " 39661 18597    0.06927   74   38    0.07157    0.06274  12.3%  14.1  355s\n",
      " 40808 19470    0.06577  102   68    0.07157    0.06274  12.3%  14.2  361s\n",
      " 41241 19764    0.06753   71   61    0.07157    0.06274  12.3%  14.2  367s\n",
      "H41404 13425                       0.0687705    0.06274  8.76%  14.2  367s\n",
      "\n",
      "Cutting planes:\n",
      "  Learned: 14\n",
      "  Gomory: 23\n",
      "  Cover: 30\n",
      "  Implied bound: 13\n",
      "  Projected implied bound: 41\n",
      "  Clique: 3\n",
      "  MIR: 36\n",
      "  StrongCG: 2\n",
      "  Flow cover: 137\n",
      "  Inf proof: 4\n",
      "  Zero half: 38\n",
      "  RLT: 12\n",
      "  Relax-and-lift: 26\n",
      "\n",
      "Explored 41405 nodes (588706 simplex iterations) in 367.97 seconds\n",
      "Thread count was 4 (of 4 available processors)\n",
      "\n",
      "Solution count 10: 0.0687705 0.0715669 0.0720879 ... 0.0728257\n",
      "\n",
      "Optimal solution found (tolerance 1.00e-01)\n",
      "Best objective 6.877046000002e-02, best bound 6.274293659576e-02, gap 8.7647%\n"
     ]
    }
   ],
   "source": [
    "model2.Params.MIPGap = 0.1\n",
    "model2.Params.TimeLimit = 1000  # runtime limit in seconds\n",
    "model2.optimize()"
   ]
  },
  {
   "cell_type": "code",
   "execution_count": 29,
   "metadata": {
    "scrolled": false
   },
   "outputs": [
    {
     "data": {
      "text/plain": [
       "<matplotlib.collections.PathCollection at 0x7f9b9cfd0940>"
      ]
     },
     "execution_count": 29,
     "metadata": {},
     "output_type": "execute_result"
    },
    {
     "data": {
      "image/png": "[encoded data removed]",
      "text/plain": [
       "<Figure size 864x864 with 1 Axes>"
      ]
     },
     "metadata": {
      "needs_background": "light"
     },
     "output_type": "display_data"
    }
   ],
   "source": [
    "active_arcs = [a for a in [(i,j) for i in range(n) for j in range(n)] if x[a].x > 0.99]\n",
    "yc=df2_array[:,0]\n",
    "xc=df2_array[:,1]\n",
    "plt.figure(figsize=(12,12))\n",
    "plt.rc('xtick',labelsize=15)\n",
    "plt.rc('ytick',labelsize=15)\n",
    "for i, j in active_arcs:\n",
    "    plt.plot([xc[i], xc[j]], [yc[i], yc[j]], c='g', zorder=0)\n",
    "plt.plot(xc[0], yc[0], c='r', marker='s')\n",
    "plt.scatter(xc[1:], yc[1:], c='b')"
   ]
  },
  {
   "cell_type": "code",
   "execution_count": 30,
   "metadata": {
    "scrolled": true
   },
   "outputs": [
    {
     "name": "stdout",
     "output_type": "stream",
     "text": [
      "7.64 km\n"
     ]
    }
   ],
   "source": [
    "# the conversion factor for location coordinates: 10,000km per 90 degrees. \n",
    "print(round(model2.objVal*(10000/90),2),'km')"
   ]
  },
  {
   "cell_type": "code",
   "execution_count": 31,
   "metadata": {},
   "outputs": [
    {
     "name": "stdout",
     "output_type": "stream",
     "text": [
      "x_0_14 = 1.0\n",
      "x_0_41 = 1.0\n",
      "x_0_44 = 1.0\n",
      "x_1_36 = 1.0\n",
      "x_2_42 = 1.0\n",
      "x_3_38 = 1.0\n",
      "x_4_3 = 1.0\n",
      "x_5_6 = 1.0\n",
      "x_6_11 = 1.0\n",
      "x_7_10 = 1.0\n",
      "x_8_7 = 1.0\n",
      "x_9_1 = 1.0\n",
      "x_10_35 = 1.0\n",
      "x_11_23 = 1.0\n",
      "x_12_13 = 1.0\n",
      "x_13_9 = 1.0\n",
      "x_14_48 = 1.0\n",
      "x_15_0 = 1.0\n",
      "x_16_15 = 1.0\n",
      "x_17_0 = 1.0\n",
      "x_18_16 = 1.0\n",
      "x_19_17 = 1.0\n",
      "x_20_19 = 1.0\n",
      "x_21_4 = 1.0\n",
      "x_22_21 = 1.0\n",
      "x_23_2 = 1.0\n",
      "x_24_18 = 1.0\n",
      "x_25_28 = 1.0\n",
      "x_26_27 = 1.0\n",
      "x_27_24 = 1.0\n",
      "x_28_29 = 1.0\n",
      "x_29_26 = 1.0\n",
      "x_30_33 = 1.0\n",
      "x_31_25 = 1.0\n",
      "x_32_31 = 1.0\n",
      "x_33_32 = 1.0\n",
      "x_34_5 = 1.0\n",
      "x_35_34 = 1.0\n",
      "x_36_8 = 1.0\n",
      "x_37_12 = 1.0\n",
      "x_38_39 = 1.0\n",
      "x_39_30 = 1.0\n",
      "x_40_0 = 1.0\n",
      "x_41_40 = 1.0\n",
      "x_42_20 = 1.0\n",
      "x_43_22 = 1.0\n",
      "x_44_45 = 1.0\n",
      "x_45_43 = 1.0\n",
      "x_46_47 = 1.0\n",
      "x_47_49 = 1.0\n",
      "x_48_46 = 1.0\n",
      "x_49_50 = 1.0\n",
      "x_50_37 = 1.0\n",
      "y_1 = 23.0\n",
      "y_2 = 42.0\n",
      "y_3 = 18.0\n",
      "y_4 = 16.0\n",
      "y_5 = 34.0\n",
      "y_6 = 36.0\n",
      "y_7 = 29.0\n",
      "y_8 = 28.0\n",
      "y_9 = 21.0\n",
      "y_10 = 30.0\n",
      "y_11 = 39.0\n",
      "y_12 = 14.0\n",
      "y_13 = 16.0\n",
      "y_14 = 4.0\n",
      "y_15 = 50.0\n",
      "y_16 = 49.0\n",
      "y_17 = 50.0\n",
      "y_18 = 48.0\n",
      "y_19 = 49.0\n",
      "y_20 = 46.0\n",
      "y_21 = 14.0\n",
      "y_22 = 8.0\n",
      "y_23 = 40.0\n",
      "y_24 = 45.0\n",
      "y_25 = 33.0\n",
      "y_26 = 41.0\n",
      "y_27 = 42.0\n",
      "y_28 = 37.0\n",
      "y_29 = 39.0\n",
      "y_30 = 25.0\n",
      "y_31 = 32.0\n",
      "y_32 = 31.0\n",
      "y_33 = 26.0\n",
      "y_34 = 33.0\n",
      "y_35 = 31.0\n",
      "y_36 = 25.0\n",
      "y_37 = 12.0\n",
      "y_38 = 20.0\n",
      "y_39 = 24.0\n",
      "y_40 = 50.0\n",
      "y_41 = 1.0\n",
      "y_42 = 43.0\n",
      "y_43 = 5.0\n",
      "y_44 = 1.0\n",
      "y_45 = 3.0\n",
      "y_46 = 7.0\n",
      "y_47 = 8.0\n",
      "y_48 = 5.0\n",
      "y_49 = 9.0\n",
      "y_50 = 10.0\n"
     ]
    }
   ],
   "source": [
    "for var in model2.getVars():\n",
    "    if var.x > 0: # just print the decision variables that really matters(non zero)\n",
    "        print(var.varName, \"=\", round(var.x,2))"
   ]
  },
  {
   "cell_type": "code",
   "execution_count": 32,
   "metadata": {
    "scrolled": false
   },
   "outputs": [],
   "source": [
    "# get the non-zero decision variable names\n",
    "var_name = [var.varName for var in model2.getVars() if var.x > 0]"
   ]
  },
  {
   "cell_type": "code",
   "execution_count": 33,
   "metadata": {},
   "outputs": [],
   "source": [
    "# get the decision variable names that start with \"x_0_\"\n",
    "x_0_ = [varname for varname in var_name if \"x_0_\" in varname]"
   ]
  },
  {
   "cell_type": "code",
   "execution_count": 34,
   "metadata": {
    "scrolled": true
   },
   "outputs": [
    {
     "name": "stdout",
     "output_type": "stream",
     "text": [
      "The optimal delivery route for vehicle 1\n",
      "0 > 14 > 48 > 46 > 47 > 49 > 50 > 37 > 12 > 13 > 9 > 1 > 36 > 8 > 7 > 10 > 35 > 34 > 5 > 6 > 11 > 23 > 2 > 42 > 20 > 19 > 17 > 0\n",
      "The optimal delivery route for vehicle 2\n",
      "0 > 41 > 40 > 0\n",
      "The optimal delivery route for vehicle 3\n",
      "0 > 44 > 45 > 43 > 22 > 21 > 4 > 3 > 38 > 39 > 30 > 33 > 32 > 31 > 25 > 28 > 29 > 26 > 27 > 24 > 18 > 16 > 15 > 0\n"
     ]
    }
   ],
   "source": [
    "# show the optimal route for each vehicle\n",
    "count = 1\n",
    "for i in x_0_:\n",
    "    end = i.split(\"_\")[2] \n",
    "    route = [0, \" > \"]\n",
    "    for k in range(len(x_0_)+n-1):\n",
    "        for j in var_name[:len(x_0_)+n-1]:\n",
    "            start = j.split(\"_\")[1]\n",
    "            if start == end:\n",
    "                route.append(int(start))\n",
    "                route.append(\" > \")\n",
    "                end = j.split(\"_\")[2]\n",
    "        if end == \"0\":\n",
    "            break\n",
    "     \n",
    "    route.append(0)\n",
    "    print(\"The optimal delivery route for vehicle \"+str(count))\n",
    "    print(*route, sep=\"\")\n",
    "    count += 1        "
   ]
  },
  {
   "cell_type": "markdown",
   "metadata": {},
   "source": [
    "## 3. Base Problem: Capcitated Vehicle Routing Problem with Time Windows (CVRPTW)\n",
    "\n",
    "On top of CVRP in section 2, customers can specify time windows for delivery, customer service time and traveling time are added to the formulation\n",
    "\n",
    "#### Parameters\n",
    "$d_{ij}$: the Manhattan distance between location $i$ and $j$\n",
    "\n",
    "$q_{i}$: the delivery demand of customer $i$  \n",
    "\n",
    "$Q$: vehicle capacity  \n",
    "\n",
    "$w^a_{i}$: start of time window for customer $i$ \n",
    "\n",
    "$w^b_{i}$: end of time window for customer $i$\n",
    "\n",
    "$s_{i}$: service time for customer $i$\n",
    "\n",
    "$t_{ij}$: travel time from location $i$ to $j$\n",
    "\n",
    "$\\{1,...,n\\}$: a set of customers\n",
    "\n",
    "$\\{0\\}$: depot\n",
    "\n",
    "#### Decision Variables:  \n",
    "$x_{ij}$: whether the vehicle travels from location $i$ to $j$ (arc)\n",
    "\n",
    "$y_{i}$: cumulative delivery demand that has been delivered after reaching location $i$\n",
    "\n",
    "$w_{i}$: service start time for customer $i$\n",
    "\n",
    "​\n",
    "$$\n",
    "min \\sum_{i=0}^{n} \\sum_{j=0}^{n} d_{ij} x_{ij}\n",
    "$$\n",
    "\n",
    "s.t. \n",
    "​\n",
    "$$\n",
    "\\sum_{i=0}^{n} x_{ij} = 1, j \\in \\{1, ..., n\\}, (3.1)\n",
    "$$\n",
    "​\n",
    "$$\n",
    "\\sum_{j=0}^{n} x_{ij} = 1, i \\in \\{1, ..., n\\},  (3.2)\n",
    "$$\n",
    "​\n",
    "$$\n",
    "\\sum_{i=0}^{n} x_{ii} = 0, i \\in \\{0, ..., n\\}, (3.3)\n",
    "$$\n",
    "​\n",
    "$$\n",
    "y_{j} \\geq y_{i} + q_{j}x_{ij} - Q(1-x_{ij}), i,j \\in \\{1, ..., n\\}, (3.4)\n",
    "$$\n",
    "​\n",
    "$$\n",
    "q_{i} \\leq y_{i} \\leq Q, i \\in \\{1, ..., n\\}, (3.5)\n",
    "$$\n",
    "​\n",
    "$$\n",
    "w_{j} \\geq w_{i} + (s_{i} + t_{ij})x_{ij} - M(1-x_{ij}), i \\in \\{0, ..., n\\},j \\in \\{1, ..., n\\} (3.6)\n",
    "$$\n",
    "​\n",
    "$$\n",
    "w^a_{i} \\leq w_{i} \\leq w^b_{i}, i \\in \\{0, ..., n\\}, (3.7)\n",
    "$$\n",
    "​\n",
    "$$\n",
    "x_{ij} = \\{0, 1\\}, i, j \\in \\{0, ... n\\},  (3.8)\n",
    "$$\n",
    "​"
   ]
  },
  {
   "cell_type": "code",
   "execution_count": 35,
   "metadata": {},
   "outputs": [],
   "source": [
    "Customers=location.iloc[50:100,:]\n",
    "Depot=pd.DataFrame(location.iloc[0,:])\n",
    "df3=pd.concat([Depot.transpose(),Customers])\n",
    "df3=df3[['identity','latitude','longitude']]"
   ]
  },
  {
   "cell_type": "code",
   "execution_count": 36,
   "metadata": {
    "scrolled": true
   },
   "outputs": [
    {
     "data": {
      "text/plain": [
       "<matplotlib.collections.PathCollection at 0x7f9b9d1a5f40>"
      ]
     },
     "execution_count": 36,
     "metadata": {},
     "output_type": "execute_result"
    },
    {
     "data": {
      "image/png": "[encoded data removed]",
      "text/plain": [
       "<Figure size 432x288 with 1 Axes>"
      ]
     },
     "metadata": {
      "needs_background": "light"
     },
     "output_type": "display_data"
    }
   ],
   "source": [
    "# Visualize locations\n",
    "plt.plot(df3.longitude[0],df3.latitude[0],c='r',marker='s')\n",
    "plt.scatter(df3.longitude[1:],df3.latitude[1:],c='b')"
   ]
  },
  {
   "cell_type": "code",
   "execution_count": 37,
   "metadata": {},
   "outputs": [],
   "source": [
    "df3_array=np.array(df3.iloc[:,1:3])"
   ]
  },
  {
   "cell_type": "code",
   "execution_count": 38,
   "metadata": {},
   "outputs": [],
   "source": [
    "# Calculate Manhattan distance for each pair of locations\n",
    "from scipy.spatial.distance import cityblock\n",
    "N=len(df3_array)\n",
    "d_Manhattan=[]\n",
    "for i in range(N):\n",
    "    tls=[]\n",
    "    for j in range(N):\n",
    "        tls.append(cityblock(df3_array[i,:],df3_array[j,:]))\n",
    "    d_Manhattan.append(tls)\n",
    "\n",
    "# Manhattan Distance Matrix    \n",
    "d_Manhattan=np.asarray(d_Manhattan)"
   ]
  },
  {
   "cell_type": "code",
   "execution_count": 39,
   "metadata": {},
   "outputs": [
    {
     "data": {
      "text/plain": [
       "51"
      ]
     },
     "execution_count": 39,
     "metadata": {},
     "output_type": "execute_result"
    }
   ],
   "source": [
    "n = len(d_Manhattan)\n",
    "n"
   ]
  },
  {
   "cell_type": "code",
   "execution_count": 40,
   "metadata": {},
   "outputs": [],
   "source": [
    "# The capacity of a delivery vehicle\n",
    "Q = 50  \n",
    "# simulate customer delivery demand\n",
    "np.random.seed(0)\n",
    "q = {i: np.random.choice(np.arange(1,8),p=[0.5,0.25,0.15,0.05,0.025,0.015,0.01]) for i in range(1, n)}"
   ]
  },
  {
   "cell_type": "code",
   "execution_count": 41,
   "metadata": {},
   "outputs": [],
   "source": [
    "# Simulate Time Windows\n",
    "np.random.seed(0)\n",
    "# start of time window\n",
    "w_a = [0] + [np.random.choice([9,10,11],p=[0.6,0.3,0.1]) for i in range(1,n)] # in hours, 9 means 9 am\n",
    "np.random.seed(0)\n",
    "# end of time window\n",
    "w_b = [0] + [np.random.choice([12,13,14],p=[1/3,1/3,1/3]) for i in range(1,n)] # in hours, 12 means 12 pm\n",
    "np.random.seed(0)\n",
    "# simulate service time at each location (amount of time that the vehicle has to stay in that location)\n",
    "s = [0] + [np.random.choice([5/60,10/60,15/60],p=[0.6,0.3,0.1]) for i in range(1,n)] # in hours, 15/60 hours means 15 minutes\n",
    "# approximate travel time matrix in hours (assume average travel speed = 30 km/h)\n",
    "t = d_Manhattan*(10000/90)/30"
   ]
  },
  {
   "cell_type": "code",
   "execution_count": 42,
   "metadata": {},
   "outputs": [
    {
     "data": {
      "text/plain": [
       "array([0.        , 0.00621256, 0.0030554 , 0.0027667 , 0.0026269 ,\n",
       "       0.006877  , 0.0074277 , 0.0055301 , 0.0055301 , 0.0052    ,\n",
       "       0.0054135 , 0.0074913 , 0.0043157 , 0.0043157 , 0.001913  ,\n",
       "       0.0011157 , 0.001649  , 0.0019668 , 0.010264  , 0.0020179 ,\n",
       "       0.0020179 , 0.0020643 , 0.002071  , 0.00670107, 0.0071232 ,\n",
       "       0.00549654, 0.0073386 , 0.0061911 , 0.00602269, 0.0058135 ,\n",
       "       0.0051758 , 0.0052318 , 0.0052834 , 0.005279  , 0.0060503 ,\n",
       "       0.0060503 , 0.0065765 , 0.003901  , 0.0038703 , 0.00672771,\n",
       "       0.0010371 , 0.0019891 , 0.00212798, 0.0008216 , 0.0008205 ,\n",
       "       0.0008205 , 0.0023324 , 0.0023324 , 0.0023324 , 0.0023324 ,\n",
       "       0.002619  ])"
      ]
     },
     "execution_count": 42,
     "metadata": {},
     "output_type": "execute_result"
    }
   ],
   "source": [
    "d_Manhattan[0]"
   ]
  },
  {
   "cell_type": "code",
   "execution_count": 43,
   "metadata": {
    "scrolled": true
   },
   "outputs": [
    {
     "data": {
      "text/plain": [
       "array([0.        , 0.02300948, 0.0113163 , 0.01024704, 0.00972926,\n",
       "       0.02547037, 0.02751   , 0.02048185, 0.02048185, 0.01925926,\n",
       "       0.02005   , 0.02774556, 0.01598407, 0.01598407, 0.00708519,\n",
       "       0.00413222, 0.00610741, 0.00728444, 0.03801481, 0.0074737 ,\n",
       "       0.0074737 , 0.00764556, 0.00767037, 0.02481878, 0.02638222,\n",
       "       0.02035756, 0.02718   , 0.02293   , 0.02230626, 0.02153148,\n",
       "       0.01916963, 0.01937704, 0.01956815, 0.01955185, 0.02240852,\n",
       "       0.02240852, 0.02435741, 0.01444815, 0.01433444, 0.02491744,\n",
       "       0.00384111, 0.00736704, 0.00788141, 0.00304296, 0.00303889,\n",
       "       0.00303889, 0.00863852, 0.00863852, 0.00863852, 0.00863852,\n",
       "       0.0097    ])"
      ]
     },
     "execution_count": 43,
     "metadata": {},
     "output_type": "execute_result"
    }
   ],
   "source": [
    "t[0]"
   ]
  },
  {
   "cell_type": "code",
   "execution_count": 44,
   "metadata": {},
   "outputs": [],
   "source": [
    "model3 = gp.Model(\"CVRPTW\")"
   ]
  },
  {
   "cell_type": "code",
   "execution_count": 45,
   "metadata": {},
   "outputs": [],
   "source": [
    "# Define decision variables\n",
    "\n",
    "# representing an arc from location i to j\n",
    "x = model3.addVars(n, n, lb = 0, ub = 1, vtype= GRB.BINARY, name = [\"x_\"+str(i)+\"_\"+str(j) for i in range(n) for j in range(n)])\n",
    "# representing the cumulative demand that has been delivered after reaching each location\n",
    "y = model3.addVars(n, lb = 0, vtype=GRB.CONTINUOUS, name = [\"y_\"+str(i) for i in range(n)])\n",
    "# representing the time instant that the service starts at location i\n",
    "w = model3.addVars(n, lb = 0, vtype=GRB.CONTINUOUS, name = [\"w_\"+str(i) for i in range(n)])\n",
    "# a large number \n",
    "M = 10000"
   ]
  },
  {
   "cell_type": "code",
   "execution_count": 46,
   "metadata": {},
   "outputs": [],
   "source": [
    "# Objective Function\n",
    "model3.setObjective(sum(d_Manhattan[i,j]*x[i,j] for i in range(n) for j in range(n)), GRB.MINIMIZE)"
   ]
  },
  {
   "cell_type": "code",
   "execution_count": 47,
   "metadata": {
    "scrolled": false
   },
   "outputs": [],
   "source": [
    "# Add constraints\n",
    "\n",
    "# 3.1: must enter each *customer* location exactly once (excluding the depot)\n",
    "for j in range(1,n):\n",
    "    model3.addConstr(sum(x[i,j] for i in range(n)) == 1)\n",
    "    \n",
    "# 3.2: must exit each *customer* location exactly once (excluding the depot)\n",
    "for i in range(1,n):\n",
    "    model3.addConstr(sum(x[i,j] for j in range(n)) == 1)\n",
    "\n",
    "# 3.3: avoid self-loops\n",
    "for i in range(n):\n",
    "    model3.addConstr(x[i,i] == 0)\n",
    "     \n",
    "# 3.4: update cumulative delivery and avoid subtours (from demand perspective)\n",
    "for i in range(1,n):\n",
    "    for j in range(1,n):\n",
    "        model3.addConstr(y[j] >= y[i]+q[j]*x[i,j] - Q*(1-x[i,j]))\n",
    "\n",
    "# 3.5: Constraints on the cumulative delivery, ensure that the vehicle capacity is not exceeded\n",
    "for i in range(1,n):\n",
    "    model3.addConstr(y[i] >= q[i])\n",
    "    model3.addConstr(y[i] <= Q)\n",
    "\n",
    "# 3.6: update service start time and avoid subtours (from time perspective)\n",
    "for i in range(n):\n",
    "    for j in range(1,n):\n",
    "        model3.addConstr(w[j] >= w[i] + (s[i]+ t[i,j])*x[i,j] - M * (1-x[i,j]))\n",
    "\n",
    "# 3.7: constraints on serivce start time, must be within time window  \n",
    "for i in range(n):\n",
    "    model3.addConstr(w[i] >= w_a[i])\n",
    "    model3.addConstr(w[i] <= w_b[i])"
   ]
  },
  {
   "cell_type": "code",
   "execution_count": 48,
   "metadata": {
    "scrolled": true
   },
   "outputs": [
    {
     "name": "stdout",
     "output_type": "stream",
     "text": [
      "Changed value of parameter MIPGap to 0.1\n",
      "   Prev: 0.0001  Min: 0.0  Max: inf  Default: 0.0001\n",
      "Changed value of parameter TimeLimit to 1000.0\n",
      "   Prev: inf  Min: 0.0  Max: inf  Default: inf\n",
      "Gurobi Optimizer version 9.1.2 build v9.1.2rc0 (mac64)\n",
      "Thread count: 2 physical cores, 4 logical processors, using up to 4 threads\n",
      "Optimize a model with 5403 rows, 2703 columns and 20303 nonzeros\n",
      "Model fingerprint: 0x38849770\n",
      "Variable types: 102 continuous, 2601 integer (2601 binary)\n",
      "Coefficient statistics:\n",
      "  Matrix range     [1e+00, 1e+04]\n",
      "  Objective range  [1e-06, 2e-02]\n",
      "  Bounds range     [1e+00, 1e+00]\n",
      "  RHS range        [1e+00, 1e+04]\n",
      "Found heuristic solution: objective 0.3881562\n",
      "Presolve removed 403 rows and 53 columns\n",
      "Presolve time: 0.05s\n",
      "Presolved: 5000 rows, 2650 columns, 19700 nonzeros\n",
      "Variable types: 100 continuous, 2550 integer (2550 binary)\n",
      "\n",
      "Root relaxation: objective 4.853306e-02, 194 iterations, 0.01 seconds\n",
      "\n",
      "    Nodes    |    Current Node    |     Objective Bounds      |     Work\n",
      " Expl Unexpl |  Obj  Depth IntInf | Incumbent    BestBd   Gap | It/Node Time\n",
      "\n",
      "     0     0    0.04853    0   86    0.38816    0.04853  87.5%     -    0s\n",
      "H    0     0                       0.2088532    0.04853  76.8%     -    0s\n",
      "H    0     0                       0.0813299    0.04853  40.3%     -    0s\n",
      "     0     0    0.05471    0   96    0.08133    0.05471  32.7%     -    0s\n",
      "H    0     0                       0.0797951    0.05471  31.4%     -    0s\n",
      "     0     0    0.05471    0  100    0.07980    0.05471  31.4%     -    0s\n",
      "     0     0    0.05566    0   89    0.07980    0.05566  30.2%     -    0s\n",
      "H    0     0                       0.0796929    0.05566  30.2%     -    0s\n",
      "     0     0    0.05583    0   93    0.07969    0.05583  29.9%     -    0s\n",
      "     0     0    0.05584    0   89    0.07969    0.05584  29.9%     -    0s\n",
      "H    0     0                       0.0792387    0.05584  29.5%     -    1s\n",
      "     0     0    0.05584    0   91    0.07924    0.05584  29.5%     -    1s\n",
      "     0     0    0.05613    0   85    0.07924    0.05613  29.2%     -    1s\n",
      "     0     0    0.05614    0   88    0.07924    0.05614  29.2%     -    1s\n",
      "     0     0    0.05614    0   91    0.07924    0.05614  29.2%     -    1s\n",
      "     0     0    0.05614    0   91    0.07924    0.05614  29.2%     -    1s\n",
      "     0     0    0.05614    0   91    0.07924    0.05614  29.2%     -    1s\n",
      "     0     0    0.05614    0   85    0.07924    0.05614  29.2%     -    1s\n",
      "     0     2    0.05630    0   85    0.07924    0.05630  29.0%     -    1s\n",
      "H   28    30                       0.0784869    0.05630  28.3%  23.1    2s\n",
      "H   29    32                       0.0779520    0.05630  27.8%  22.8    2s\n",
      "H  156   153                       0.0763264    0.05630  26.2%  11.0    4s\n",
      "H  250   220                       0.0757927    0.05630  25.7%  10.0    4s\n",
      "   256   234    0.05818  114   80    0.07579    0.05630  25.7%   9.9    5s\n",
      "H  360   315                       0.0744353    0.05630  24.4%   9.0    5s\n",
      "H  574   483                       0.0740803    0.05630  24.0%   9.0    6s\n",
      "H  575   479                       0.0739669    0.05630  23.9%   9.1    6s\n",
      "H  603   496                       0.0735701    0.05630  23.5%   9.0    7s\n",
      "   773   633    0.07182   57   77    0.07357    0.05630  23.5%   9.5   10s\n",
      "H  773   601                       0.0714357    0.05630  21.2%   9.5   11s\n",
      "   780   606    0.06764   65   87    0.07144    0.05808  18.7%   9.5   15s\n",
      "   788   611    0.05821   11   94    0.07144    0.05821  18.5%   9.4   20s\n",
      "   794   615    0.05845   61   81    0.07144    0.05828  18.4%   9.3   27s\n",
      "   798   618    0.06174   43   92    0.07144    0.05831  18.4%   9.2   30s\n",
      "   805   623    0.06361   44   98    0.07144    0.05838  18.3%   9.2   35s\n",
      "   814   629    0.07144  102  103    0.07144    0.05856  18.0%   9.1   40s\n",
      "   822   634    0.05868   35   66    0.07144    0.05868  17.9%   9.0   45s\n",
      "   831   640    0.06070   40   68    0.07144    0.05894  17.5%   8.9   50s\n",
      "   836   643    0.05896   13   76    0.07144    0.05896  17.5%   8.8   55s\n",
      "   843   648    0.06250  104   88    0.07144    0.05899  17.4%   8.8   60s\n",
      "   850   653    0.06096   81   96    0.07144    0.05904  17.4%   8.7   65s\n",
      "   858   659    0.05904    2   76    0.07144    0.05904  17.4%  34.2   70s\n",
      "   865   664    0.06037   36   99    0.07144    0.05915  17.2%  33.9   75s\n",
      "   871   668    0.05918  115  117    0.07144    0.05918  17.2%  33.7   80s\n",
      "H  877   638                       0.0703955    0.05918  15.9%  33.4   88s\n",
      "   880   640    0.06764   65  108    0.07040    0.05918  15.9%  33.3   90s\n",
      "H  881   607                       0.0703735    0.05918  15.9%  33.3   92s\n",
      "   930   642    0.06000   36   64    0.07037    0.05936  15.6%  40.2   95s\n",
      "H 1022   659                       0.0698425    0.05936  15.0%  41.4   98s\n",
      "  1084   685    0.06039   66   75    0.06984    0.05936  15.0%  41.7  100s\n",
      "  1311   790    0.06516   46   89    0.06984    0.05946  14.9%  41.7  105s\n",
      "  1593   940    0.06936   70   67    0.06984    0.05946  14.9%  38.0  110s\n",
      "  1833  1039    0.06640  132   49    0.06984    0.05946  14.9%  35.8  115s\n",
      "  2138  1214    0.06118   89   82    0.06984    0.05954  14.8%  33.9  120s\n",
      "  2450  1337    0.06034   31   39    0.06984    0.05957  14.7%  33.1  125s\n",
      "H 2844  1532                       0.0697087    0.05971  14.3%  32.3  129s\n",
      "  2852  1599    0.06827   53   39    0.06971    0.05971  14.3%  32.3  130s\n",
      "H 2958  1589                       0.0696021    0.05974  14.2%  32.1  133s\n",
      "  2960  1653    0.06795   61   58    0.06960    0.05976  14.1%  32.2  135s\n",
      "  3529  2058    0.06107   37  101    0.06960    0.06010  13.7%  32.1  141s\n",
      "  3911  2306    0.06848   59   36    0.06960    0.06026  13.4%  32.4  146s\n",
      "  4304  2581 infeasible   53         0.06960    0.06042  13.2%  32.5  151s\n",
      "  4706  2879    0.06952   80   38    0.06960    0.06051  13.1%  32.8  156s\n",
      "  5063  3095    0.06940   78   40    0.06960    0.06058  13.0%  32.9  160s\n",
      "  5410  3375    0.06663   66   55    0.06960    0.06065  12.9%  33.1  165s\n",
      "  5765  3612    0.06874   61   49    0.06960    0.06070  12.8%  33.4  170s\n",
      "  6242  3896    0.06187   35   76    0.06960    0.06082  12.6%  33.3  175s\n",
      "  6710  4142    0.06730   40   76    0.06960    0.06088  12.5%  33.3  181s\n",
      "  7110  4415    0.06663   48   48    0.06960    0.06094  12.4%  33.5  186s\n",
      "  7351  4612    0.06601   62   54    0.06960    0.06100  12.4%  33.5  191s\n",
      "  7748  4816    0.06384   48   31    0.06960    0.06107  12.3%  33.2  196s\n",
      "  8145  5104    0.06383   46   57    0.06960    0.06108  12.2%  33.3  201s\n",
      "  8575  5372    0.06922   53   32    0.06960    0.06112  12.2%  33.3  206s\n",
      "  8907  5589    0.06953   51   30    0.06960    0.06116  12.1%  33.5  210s\n",
      "  9283  5853    0.06628   78   64    0.06960    0.06120  12.1%  33.5  215s\n",
      "  9757  6112    0.06516   41   68    0.06960    0.06132  11.9%  33.1  220s\n",
      " 10158  6329    0.06849   41   62    0.06960    0.06143  11.7%  33.3  225s\n",
      " 10591  6589    0.06273   35   70    0.06960    0.06150  11.6%  33.4  230s\n",
      " 10992  6835    0.06572   46   83    0.06960    0.06160  11.5%  33.7  236s\n",
      " 11445  7111    0.06491   36   68    0.06960    0.06164  11.4%  33.6  241s\n",
      " 11867  7358    0.06733   47   57    0.06960    0.06168  11.4%  33.7  246s\n",
      " 12289  7601    0.06276   42   82    0.06960    0.06179  11.2%  33.8  250s\n",
      " 12700  7841    0.06855   43   54    0.06960    0.06185  11.1%  33.9  255s\n",
      " 13106  8082    0.06842   52   68    0.06960    0.06191  11.0%  34.1  260s\n",
      " 13726  8431    0.06668   95   74    0.06960    0.06200  10.9%  34.3  266s\n",
      " 14156  8637    0.06757   34   75    0.06960    0.06203  10.9%  34.4  270s\n",
      " 14805  8900    0.06735   73   85    0.06960    0.06208  10.8%  34.6  321s\n",
      " 14810  8903    0.06803   64   99    0.06960    0.06208  10.8%  34.6  325s\n",
      " 14812  8905    0.06561   69   65    0.06960    0.06208  10.8%  34.6  330s\n",
      " 14815  8907    0.06634   46   61    0.06960    0.06208  10.8%  34.6  335s\n",
      " 14819  8909    0.06902   70   40    0.06960    0.06208  10.8%  34.5  340s\n",
      " 14823  8912    0.06871   37   46    0.06960    0.06208  10.8%  34.5  346s\n",
      " 14826  8914    0.06777   57   44    0.06960    0.06208  10.8%  34.5  350s\n",
      " 14828  8915    0.06739   47   44    0.06960    0.06208  10.8%  34.5  358s\n",
      " 14858  8937    0.06208   41   45    0.06960    0.06208  10.8%  34.9  360s\n"
     ]
    },
    {
     "name": "stdout",
     "output_type": "stream",
     "text": [
      " 14911  8973    0.06450   58   58    0.06960    0.06208  10.8%  34.9  365s\n",
      " 14942  8987    0.06903   61   38    0.06960    0.06208  10.8%  34.9  370s\n",
      " 15074  9031    0.06208   73  106    0.06960    0.06208  10.8%  34.8  375s\n",
      " 15309  9155    0.06208   60  104    0.06960    0.06208  10.8%  34.6  380s\n",
      " 15369  9194    0.06208   86   99    0.06960    0.06208  10.8%  34.5  385s\n",
      " 15594  9347    0.06572  165   33    0.06960    0.06208  10.8%  34.3  390s\n",
      " 15790  9376    0.06208   50   69    0.06960    0.06208  10.8%  34.2  395s\n",
      " 16051  9493 infeasible   47         0.06960    0.06208  10.8%  34.1  400s\n",
      " 16404  9616    0.06627   61   51    0.06960    0.06208  10.8%  34.1  405s\n",
      " 16639  9729    0.06371   44   80    0.06960    0.06208  10.8%  34.1  411s\n",
      " 16856  9826    0.06208   41   58    0.06960    0.06208  10.8%  34.0  417s\n",
      " 17011  9887    0.06611   66   86    0.06960    0.06208  10.8%  33.9  420s\n",
      " 17316  9976    0.06208   42   54    0.06960    0.06208  10.8%  33.8  425s\n",
      " 17729 10126    0.06510   58   65    0.06960    0.06208  10.8%  34.1  432s\n",
      " 18065 10250    0.06842  119   43    0.06960    0.06208  10.8%  33.9  436s\n",
      " 18408 10404    0.06208   50   73    0.06960    0.06208  10.8%  33.8  442s\n",
      " 18616 10481    0.06408   87   55    0.06960    0.06208  10.8%  33.7  446s\n",
      " 18965 10607    0.06761   69   55    0.06960    0.06208  10.8%  33.7  452s\n",
      " 19146 10705    0.06553   52   53    0.06960    0.06208  10.8%  33.6  455s\n",
      " 19664 10871    0.06696   93   44    0.06960    0.06208  10.8%  33.5  462s\n",
      " 19904 10944    0.06470   47   80    0.06960    0.06208  10.8%  33.5  466s\n",
      " 20379 11086    0.06681   53   41    0.06960    0.06208  10.8%  33.5  474s\n",
      " 20591 11158    0.06591   54   81    0.06960    0.06208  10.8%  33.6  477s\n",
      " 20802 11240    0.06553   88   51    0.06960    0.06208  10.8%  33.6  480s\n",
      " 21234 11420    0.06516   54   70    0.06960    0.06208  10.8%  33.5  488s\n",
      " 21459 11501    0.06791   56   39    0.06960    0.06208  10.8%  33.6  491s\n",
      " 21974 11605    0.06208   47   86    0.06960    0.06208  10.8%  33.5  496s\n",
      " 22206 11690    0.06546   57   56    0.06960    0.06208  10.8%  33.6  500s\n",
      " 22608 11848    0.06208   51   93    0.06960    0.06208  10.8%  33.7  507s\n",
      " 22821 11840    0.06581  101   62    0.06960    0.06208  10.8%  33.7  510s\n",
      " 23214 12055    0.06919   59   44    0.06960    0.06208  10.8%  33.6  518s\n",
      " 23471 12165    0.06663   88   83    0.06960    0.06208  10.8%  33.6  520s\n",
      " 23960 12311    0.06856   48   52    0.06960    0.06208  10.8%  33.5  525s\n",
      " 24648 12525    0.06208   52   71    0.06960    0.06208  10.8%  33.5  531s\n",
      " 25082 12681    0.06208   48   50    0.06960    0.06208  10.8%  33.5  535s\n",
      " 25688 12845     cutoff   57         0.06960    0.06208  10.8%  33.6  541s\n",
      " 26047 12990    0.06208   46   70    0.06960    0.06208  10.8%  33.5  545s\n",
      " 26482 13074 infeasible   66         0.06960    0.06208  10.8%  33.5  553s\n",
      " 26620 13178    0.06477   50   45    0.06960    0.06208  10.8%  33.5  555s\n",
      " 27071 13301    0.06536   85   53    0.06960    0.06208  10.8%  33.5  560s\n",
      " 27702 13492    0.06208   45   67    0.06960    0.06208  10.8%  33.6  566s\n",
      " 28133 13609    0.06810  114   32    0.06960    0.06208  10.8%  33.6  570s\n",
      " 28574 13696 infeasible   64         0.06960    0.06208  10.8%  33.6  575s\n",
      " 29169 13894     cutoff   59         0.06960    0.06208  10.8%  33.7  581s\n",
      " 29613 14010    0.06744   56   61    0.06960    0.06208  10.8%  33.7  587s\n",
      " 30057 14123    0.06870   91   38    0.06960    0.06208  10.8%  33.8  593s\n",
      " 30253 14173    0.06495   53   56    0.06960    0.06208  10.8%  33.9  596s\n",
      " 30676 14225 infeasible   70         0.06960    0.06208  10.8%  33.9  601s\n",
      " 31135 14330    0.06921   68   47    0.06960    0.06208  10.8%  33.9  606s\n",
      " 31529 14419    0.06734   55   55    0.06960    0.06208  10.8%  33.9  610s\n",
      " 31918 14543    0.06341   56   80    0.06960    0.06208  10.8%  34.0  615s\n",
      " 32569 14688 infeasible   44         0.06960    0.06208  10.8%  34.0  621s\n",
      " 32966 14827    0.06620   68  102    0.06960    0.06208  10.8%  34.1  627s\n",
      " 33374 14929    0.06496   60   40    0.06960    0.06208  10.8%  34.1  632s\n",
      " 33788 15023    0.06610   68   59    0.06960    0.06208  10.8%  34.1  637s\n",
      " 34204 15086 infeasible   57         0.06960    0.06208  10.8%  34.1  641s\n",
      " 34573 15205    0.06621   91   85    0.06960    0.06208  10.8%  34.2  645s\n",
      " 34986 15291    0.06945   64   42    0.06960    0.06208  10.8%  34.2  650s\n",
      " 35438 15358    0.06208   50   86    0.06960    0.06208  10.8%  34.2  655s\n",
      " 36029 15515    0.06306   53   56    0.06960    0.06208  10.8%  34.3  662s\n",
      " 36499 15594    0.06225   52   86    0.06960    0.06208  10.8%  34.3  666s\n",
      " 36912 15727    0.06904   59   54    0.06960    0.06208  10.8%  34.3  673s\n",
      " 37169 15761    0.06714   55   60    0.06960    0.06208  10.8%  34.3  676s\n",
      " 37549 15852    0.06463   46   52    0.06960    0.06208  10.8%  34.3  682s\n",
      " 37932 15975    0.06783   72   50    0.06960    0.06208  10.8%  34.4  687s\n",
      " 38374 16055    0.06590   56   73    0.06960    0.06208  10.8%  34.5  692s\n",
      " 38808 16117    0.06208   49   72    0.06960    0.06208  10.8%  34.6  697s\n",
      " 39125 16200    0.06424   50   52    0.06960    0.06208  10.8%  34.6  701s\n",
      " 39517 16360     cutoff   67         0.06960    0.06208  10.8%  34.8  706s\n",
      " 40007 16452 infeasible   68         0.06960    0.06208  10.8%  34.8  710s\n",
      " 40428 16549    0.06585   65   90    0.06960    0.06208  10.8%  34.9  715s\n",
      " 41077 16690    0.06208   43   36    0.06960    0.06208  10.8%  34.9  721s\n",
      " 41529 16823    0.06876   77   31    0.06960    0.06208  10.8%  35.0  726s\n",
      " 41966 17061     cutoff   69         0.06960    0.06208  10.8%  35.0  730s\n",
      " 42580 17377    0.06759   87   36    0.06960    0.06208  10.8%  35.1  736s\n",
      " 42947 17500    0.06937   71   63    0.06960    0.06208  10.8%  35.2  740s\n",
      " 43393 17832    0.06480   92   33    0.06960    0.06208  10.8%  35.3  746s\n",
      " 43801 18056    0.06613   61   39    0.06960    0.06208  10.8%  35.4  750s\n",
      " 44241 18332    0.06752   71   65    0.06960    0.06208  10.8%  35.4  755s\n",
      " 44691 18566     cutoff   99         0.06960    0.06208  10.8%  35.4  760s\n",
      " 45330 18903    0.06855   51   56    0.06960    0.06208  10.8%  35.4  766s\n",
      " 45701 19011    0.06518   43   66    0.06960    0.06208  10.8%  35.5  770s\n",
      " 45918 19274    0.06930   53   43    0.06960    0.06208  10.8%  35.6  775s\n",
      " 46327 19528     cutoff   56         0.06960    0.06208  10.8%  35.6  780s\n",
      " 46766 19776    0.06730   51   69    0.06960    0.06208  10.8%  35.7  785s\n",
      " 47351 20129    0.06928   64   64    0.06960    0.06208  10.8%  35.9  792s\n",
      " 47770 20375    0.06541   62   84    0.06960    0.06208  10.8%  35.9  796s\n",
      " 48220 20617     cutoff   66         0.06960    0.06208  10.8%  35.9  802s\n",
      " 48429 20748    0.06615   57   64    0.06960    0.06208  10.8%  36.0  805s\n",
      " 48824 20952    0.06454   63   55    0.06960    0.06208  10.8%  36.0  811s\n",
      " 49094 21027    0.06883   59   59    0.06960    0.06208  10.8%  36.1  820s\n",
      " 49449 21248    0.06640   56   69    0.06960    0.06208  10.8%  36.1  825s\n",
      " 49923 21524    0.06528   52   47    0.06960    0.06208  10.8%  36.2  831s\n",
      " 50425 21772    0.06880   58   62    0.06960    0.06208  10.8%  36.2  835s\n",
      " 50858 22005    0.06919   60   59    0.06960    0.06208  10.8%  36.2  840s\n",
      " 51356 22236    0.06883   73   67    0.06960    0.06208  10.8%  36.2  845s\n",
      " 51743 22504    0.06552   47   54    0.06960    0.06208  10.8%  36.2  851s\n",
      " 52228 22730    0.06660   64   64    0.06960    0.06208  10.8%  36.3  856s\n",
      " 52642 22945     cutoff   60         0.06960    0.06208  10.8%  36.4  862s\n",
      " 53125 23183 infeasible   60         0.06960    0.06208  10.8%  36.4  867s\n",
      " 53553 23392    0.06835   61   77    0.06960    0.06208  10.8%  36.5  871s\n",
      " 53927 23591 infeasible   59         0.06960    0.06208  10.8%  36.5  877s\n",
      " 54323 23820     cutoff   65         0.06960    0.06208  10.8%  36.6  882s\n",
      " 54723 24055    0.06903   53   43    0.06960    0.06208  10.8%  36.7  887s\n",
      " 54955 24135    0.06581  100   70    0.06960    0.06208  10.8%  36.7  890s\n",
      " 55328 24363    0.06853   58   85    0.06960    0.06208  10.8%  36.8  895s\n",
      " 55755 24596    0.06780   86   46    0.06960    0.06208  10.8%  36.8  900s\n",
      " 56332 24919    0.06509   50   55    0.06960    0.06208  10.8%  36.9  906s\n",
      " 56702 25138 infeasible   65         0.06960    0.06208  10.8%  36.9  910s\n",
      " 57142 25354 infeasible   58         0.06960    0.06208  10.8%  36.9  915s\n"
     ]
    },
    {
     "name": "stdout",
     "output_type": "stream",
     "text": [
      " 57568 25642    0.06703   51  102    0.06960    0.06208  10.8%  36.9  920s\n",
      " 57935 25883    0.06432   52   67    0.06960    0.06208  10.8%  37.0  925s\n",
      " 58395 26179    0.06512   53   52    0.06960    0.06208  10.8%  37.0  931s\n",
      " 58873 26537    0.06581   55   28    0.06960    0.06208  10.8%  36.9  937s\n",
      " 59318 26807    0.06656   54   48    0.06960    0.06208  10.8%  36.9  942s\n",
      " 59766 27054     cutoff   58         0.06960    0.06208  10.8%  36.9  946s\n",
      " 60191 27266    0.06512   53   91    0.06960    0.06208  10.8%  37.0  952s\n",
      " 60408 27380    0.06858   66   69    0.06960    0.06208  10.8%  37.0  955s\n",
      " 60936 27684    0.06734   54   63    0.06960    0.06208  10.8%  37.0  961s\n",
      " 61363 27925    0.06895   86   41    0.06960    0.06208  10.8%  37.0  965s\n",
      " 62027 28264     cutoff   71         0.06960    0.06208  10.8%  37.0  971s\n",
      " 62454 28505    0.06435   51   86    0.06960    0.06208  10.8%  37.1  975s\n",
      " 63070 28871    0.06483   65   80    0.06960    0.06208  10.8%  37.2  981s\n",
      " 63460 29100    0.06273   47   84    0.06960    0.06208  10.8%  37.2  985s\n",
      " 64130 29493    0.06651   50   92    0.06960    0.06208  10.8%  37.2  991s\n",
      " 64538 29707    0.06553   62   60    0.06960    0.06208  10.8%  37.2  995s\n",
      " 65115 29966    0.06601   59   44    0.06960    0.06208  10.8%  37.2 1000s\n",
      "\n",
      "Cutting planes:\n",
      "  Learned: 18\n",
      "  Gomory: 36\n",
      "  Cover: 87\n",
      "  Implied bound: 37\n",
      "  Projected implied bound: 51\n",
      "  Clique: 4\n",
      "  MIR: 52\n",
      "  StrongCG: 1\n",
      "  Flow cover: 163\n",
      "  Inf proof: 5\n",
      "  Zero half: 11\n",
      "  RLT: 18\n",
      "  Relax-and-lift: 65\n",
      "\n",
      "Explored 65223 nodes (2431798 simplex iterations) in 1000.06 seconds\n",
      "Thread count was 4 (of 4 available processors)\n",
      "\n",
      "Solution count 10: 0.0696021 0.0697087 0.0698425 ... 0.0744353\n",
      "\n",
      "Time limit reached\n",
      "Best objective 6.960205999998e-02, best bound 6.208000384746e-02, gap 10.8072%\n"
     ]
    }
   ],
   "source": [
    "model3.Params.MIPGap = 0.1\n",
    "model3.Params.TimeLimit = 1000  # seconds\n",
    "model3.optimize()"
   ]
  },
  {
   "cell_type": "code",
   "execution_count": 49,
   "metadata": {
    "scrolled": false
   },
   "outputs": [
    {
     "data": {
      "text/plain": [
       "<matplotlib.collections.PathCollection at 0x7f9b9e7047c0>"
      ]
     },
     "execution_count": 49,
     "metadata": {},
     "output_type": "execute_result"
    },
    {
     "data": {
      "image/png": "[encoded data removed]",
      "text/plain": [
       "<Figure size 864x864 with 1 Axes>"
      ]
     },
     "metadata": {
      "needs_background": "light"
     },
     "output_type": "display_data"
    }
   ],
   "source": [
    "active_arcs = [a for a in [(i,j) for i in range(n) for j in range(n)] if x[a].x > 0.99]\n",
    "yc=df3_array[:,0]\n",
    "xc=df3_array[:,1]\n",
    "plt.figure(figsize=(12,12))\n",
    "plt.rc('xtick',labelsize=15)\n",
    "plt.rc('ytick',labelsize=15)\n",
    "for i, j in active_arcs:\n",
    "    plt.plot([xc[i], xc[j]], [yc[i], yc[j]], c='g', zorder=0)\n",
    "plt.plot(xc[0], yc[0], c='r', marker='s')\n",
    "plt.scatter(xc[1:], yc[1:], c='b')"
   ]
  },
  {
   "cell_type": "code",
   "execution_count": 50,
   "metadata": {
    "scrolled": true
   },
   "outputs": [
    {
     "name": "stdout",
     "output_type": "stream",
     "text": [
      "7.73 km\n"
     ]
    }
   ],
   "source": [
    "# the conversion factor for location coordinates: 10,000km per 90 degrees. \n",
    "print(round(model3.objVal*(10000/90),2),'km')"
   ]
  },
  {
   "cell_type": "code",
   "execution_count": 51,
   "metadata": {
    "scrolled": true
   },
   "outputs": [
    {
     "name": "stdout",
     "output_type": "stream",
     "text": [
      "x_0_15 = 1.0\n",
      "x_0_40 = 1.0\n",
      "x_0_44 = 1.0\n",
      "x_1_36 = 1.0\n",
      "x_2_23 = 1.0\n",
      "x_3_4 = 1.0\n",
      "x_4_21 = 1.0\n",
      "x_5_35 = 1.0\n",
      "x_6_5 = 1.0\n",
      "x_7_8 = 1.0\n",
      "x_8_1 = 1.0\n",
      "x_9_13 = 1.0\n",
      "x_10_7 = 1.0\n",
      "x_11_6 = 1.0\n",
      "x_12_37 = 1.0\n",
      "x_13_12 = 1.0\n",
      "x_14_0 = 1.0\n",
      "x_15_16 = 1.0\n",
      "x_16_18 = 1.0\n",
      "x_17_19 = 1.0\n",
      "x_18_24 = 1.0\n",
      "x_19_20 = 1.0\n",
      "x_20_42 = 1.0\n",
      "x_21_22 = 1.0\n",
      "x_22_43 = 1.0\n",
      "x_23_11 = 1.0\n",
      "x_24_27 = 1.0\n",
      "x_25_31 = 1.0\n",
      "x_26_28 = 1.0\n",
      "x_27_26 = 1.0\n",
      "x_28_29 = 1.0\n",
      "x_29_25 = 1.0\n",
      "x_30_39 = 1.0\n",
      "x_31_32 = 1.0\n",
      "x_32_33 = 1.0\n",
      "x_33_30 = 1.0\n",
      "x_34_10 = 1.0\n",
      "x_35_34 = 1.0\n",
      "x_36_9 = 1.0\n",
      "x_37_14 = 1.0\n",
      "x_38_3 = 1.0\n",
      "x_39_38 = 1.0\n",
      "x_40_49 = 1.0\n",
      "x_41_0 = 1.0\n",
      "x_42_2 = 1.0\n",
      "x_43_45 = 1.0\n",
      "x_44_17 = 1.0\n",
      "x_45_0 = 1.0\n",
      "x_46_48 = 1.0\n",
      "x_47_50 = 1.0\n",
      "x_48_47 = 1.0\n",
      "x_49_46 = 1.0\n",
      "x_50_41 = 1.0\n",
      "y_1 = 33.0\n",
      "y_2 = 16.0\n",
      "y_3 = 32.0\n",
      "y_4 = 34.0\n",
      "y_5 = 23.0\n",
      "y_6 = 22.0\n",
      "y_7 = 28.0\n",
      "y_8 = 31.0\n",
      "y_9 = 40.0\n",
      "y_10 = 27.0\n",
      "y_11 = 20.0\n",
      "y_12 = 44.0\n",
      "y_13 = 42.0\n",
      "y_14 = 50.0\n",
      "y_15 = 1.0\n",
      "y_16 = 2.0\n",
      "y_17 = 2.0\n",
      "y_18 = 5.0\n",
      "y_19 = 5.0\n",
      "y_20 = 13.0\n",
      "y_21 = 40.0\n",
      "y_22 = 43.0\n",
      "y_23 = 17.0\n",
      "y_24 = 8.0\n",
      "y_25 = 18.0\n",
      "y_26 = 11.0\n",
      "y_27 = 9.0\n",
      "y_28 = 15.0\n",
      "y_29 = 17.0\n",
      "y_30 = 24.0\n",
      "y_31 = 19.0\n",
      "y_32 = 22.0\n",
      "y_33 = 23.0\n",
      "y_34 = 26.0\n",
      "y_35 = 24.0\n",
      "y_36 = 35.0\n",
      "y_37 = 46.0\n",
      "y_38 = 30.0\n",
      "y_39 = 28.0\n",
      "y_40 = 43.0\n",
      "y_41 = 50.0\n",
      "y_42 = 14.0\n",
      "y_43 = 45.0\n",
      "y_44 = 1.0\n",
      "y_45 = 50.0\n",
      "y_46 = 46.0\n",
      "y_47 = 48.0\n",
      "y_48 = 47.0\n",
      "y_49 = 44.0\n",
      "y_50 = 49.0\n",
      "w_1 = 12.32\n",
      "w_2 = 11.1\n",
      "w_3 = 12.29\n",
      "w_4 = 12.46\n",
      "w_5 = 11.73\n",
      "w_6 = 11.56\n",
      "w_7 = 12.07\n",
      "w_8 = 12.15\n",
      "w_9 = 12.58\n",
      "w_10 = 11.98\n",
      "w_11 = 11.38\n",
      "w_12 = 12.91\n",
      "w_13 = 12.83\n",
      "w_14 = 13.17\n",
      "w_15 = 9.17\n",
      "w_16 = 9.25\n",
      "w_17 = 10.6\n",
      "w_18 = 10.37\n",
      "w_19 = 10.68\n",
      "w_20 = 10.85\n",
      "w_21 = 12.54\n",
      "w_22 = 12.79\n",
      "w_23 = 11.28\n",
      "w_24 = 10.57\n",
      "w_25 = 11.34\n",
      "w_26 = 10.83\n",
      "w_27 = 10.74\n",
      "w_28 = 11.0\n",
      "w_29 = 11.25\n",
      "w_30 = 11.76\n",
      "w_31 = 11.43\n",
      "w_32 = 11.51\n",
      "w_33 = 11.68\n",
      "w_34 = 11.9\n",
      "w_35 = 11.81\n",
      "w_36 = 12.41\n",
      "w_37 = 13.0\n",
      "w_38 = 12.12\n",
      "w_39 = 11.86\n",
      "w_40 = 10.17\n",
      "w_41 = 10.85\n",
      "w_42 = 11.01\n",
      "w_43 = 12.97\n",
      "w_44 = 9.08\n",
      "w_45 = 13.13\n",
      "w_46 = 10.42\n",
      "w_47 = 10.67\n",
      "w_48 = 10.59\n",
      "w_49 = 10.34\n",
      "w_50 = 10.76\n"
     ]
    }
   ],
   "source": [
    "for var in model3.getVars():\n",
    "    if var.x > 0: # just print the decision variables that really matters(non zero)\n",
    "        print(var.varName, \"=\", round(var.x,2))"
   ]
  },
  {
   "cell_type": "code",
   "execution_count": 52,
   "metadata": {
    "scrolled": false
   },
   "outputs": [],
   "source": [
    "var_name = [var.varName for var in model3.getVars() if var.x > 0]"
   ]
  },
  {
   "cell_type": "code",
   "execution_count": 53,
   "metadata": {},
   "outputs": [],
   "source": [
    "x_0_ = [varname for varname in var_name if \"x_0_\" in varname]"
   ]
  },
  {
   "cell_type": "code",
   "execution_count": 54,
   "metadata": {
    "scrolled": true
   },
   "outputs": [
    {
     "name": "stdout",
     "output_type": "stream",
     "text": [
      "The optimal delivery route for vehicle 1\n",
      "0 > 15 > 16 > 18 > 24 > 27 > 26 > 28 > 29 > 25 > 31 > 32 > 33 > 30 > 39 > 38 > 3 > 4 > 21 > 22 > 43 > 45 > 0\n",
      "The optimal delivery route for vehicle 2\n",
      "0 > 40 > 49 > 46 > 48 > 47 > 50 > 41 > 0\n",
      "The optimal delivery route for vehicle 3\n",
      "0 > 44 > 17 > 19 > 20 > 42 > 2 > 23 > 11 > 6 > 5 > 35 > 34 > 10 > 7 > 8 > 1 > 36 > 9 > 13 > 12 > 37 > 14 > 0\n"
     ]
    }
   ],
   "source": [
    "# show the optimal route for each vehicle\n",
    "count = 1\n",
    "for i in x_0_:\n",
    "    end = i.split(\"_\")[2] \n",
    "    route = [0, \" > \"]\n",
    "    for k in range(len(x_0_)+n-1):\n",
    "        for j in var_name[:len(x_0_)+n-1]:\n",
    "            start = j.split(\"_\")[1]\n",
    "            if start == end:\n",
    "                route.append(int(start))\n",
    "                route.append(\" > \")\n",
    "                end = j.split(\"_\")[2]\n",
    "        if end == \"0\":\n",
    "            break\n",
    "     \n",
    "    route.append(0)\n",
    "    print(\"The optimal delivery route for vehicle \"+str(count))\n",
    "    print(*route, sep=\"\")\n",
    "    count += 1        "
   ]
  },
  {
   "cell_type": "markdown",
   "metadata": {},
   "source": [
    "## 4. Extension: CVRP with Simultaneous Delivery and Pickup and with Time Windows (CVRPSDPTW)\n",
    "\n",
    "On top of CVRPTW in section 3, parcel pickup service is added to the formulation\n",
    "\n",
    "#### Parameters\n",
    "$d_{ij}$: the Manhattan distance between locations $i$ and $j$\n",
    "\n",
    "$q_{i}$: the delivery demand of customer $i$  \n",
    "\n",
    "$b_{i}$: the pickup demand of customer $i$  \n",
    "\n",
    "$Q$: vehicle capacity  \n",
    "\n",
    "$w^a_{i}$: start of time window for customer $i$ \n",
    "\n",
    "$w^b_{i}$: end of time window for customer $i$\n",
    "\n",
    "$s_{i}$: service time for customer $i$\n",
    "\n",
    "$t_{ij}$: travel time from location $i$ to $j$\n",
    "\n",
    "$\\{1,...,n\\}$: a set of customers\n",
    "\n",
    "$\\{0\\}$: depot\n",
    "\n",
    "#### Decision Variables:  \n",
    "$x_{ij}$: whether the vehicle travels from location $i$ to $j$ (arc)\n",
    "\n",
    "$R_{ij}$: the total delivery amount on vehicle on arc $(i,j)$  \n",
    "\n",
    "$P_{ij}$: the total pickup amount on vehicle on arc $(i,j)$  \n",
    "\n",
    "$w_{i}$: time dummy variables (service start time for customer $i$)\n",
    "\n",
    "​\n",
    "$$\n",
    "min \\sum_{i=0}^{n} \\sum_{j=0}^{n} d_{ij} x_{ij}\n",
    "$$\n",
    "\n",
    "s.t. \n",
    "​\n",
    "$$\n",
    "\\sum_{i=0}^{n} x_{ij} = 1, j \\in \\{1, ..., n\\}, (4.1)\n",
    "$$\n",
    "​\n",
    "$$\n",
    "\\sum_{j=0}^{n} x_{ij} = 1, i \\in \\{1, ..., n\\},  (4.2)\n",
    "$$\n",
    "​\n",
    "$$\n",
    "\\sum_{i=0}^{n} x_{ii} = 0, i \\in \\{0, ..., n\\}, (4.3)\n",
    "$$\n",
    "​\n",
    "$$\n",
    "\\sum_{i=0}^{n} R_{ij} - q_{j} = \\sum_{i=0}^{n} R_{ji}, j \\in \\{1, ..., n\\}, (4.4)\n",
    "$$\n",
    "​\n",
    "$$\n",
    "\\sum_{i=0}^{n} P_{ij} + b_{j} = \\sum_{i=0}^{n} P_{ji}, j \\in \\{1, ..., n\\}, (4.5)\n",
    "$$\n",
    "​\n",
    "$$\n",
    "\\sum_{i=1}^{n} P_{0i} = 0, (4.6)\n",
    "$$\n",
    "​\n",
    "$$\n",
    "\\sum_{i=1}^{n} R_{i0} = 0, (4.7)\n",
    "$$\n",
    "​\n",
    "$$\n",
    "R_{ij} + P_{ij} \\leq Q x_{ij}, i, j \\in \\{0, ..., n\\}, (4.8)\n",
    "$$\n",
    "​\n",
    "$$\n",
    "w_{j} \\geq w_{i} + (s_{i} + t_{ij})x_{ij} - M(1-x_{ij}), i \\in \\{0, ..., n\\}, j \\in \\{1, ..., n\\}(4.9)\n",
    "$$\n",
    "​\n",
    "$$\n",
    "w^a_{i} \\leq w_{i} \\leq w^b_{i}, i \\in \\{0, ..., n\\}, (4.10)\n",
    "$$\n",
    "​\n",
    "$$\n",
    "x_{ij} = \\{0, 1\\}, i, j \\in \\{0, ... n\\},  (4.11)\n",
    "$$\n",
    "​\n",
    "$$\n",
    "R_{ij}, P_{ij} \\geq 0, i, j \\in \\{0, ..., n\\}, (4.12 , 4.13)\n",
    "$$\n",
    "​"
   ]
  },
  {
   "cell_type": "code",
   "execution_count": 55,
   "metadata": {},
   "outputs": [],
   "source": [
    "Customers=location.iloc[50:100,:]\n",
    "Depot=pd.DataFrame(location.iloc[0,:])\n",
    "df4=pd.concat([Depot.transpose(),Customers])\n",
    "df4=df4[['identity','latitude','longitude']]"
   ]
  },
  {
   "cell_type": "code",
   "execution_count": 56,
   "metadata": {
    "scrolled": true
   },
   "outputs": [
    {
     "data": {
      "text/plain": [
       "<matplotlib.collections.PathCollection at 0x7fa2d9183b50>"
      ]
     },
     "execution_count": 56,
     "metadata": {},
     "output_type": "execute_result"
    },
    {
     "data": {
      "image/png": "[encoded data removed]",
      "text/plain": [
       "<Figure size 432x288 with 1 Axes>"
      ]
     },
     "metadata": {
      "needs_background": "light"
     },
     "output_type": "display_data"
    }
   ],
   "source": [
    "# Visualize locations\n",
    "plt.plot(df4.longitude[0],df4.latitude[0],c='r',marker='s')\n",
    "plt.scatter(df4.longitude[1:],df4.latitude[1:],c='b')"
   ]
  },
  {
   "cell_type": "code",
   "execution_count": 57,
   "metadata": {},
   "outputs": [],
   "source": [
    "df4_array=np.array(df4.iloc[:,1:3])"
   ]
  },
  {
   "cell_type": "code",
   "execution_count": 58,
   "metadata": {},
   "outputs": [],
   "source": [
    "# Calculate Manhattan distance for each pair of locations\n",
    "from scipy.spatial.distance import cityblock\n",
    "N=len(df4_array)\n",
    "d_Manhattan=[]\n",
    "for i in range(N):\n",
    "    tls=[]\n",
    "    for j in range(N):\n",
    "        tls.append(cityblock(df4_array[i,:],df4_array[j,:]))\n",
    "    d_Manhattan.append(tls)\n",
    "\n",
    "# Manhattan Distance Matrix    \n",
    "d_Manhattan=np.asarray(d_Manhattan)"
   ]
  },
  {
   "cell_type": "code",
   "execution_count": 59,
   "metadata": {},
   "outputs": [
    {
     "data": {
      "text/plain": [
       "51"
      ]
     },
     "execution_count": 59,
     "metadata": {},
     "output_type": "execute_result"
    }
   ],
   "source": [
    "n = len(d_Manhattan)\n",
    "n"
   ]
  },
  {
   "cell_type": "code",
   "execution_count": 60,
   "metadata": {},
   "outputs": [],
   "source": [
    "# The capacity of a delivery vehicle\n",
    "Q = 50  \n",
    "# simulate customer delivery demand\n",
    "np.random.seed(0)\n",
    "q = {i: np.random.choice(np.arange(1,8),p=[0.5,0.25,0.15,0.05,0.025,0.015,0.01]) for i in range(1, n)}\n",
    "# simulate customer pickup demand\n",
    "np.random.seed(1)\n",
    "b = {i: np.random.choice(np.arange(1,8)) for i in range(1, n)}"
   ]
  },
  {
   "cell_type": "code",
   "execution_count": 61,
   "metadata": {},
   "outputs": [],
   "source": [
    "# Simulate Time Windows\n",
    "np.random.seed(0)\n",
    "# start of time window\n",
    "w_a = [0] + [np.random.choice([9,10,11],p=[0.6,0.3,0.1]) for i in range(1,n)] # in hours, 9 means 9 am\n",
    "np.random.seed(0)\n",
    "# end of time window\n",
    "w_b = [0] + [np.random.choice([12,13,14],p=[1/3,1/3,1/3]) for i in range(1,n)] # in hours, 12 means 12 pm\n",
    "np.random.seed(0)\n",
    "# simulate service time at each location (amount of time that the vehicle has to stay in that location)\n",
    "s = [0] + [np.random.choice([5/60,10/60,0.75],p=[0.6,0.3,0.1]) for i in range(1,n)] # in hours\n",
    "# approximate travel time matrix in hours (assume average travel speed = 30 km/h)\n",
    "t = d_Manhattan*(10000/90)/30"
   ]
  },
  {
   "cell_type": "code",
   "execution_count": 62,
   "metadata": {},
   "outputs": [
    {
     "name": "stdout",
     "output_type": "stream",
     "text": [
      "Academic license - for non-commercial use only - expires 2022-09-25\n",
      "Using license file /Users/jiahua/gurobi.lic\n"
     ]
    }
   ],
   "source": [
    "model4 = gp.Model(\"CVRPDPTW\")"
   ]
  },
  {
   "cell_type": "code",
   "execution_count": 63,
   "metadata": {},
   "outputs": [],
   "source": [
    "# Define decision variables\n",
    "\n",
    "# representing an arc from location i to j\n",
    "x = model4.addVars(n, n, lb = 0, ub = 1, vtype=GRB.BINARY, name = [\"x_\"+str(i)+\"_\"+str(j) for i in range(n) for j in range(n)])\n",
    "# representing the total delivery amount on vehicle on arc ij\n",
    "R = model4.addVars(n, n, lb = 0,vtype=GRB.INTEGER,name=['R('+str(i)+\",\"+str(j)+\")\" for i in range(n) for j in range(n)]) \n",
    "# representing the total pickup amount on vehicle on arc ij\n",
    "P = model4.addVars(n, n, lb = 0,vtype=GRB.INTEGER,name=['P('+str(i)+\",\"+str(j)+\")\" for i in range(n) for j in range(n)]) \n",
    "# representing the time instant that the service starts at location i\n",
    "w = model4.addVars(n, lb = 0, vtype=GRB.CONTINUOUS, name = [\"w_\"+str(i) for i in range(n)])\n",
    "# a large number \n",
    "M = 10000"
   ]
  },
  {
   "cell_type": "code",
   "execution_count": 64,
   "metadata": {},
   "outputs": [],
   "source": [
    "# Objective Function\n",
    "model4.setObjective(sum(d_Manhattan[i,j]*x[i,j] for i in range(n) for j in range(n)), GRB.MINIMIZE)"
   ]
  },
  {
   "cell_type": "code",
   "execution_count": 65,
   "metadata": {
    "scrolled": false
   },
   "outputs": [],
   "source": [
    "# Add constraints\n",
    "\n",
    "# 4.1: must enter each *customer* location exactly once (excluding the depot)\n",
    "for j in range(1,n):\n",
    "    model4.addConstr(sum(x[i,j] for i in range(n)) == 1)\n",
    "    \n",
    "# 4.2: must exit each *customer* location exactly once (excluding the depot)\n",
    "for i in range(1,n):\n",
    "    model4.addConstr(sum(x[i,j] for j in range(n)) == 1)\n",
    "\n",
    "# 4.3: avoid self-loops\n",
    "for i in range(n):\n",
    "    model4.addConstr(x[i,i] == 0)\n",
    "\n",
    "# 4.4, 4.5: Ensure the flow conservation (also prevent subtours)\n",
    "for j in range(1,n):\n",
    "    model4.addConstr(sum(R[i,j] for i in range(n)) - q[j] == sum(R[j,i] for i in range(n)))\n",
    "    model4.addConstr(sum(P[i,j] for i in range(n)) + b[j] == sum(P[j,i] for i in range(n)))\n",
    "\n",
    "# 4.6: Vehicles depart from depot with zero pickup load \n",
    "model4.addConstr(sum(P[0,i] for i in range(1,n))==0)\n",
    "\n",
    "# 4.7: Vehicles return to depot with zero delivery load\n",
    "model4.addConstr(sum(R[i,0] for i in range(1,n))==0)\n",
    "\n",
    "# 4.8: must not exceed maximum vehicle capacity at all time\n",
    "for i in range(n):\n",
    "    for j in range(n):\n",
    "        model4.addConstr(R[i,j]+P[i,j] <= Q*x[i,j])\n",
    "\n",
    "# 4.9: update service start time and avoid subtours (from time perspective)\n",
    "for i in range(n):\n",
    "    for j in range(1,n):\n",
    "        model4.addConstr(w[j] >= w[i] + (s[i]+ t[i,j])*x[i,j] - M * (1-x[i,j]))\n",
    "\n",
    "# 4.10: constraints on serivce start time, must be within time window  \n",
    "for i in range(n):\n",
    "    model4.addConstr(w[i] >= w_a[i])\n",
    "    model4.addConstr(w[i] <= w_b[i])"
   ]
  },
  {
   "cell_type": "code",
   "execution_count": 66,
   "metadata": {
    "scrolled": true
   },
   "outputs": [
    {
     "name": "stdout",
     "output_type": "stream",
     "text": [
      "Changed value of parameter MIPGap to 0.1\n",
      "   Prev: 0.0001  Min: 0.0  Max: inf  Default: 0.0001\n",
      "Changed value of parameter TimeLimit to 1000.0\n",
      "   Prev: inf  Min: 0.0  Max: inf  Default: inf\n",
      "Gurobi Optimizer version 9.1.2 build v9.1.2rc0 (mac64)\n",
      "Thread count: 2 physical cores, 4 logical processors, using up to 4 threads\n",
      "Optimize a model with 5506 rows, 7854 columns and 30706 nonzeros\n",
      "Model fingerprint: 0x6b18df69\n",
      "Variable types: 51 continuous, 7803 integer (2601 binary)\n",
      "Coefficient statistics:\n",
      "  Matrix range     [1e+00, 1e+04]\n",
      "  Objective range  [1e-06, 2e-02]\n",
      "  Bounds range     [1e+00, 1e+00]\n",
      "  RHS range        [1e+00, 1e+04]\n",
      "Presolve removed 406 rows and 354 columns\n",
      "Presolve time: 0.20s\n",
      "Presolved: 5100 rows, 7500 columns, 29600 nonzeros\n",
      "Variable types: 50 continuous, 7450 integer (2450 binary)\n",
      "Found heuristic solution: objective 0.4204809\n",
      "\n",
      "Root relaxation: objective 6.799821e-02, 8609 iterations, 0.56 seconds\n",
      "\n",
      "    Nodes    |    Current Node    |     Objective Bounds      |     Work\n",
      " Expl Unexpl |  Obj  Depth IntInf | Incumbent    BestBd   Gap | It/Node Time\n",
      "\n",
      "     0     0    0.06800    0  107    0.42048    0.06800  83.8%     -    1s\n",
      "H    0     0                       0.0957567    0.06800  29.0%     -    2s\n",
      "     0     0    0.07161    0  284    0.09576    0.07161  25.2%     -    3s\n",
      "H    0     0                       0.0953819    0.07161  24.9%     -    3s\n",
      "     0     0    0.07282    0  303    0.09538    0.07282  23.7%     -    3s\n",
      "     0     0    0.07308    0  364    0.09538    0.07308  23.4%     -    4s\n",
      "     0     0    0.07310    0  389    0.09538    0.07310  23.4%     -    4s\n",
      "     0     0    0.07419    0  367    0.09538    0.07419  22.2%     -    5s\n",
      "H    0     0                       0.0949277    0.07419  21.8%     -    5s\n",
      "     0     0    0.07425    0  371    0.09493    0.07425  21.8%     -    5s\n",
      "     0     0    0.07446    0  383    0.09493    0.07446  21.6%     -    6s\n",
      "     0     0    0.07455    0  392    0.09493    0.07455  21.5%     -    6s\n",
      "     0     0    0.07460    0  373    0.09493    0.07460  21.4%     -    7s\n",
      "     0     0    0.07463    0  402    0.09493    0.07463  21.4%     -    7s\n",
      "     0     0    0.07471    0  405    0.09493    0.07471  21.3%     -    7s\n",
      "     0     0    0.07472    0  420    0.09493    0.07472  21.3%     -    8s\n",
      "     0     0    0.07475    0  404    0.09493    0.07475  21.3%     -    8s\n",
      "     0     0    0.07475    0  323    0.09493    0.07475  21.3%     -   10s\n",
      "H    0     0                       0.0910855    0.07475  17.9%     -   10s\n",
      "     0     2    0.07475    0  319    0.09109    0.07475  17.9%     -   11s\n",
      "    27    30    0.07494   10  307    0.09109    0.07479  17.9%   369   16s\n",
      "    85    87    0.08535   31  244    0.09109    0.07479  17.9%   435   20s\n",
      "H  177   162                       0.0908523    0.07479  17.7%   323   23s\n",
      "   204   182    0.07486    5  315    0.09085    0.07479  17.7%   318   25s\n",
      "   410   381    0.08334   54  213    0.09085    0.07479  17.7%   238   30s\n",
      "H  468   408                       0.0895492    0.07479  16.5%   230   31s\n",
      "H  513   429                       0.0879082    0.07479  14.9%   225   33s\n",
      "   564   474    0.07590   15  335    0.08791    0.07482  14.9%   229   35s\n",
      "   723   600    0.08020   37  323    0.08791    0.07482  14.9%   246   42s\n",
      "   726   602    0.08767   43  242    0.08791    0.07482  14.9%   245   47s\n",
      "   728   603    0.07580   20  330    0.08791    0.07482  14.9%   245   50s\n",
      "   733   607    0.08348   56  427    0.08791    0.07494  14.8%   243   55s\n",
      "   737   609    0.08442   54  427    0.08791    0.07501  14.7%   242   60s\n",
      "   742   613    0.07550   11  435    0.08791    0.07506  14.6%   240   65s\n",
      "   746   615    0.07655   33  420    0.08791    0.07514  14.5%   239   71s\n",
      "   750   618    0.07551   15  447    0.08791    0.07518  14.5%   237   75s\n",
      "   754   621    0.07696   17  420    0.08791    0.07520  14.5%   236   80s\n",
      "   759   624    0.08209   40  442    0.08791    0.07524  14.4%   235   85s\n",
      "   764   627    0.08450   53  434    0.08791    0.07525  14.4%   233   90s\n",
      "   768   630    0.07604   16  430    0.08791    0.07526  14.4%   232   96s\n",
      "   772   633    0.07567   13  413    0.08791    0.07528  14.4%   231  100s\n",
      "   778   637    0.08448   43  452    0.08791    0.07530  14.3%   229  105s\n",
      "   784   641    0.07760   20  437    0.08791    0.07530  14.3%   227  111s\n",
      "   791   646    0.08331   50  108    0.08791    0.07530  14.3%   409  116s\n",
      "   793   648    0.08346   64  342    0.08791    0.07530  14.3%   408  120s\n",
      "   797   650    0.08038   29  407    0.08791    0.07530  14.3%   406  125s\n",
      "   801   653    0.08475   70  444    0.08791    0.07531  14.3%   404  132s\n",
      "   802   654    0.08415   60  433    0.08791    0.07532  14.3%   403  136s\n",
      "   804   655    0.07652   22  432    0.08791    0.07533  14.3%   402  141s\n",
      "   806   656    0.07690   19  431    0.08791    0.07536  14.3%   401  146s\n",
      "   809   658    0.08367   62  449    0.08791    0.07536  14.3%   400  150s\n",
      "   813   661    0.08137   50  439    0.08791    0.07537  14.3%   398  155s\n",
      "H  813   627                       0.0878618    0.07537  14.2%   398  158s\n",
      "   816   629    0.08767   43  446    0.08786    0.07537  14.2%   397  161s\n",
      "   820   632    0.08331   50  455    0.08786    0.07538  14.2%   395  165s\n",
      "   825   635    0.08369   63  443    0.08786    0.07540  14.2%   392  170s\n",
      "   830   638    0.08367   60  465    0.08786    0.07541  14.2%   390  175s\n",
      "   835   642    0.07562   15  477    0.08786    0.07542  14.2%   388  180s\n",
      "   838   644    0.08285   35  466    0.08786    0.07542  14.2%   386  191s\n",
      "   840   645    0.08160   47  449    0.08786    0.07546  14.1%   385  207s\n",
      "   841   649    0.07546   21  377    0.08786    0.07546  14.1%   518  229s\n",
      "   843   650    0.07549   22  381    0.08786    0.07546  14.1%   519  234s\n",
      "   845   651    0.07549   22  364    0.08786    0.07546  14.1%   521  237s\n",
      "   849   654    0.07549   23  360    0.08786    0.07548  14.1%   521  240s\n",
      "   858   660    0.07568   26  379    0.08786    0.07549  14.1%   536  246s\n",
      "   867   670    0.07572   28  350    0.08786    0.07549  14.1%   543  252s\n",
      "   880   680    0.07586   31  367    0.08786    0.07549  14.1%   553  257s\n",
      "   887   689    0.07581   33  330    0.08786    0.07549  14.1%   558  260s\n",
      "   909   700    0.07599   38  326    0.08786    0.07549  14.1%   566  266s\n",
      "   926   712    0.07737   42  338    0.08786    0.07549  14.1%   583  271s\n",
      "   944   724    0.07758   46  290    0.08786    0.07549  14.1%   595  276s\n",
      "   953   735    0.07811   49  279    0.08786    0.07549  14.1%   602  280s\n",
      "   978   745    0.07865   56  299    0.08786    0.07549  14.1%   617  285s\n",
      "H  989   721                       0.0878050    0.07549  14.0%   625  288s\n",
      "  1002   735    0.07977   61  252    0.08780    0.07549  14.0%   628  291s\n",
      "  1020   741    0.08397   65  201    0.08780    0.07549  14.0%   632  295s\n",
      "H 1036   704                       0.0878028    0.07549  14.0%   630  295s\n",
      "  1071   752    0.08503   83  145    0.08780    0.07549  14.0%   621  301s\n",
      "  1147   746    0.07558   25  431    0.08780    0.07549  14.0%   595  306s\n",
      "  1158   749    0.07580   27  380    0.08780    0.07549  14.0%   598  311s\n",
      "  1194   757    0.07826   32  309    0.08780    0.07549  14.0%   604  316s\n",
      "  1215   764    0.07861   38  233    0.08780    0.07549  14.0%   613  326s\n",
      "  1250   802    0.07952   51  225    0.08780    0.07549  14.0%   606  331s\n",
      "  1282   828    0.08242   59  214    0.08780    0.07549  14.0%   614  337s\n",
      "  1305   826    0.08381   66  241    0.08780    0.07549  14.0%   616  341s\n",
      "  1336   842    0.07562   26  415    0.08780    0.07549  14.0%   625  348s\n",
      "  1359   843    0.07669   32  349    0.08780    0.07549  14.0%   629  351s\n",
      "  1375   852    0.07679   33  332    0.08780    0.07549  14.0%   632  356s\n",
      "  1407   877    0.07760   36  339    0.08780    0.07549  14.0%   648  363s\n",
      "  1425   892    0.07745   37  344    0.08780    0.07549  14.0%   651  368s\n",
      "  1446   910    0.08274   42  292    0.08780    0.07549  14.0%   659  372s\n",
      "  1471   933    0.08329   48  299    0.08780    0.07549  14.0%   663  377s\n",
      "  1502   972    0.08499   56  275    0.08780    0.07549  14.0%   666  382s\n",
      "  1569   983    0.07554   24  427    0.08780    0.07549  14.0%   653  386s\n",
      "  1603  1047    0.07658   37  335    0.08780    0.07549  14.0%   649  391s\n"
     ]
    },
    {
     "name": "stdout",
     "output_type": "stream",
     "text": [
      "  1690  1071    0.07844   47  301    0.08780    0.07549  14.0%   629  396s\n",
      "  1768  1120    0.08270   68  214    0.08780    0.07552  14.0%   614  404s\n",
      "  1870  1116    0.07587   24  425    0.08780    0.07552  14.0%   592  413s\n",
      "H 1876  1070                       0.0874301    0.07552  13.6%   594  413s\n",
      "  1900  1099    0.07943   31  361    0.08743    0.07552  13.6%   591  418s\n",
      "  1964  1099    0.07638   27  412    0.08743    0.07552  13.6%   585  425s\n",
      "H 1975  1067                       0.0874279    0.07552  13.6%   586  425s\n",
      "  1988  1088    0.07829   39  330    0.08743    0.07554  13.6%   586  432s\n",
      "  2028  1101    0.07586   26  470    0.08743    0.07554  13.6%   589  439s\n",
      "  2054  1125    0.07734   34  387    0.08743    0.07554  13.6%   595  446s\n",
      "  2095  1149    0.07654   27  422    0.08743    0.07554  13.6%   602  453s\n",
      "  2147  1137    0.07688   30  399    0.08743    0.07554  13.6%   605  460s\n",
      "  2153  1181    0.07711   31  400    0.08743    0.07554  13.6%   610  467s\n",
      "  2205  1189    0.07770   36  393    0.08743    0.07554  13.6%   611  474s\n",
      "  2238  1228    0.08415   49  205    0.08743    0.07555  13.6%   612  482s\n",
      "  2331  1214    0.07594   31  384    0.08743    0.07555  13.6%   606  491s\n",
      "  2348  1256    0.07674   41  365    0.08743    0.07555  13.6%   612  499s\n",
      "  2413  1265    0.07615   31  427    0.08743    0.07556  13.6%   613  507s\n",
      "  2441  1315    0.07822   40  331    0.08743    0.07556  13.6%   617  516s\n",
      "  2508  1378    0.07639   42  376    0.08743    0.07558  13.6%   615  525s\n",
      "  2579  1428    0.07668   34  381    0.08743    0.07558  13.6%   615  533s\n",
      "  2636  1496    0.07940   38  316    0.08743    0.07558  13.6%   617  542s\n",
      "  2704  1557    0.08409   50  262    0.08743    0.07559  13.5%   618  553s\n",
      "  2820  1615    0.07666   41  352    0.08743    0.07559  13.5%   610  564s\n",
      "  2893  1680    0.08245   47  285    0.08743    0.07560  13.5%   612  575s\n",
      "  2978  1762    0.08131   47  297    0.08743    0.07560  13.5%   614  587s\n",
      "  3080  1832    0.07825   41  361    0.08743    0.07560  13.5%   608  598s\n",
      "  3207  1911     cutoff   77         0.08743    0.07561  13.5%   604  610s\n",
      "  3303  1980    0.07657   38  353    0.08743    0.07561  13.5%   606  622s\n",
      "  3382  2025    0.07926   51  308    0.08743    0.07561  13.5%   613  634s\n",
      "  3457  2142    0.07761   42  303    0.08743    0.07562  13.5%   618  648s\n",
      "  3605  2237    0.08021   49  239    0.08743    0.07562  13.5%   613  661s\n",
      "  3728  2324     cutoff   46         0.08743    0.07562  13.5%   612  676s\n",
      "  3866  2426    0.07709   37  393    0.08743    0.07562  13.5%   610  690s\n",
      "  3989  2545    0.07812   41  359    0.08743    0.07563  13.5%   612  708s\n",
      "  4148  2676    0.07592   32  386    0.08743    0.07563  13.5%   611  731s\n",
      "  4309  2782    0.07813   42  323    0.08743    0.07564  13.5%   608  753s\n",
      "  4511  2867    0.07629   28  432    0.08743    0.07564  13.5%   604  796s\n",
      "  4617  2971    0.07651   35  407    0.08743    0.07564  13.5%   601  824s\n",
      "  4757  3098    0.07706   41  295    0.08743    0.07565  13.5%   602  849s\n",
      "  4920  3108    0.07637   34  418    0.08743    0.07566  13.5%   603  903s\n",
      "  4930  3200    0.07994   39  354    0.08743    0.07566  13.5%   604  928s\n",
      "  5046  3319    0.07868   42  337    0.08743    0.07567  13.5%   608  951s\n",
      "  5235  3386    0.07612   26  450    0.08743    0.07567  13.4%   607  977s\n",
      "  5329  3464    0.07679   36  350    0.08743    0.07568  13.4%   610 1000s\n",
      "\n",
      "Cutting planes:\n",
      "  Learned: 9\n",
      "  Gomory: 10\n",
      "  Cover: 13\n",
      "  Implied bound: 340\n",
      "  Projected implied bound: 10\n",
      "  Clique: 1\n",
      "  MIR: 321\n",
      "  StrongCG: 7\n",
      "  Flow cover: 529\n",
      "  Flow path: 34\n",
      "  Zero half: 6\n",
      "  Network: 9\n",
      "  RLT: 1\n",
      "  Relax-and-lift: 178\n",
      "\n",
      "Explored 5438 nodes (3380436 simplex iterations) in 1000.07 seconds\n",
      "Thread count was 4 (of 4 available processors)\n",
      "\n",
      "Solution count 10: 0.0874279 0.0874301 0.0878028 ... 0.0949277\n",
      "\n",
      "Time limit reached\n",
      "Best objective 8.742792000000e-02, best bound 7.567736852213e-02, gap 13.4403%\n"
     ]
    }
   ],
   "source": [
    "model4.Params.MIPGap = 0.1\n",
    "model4.Params.TimeLimit = 1000  # seconds\n",
    "model4.optimize()"
   ]
  },
  {
   "cell_type": "code",
   "execution_count": 67,
   "metadata": {},
   "outputs": [
    {
     "data": {
      "text/plain": [
       "<matplotlib.collections.PathCollection at 0x7fa2b2c511f0>"
      ]
     },
     "execution_count": 67,
     "metadata": {},
     "output_type": "execute_result"
    },
    {
     "data": {
      "text/plain": [
       "<Figure size 864x864 with 0 Axes>"
      ]
     },
     "metadata": {},
     "output_type": "display_data"
    },
    {
     "data": {
      "image/png": "[encoded data removed]",
      "text/plain": [
       "<Figure size 864x864 with 1 Axes>"
      ]
     },
     "metadata": {
      "needs_background": "light"
     },
     "output_type": "display_data"
    }
   ],
   "source": [
    "active_arcs = [a for a in [(i,j) for i in range(n) for j in range(n)] if x[a].x > 0.99]\n",
    "yc=df4_array[:,0]\n",
    "xc=df4_array[:,1]\n",
    "plt.figure(figsize=(12,12))\n",
    "plt.rc('xtick',labelsize=15)\n",
    "plt.rc('ytick',labelsize=15)\n",
    "plt.figure(figsize=(12,12))\n",
    "plt.rc('xtick',labelsize=15)\n",
    "plt.rc('ytick',labelsize=15)\n",
    "for i, j in active_arcs:\n",
    "    plt.plot([xc[i], xc[j]], [yc[i], yc[j]], c='g', zorder=0)\n",
    "plt.plot(xc[0], yc[0], c='r', marker='s')\n",
    "plt.scatter(xc[1:], yc[1:], c='b')"
   ]
  },
  {
   "cell_type": "code",
   "execution_count": 68,
   "metadata": {
    "scrolled": true
   },
   "outputs": [
    {
     "name": "stdout",
     "output_type": "stream",
     "text": [
      "9.71 km\n"
     ]
    }
   ],
   "source": [
    "# the conversion factor for location coordinates: 10,000km per 90 degrees. \n",
    "print(round(model4.objVal*(10000/90),2),'km')"
   ]
  },
  {
   "cell_type": "code",
   "execution_count": 69,
   "metadata": {
    "scrolled": true
   },
   "outputs": [
    {
     "name": "stdout",
     "output_type": "stream",
     "text": [
      "x_0_11 = 1.0\n",
      "x_0_15 = 1.0\n",
      "x_0_17 = 1.0\n",
      "x_0_31 = 1.0\n",
      "x_0_45 = 1.0\n",
      "x_1_9 = 1.0\n",
      "x_2_22 = 1.0\n",
      "x_3_4 = 1.0\n",
      "x_4_21 = 1.0\n",
      "x_5_35 = 1.0\n",
      "x_6_5 = 1.0\n",
      "x_7_8 = 1.0\n",
      "x_8_36 = 1.0\n",
      "x_9_50 = 1.0\n",
      "x_10_7 = 1.0\n",
      "x_11_6 = 1.0\n",
      "x_12_13 = 1.0\n",
      "x_13_14 = 1.0\n",
      "x_14_0 = 1.0\n",
      "x_15_16 = 1.0\n",
      "x_16_18 = 1.0\n",
      "x_17_20 = 1.0\n",
      "x_18_24 = 1.0\n",
      "x_19_42 = 1.0\n",
      "x_20_19 = 1.0\n",
      "x_21_0 = 1.0\n",
      "x_22_43 = 1.0\n",
      "x_23_2 = 1.0\n",
      "x_24_27 = 1.0\n",
      "x_25_32 = 1.0\n",
      "x_26_28 = 1.0\n",
      "x_27_26 = 1.0\n",
      "x_28_29 = 1.0\n",
      "x_29_3 = 1.0\n",
      "x_30_39 = 1.0\n",
      "x_31_25 = 1.0\n",
      "x_32_33 = 1.0\n",
      "x_33_30 = 1.0\n",
      "x_34_10 = 1.0\n",
      "x_35_34 = 1.0\n",
      "x_36_1 = 1.0\n",
      "x_37_12 = 1.0\n",
      "x_38_23 = 1.0\n",
      "x_39_38 = 1.0\n",
      "x_40_0 = 1.0\n",
      "x_41_40 = 1.0\n",
      "x_42_46 = 1.0\n",
      "x_43_0 = 1.0\n",
      "x_44_0 = 1.0\n",
      "x_45_44 = 1.0\n",
      "x_46_48 = 1.0\n",
      "x_47_49 = 1.0\n",
      "x_48_47 = 1.0\n",
      "x_49_37 = 1.0\n",
      "x_50_41 = 1.0\n",
      "R(0,11) = 27.0\n",
      "R(0,15) = 27.0\n",
      "R(0,17) = 23.0\n",
      "R(0,31) = 21.0\n",
      "R(0,45) = 3.0\n",
      "R(1,9) = 9.0\n",
      "R(2,22) = 5.0\n",
      "R(3,4) = 8.0\n",
      "R(4,21) = 6.0\n",
      "R(5,35) = 21.0\n",
      "R(6,5) = 22.0\n",
      "R(7,8) = 16.0\n",
      "R(8,36) = 13.0\n",
      "R(9,50) = 4.0\n",
      "R(10,7) = 17.0\n",
      "R(11,6) = 24.0\n",
      "R(12,13) = 6.0\n",
      "R(13,14) = 4.0\n",
      "R(15,16) = 26.0\n",
      "R(16,18) = 25.0\n",
      "R(17,20) = 22.0\n",
      "R(18,24) = 22.0\n",
      "R(19,42) = 16.0\n",
      "R(20,19) = 19.0\n",
      "R(22,43) = 2.0\n",
      "R(23,2) = 7.0\n",
      "R(24,27) = 19.0\n",
      "R(25,32) = 19.0\n",
      "R(26,28) = 16.0\n",
      "R(27,26) = 18.0\n",
      "R(28,29) = 12.0\n",
      "R(29,3) = 10.0\n",
      "R(30,39) = 14.0\n",
      "R(31,25) = 20.0\n",
      "R(32,33) = 16.0\n",
      "R(33,30) = 15.0\n",
      "R(34,10) = 18.0\n",
      "R(35,34) = 20.0\n",
      "R(36,1) = 11.0\n",
      "R(37,12) = 8.0\n",
      "R(38,23) = 8.0\n",
      "R(39,38) = 10.0\n",
      "R(41,40) = 2.0\n",
      "R(42,46) = 15.0\n",
      "R(45,44) = 1.0\n",
      "R(46,48) = 13.0\n",
      "R(47,49) = 11.0\n",
      "R(48,47) = 12.0\n",
      "R(49,37) = 10.0\n",
      "R(50,41) = 3.0\n",
      "P(1,9) = 41.0\n",
      "P(2,22) = 39.0\n",
      "P(3,4) = 41.0\n",
      "P(4,21) = 42.0\n",
      "P(5,35) = 11.0\n",
      "P(6,5) = 9.0\n",
      "P(7,8) = 32.0\n",
      "P(8,36) = 33.0\n",
      "P(9,50) = 42.0\n",
      "P(10,7) = 26.0\n",
      "P(11,6) = 5.0\n",
      "P(12,13) = 37.0\n",
      "P(13,14) = 42.0\n",
      "P(14,0) = 49.0\n",
      "P(15,16) = 2.0\n",
      "P(16,18) = 5.0\n",
      "P(17,20) = 5.0\n",
      "P(18,24) = 12.0\n",
      "P(19,42) = 14.0\n",
      "P(20,19) = 8.0\n",
      "P(21,0) = 47.0\n",
      "P(22,43) = 43.0\n",
      "P(23,2) = 35.0\n",
      "P(24,27) = 15.0\n",
      "P(25,32) = 7.0\n",
      "P(26,28) = 28.0\n",
      "P(27,26) = 22.0\n",
      "P(28,29) = 31.0\n",
      "P(29,3) = 36.0\n",
      "P(30,39) = 17.0\n",
      "P(31,25) = 2.0\n",
      "P(32,33) = 14.0\n",
      "P(33,30) = 15.0\n",
      "P(34,10) = 24.0\n",
      "P(35,34) = 17.0\n",
      "P(36,1) = 35.0\n",
      "P(37,12) = 31.0\n",
      "P(38,23) = 30.0\n",
      "P(39,38) = 24.0\n",
      "P(40,0) = 48.0\n",
      "P(41,40) = 46.0\n",
      "P(42,46) = 15.0\n",
      "P(43,0) = 48.0\n",
      "P(44,0) = 3.0\n",
      "P(45,44) = 1.0\n",
      "P(46,48) = 16.0\n",
      "P(47,49) = 26.0\n",
      "P(48,47) = 20.0\n",
      "P(49,37) = 29.0\n",
      "P(50,41) = 44.0\n",
      "w_1 = 11.11\n",
      "w_2 = 13.1\n",
      "w_3 = 11.85\n",
      "w_4 = 12.02\n",
      "w_5 = 10.34\n",
      "w_6 = 10.17\n",
      "w_7 = 10.68\n",
      "w_8 = 10.77\n",
      "w_9 = 11.19\n",
      "w_10 = 10.6\n",
      "w_11 = 10.0\n",
      "w_12 = 11.01\n",
      "w_13 = 13.0\n",
      "w_14 = 14.0\n",
      "w_15 = 10.17\n",
      "w_16 = 10.25\n",
      "w_17 = 9.74\n",
      "w_18 = 10.37\n",
      "w_19 = 10.17\n",
      "w_20 = 10.0\n",
      "w_21 = 14.0\n",
      "w_22 = 13.27\n",
      "w_23 = 13.0\n",
      "w_24 = 10.57\n",
      "w_25 = 10.57\n",
      "w_26 = 10.83\n",
      "w_27 = 10.74\n",
      "w_28 = 11.0\n",
      "w_29 = 11.75\n",
      "w_30 = 11.97\n",
      "w_31 = 10.49\n",
      "w_32 = 11.72\n",
      "w_33 = 11.88\n",
      "w_34 = 10.51\n",
      "w_35 = 10.43\n",
      "w_36 = 10.94\n",
      "w_37 = 10.85\n",
      "w_38 = 12.82\n",
      "w_39 = 12.06\n",
      "w_40 = 12.13\n",
      "w_41 = 12.04\n",
      "w_42 = 10.33\n",
      "w_43 = 13.61\n",
      "w_44 = 10.33\n",
      "w_45 = 10.17\n",
      "w_46 = 10.42\n",
      "w_47 = 10.67\n",
      "w_48 = 10.59\n",
      "w_49 = 10.76\n",
      "w_50 = 11.95\n"
     ]
    }
   ],
   "source": [
    "for var in model4.getVars():\n",
    "    if var.x > 0: # just print the decision variables that really matters(non zero)\n",
    "        print(var.varName, \"=\", round(var.x,2))"
   ]
  },
  {
   "cell_type": "code",
   "execution_count": 70,
   "metadata": {
    "scrolled": false
   },
   "outputs": [],
   "source": [
    "var_name = [var.varName for var in model4.getVars() if var.x > 0]"
   ]
  },
  {
   "cell_type": "code",
   "execution_count": 71,
   "metadata": {},
   "outputs": [],
   "source": [
    "x_0_ = [varname for varname in var_name if \"x_0_\" in varname]"
   ]
  },
  {
   "cell_type": "code",
   "execution_count": 72,
   "metadata": {
    "scrolled": true
   },
   "outputs": [
    {
     "name": "stdout",
     "output_type": "stream",
     "text": [
      "The optimal delivery route for vehicle 1\n",
      "0 > 11 > 6 > 5 > 35 > 34 > 10 > 7 > 8 > 36 > 1 > 9 > 50 > 41 > 40 > 0\n",
      "The optimal delivery route for vehicle 2\n",
      "0 > 15 > 16 > 18 > 24 > 27 > 26 > 28 > 29 > 3 > 4 > 21 > 0\n",
      "The optimal delivery route for vehicle 3\n",
      "0 > 17 > 20 > 19 > 42 > 46 > 48 > 47 > 49 > 37 > 12 > 13 > 14 > 0\n",
      "The optimal delivery route for vehicle 4\n",
      "0 > 31 > 25 > 32 > 33 > 30 > 39 > 38 > 23 > 2 > 22 > 43 > 0\n",
      "The optimal delivery route for vehicle 5\n",
      "0 > 45 > 44 > 0\n"
     ]
    }
   ],
   "source": [
    "# show the optimal route for each vehicle\n",
    "count = 1\n",
    "for i in x_0_:\n",
    "    end = i.split(\"_\")[2] \n",
    "    route = [0, \" > \"]\n",
    "    for k in range(len(x_0_)+n-1):\n",
    "        for j in var_name[:len(x_0_)+n-1]:\n",
    "            start = j.split(\"_\")[1]\n",
    "            if start == end:\n",
    "                route.append(int(start))\n",
    "                route.append(\" > \")\n",
    "                end = j.split(\"_\")[2]\n",
    "        if end == \"0\":\n",
    "            break\n",
    "     \n",
    "    route.append(0)\n",
    "    print(\"The optimal delivery route for vehicle \"+str(count))\n",
    "    print(*route, sep=\"\")\n",
    "    count += 1        "
   ]
  }
 ],
 "metadata": {
  "kernelspec": {
   "display_name": "Python 3 (ipykernel)",
   "language": "python",
   "name": "python3"
  },
  "language_info": {
   "codemirror_mode": {
    "name": "ipython",
    "version": 3
   },
   "file_extension": ".py",
   "mimetype": "text/x-python",
   "name": "python",
   "nbconvert_exporter": "python",
   "pygments_lexer": "ipython3",
   "version": "3.9.7"
  }
 },
 "nbformat": 4,
 "nbformat_minor": 2
}
