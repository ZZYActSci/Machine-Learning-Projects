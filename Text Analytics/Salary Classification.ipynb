{
 "cells": [
  {
   "cell_type": "markdown",
   "id": "13322ff7",
   "metadata": {},
   "source": [
    "## Text Analytics --- Salary Classification"
   ]
  },
  {
   "cell_type": "code",
   "execution_count": 1,
   "id": "95d3b846",
   "metadata": {},
   "outputs": [],
   "source": [
    "import pandas as pd\n",
    "import numpy as np\n",
    "import nltk\n",
    "from sklearn.naive_bayes import MultinomialNB\n",
    "from nltk.tokenize import PunktSentenceTokenizer, RegexpTokenizer\n",
    "from nltk.corpus import stopwords\n",
    "from nltk.stem import WordNetLemmatizer\n",
    "from sklearn.feature_extraction.text import CountVectorizer\n",
    "from sklearn.feature_extraction.text import TfidfVectorizer\n",
    "from sklearn.model_selection import train_test_split\n",
    "from sklearn.metrics import confusion_matrix,accuracy_score"
   ]
  },
  {
   "cell_type": "markdown",
   "id": "3f929705",
   "metadata": {},
   "source": [
    "Select 2500 jobs for faster processing"
   ]
  },
  {
   "cell_type": "code",
   "execution_count": 2,
   "id": "5a810b05",
   "metadata": {},
   "outputs": [],
   "source": [
    "df = pd.read_csv('Train_rev1.csv',nrows=30000)"
   ]
  },
  {
   "cell_type": "code",
   "execution_count": 3,
   "id": "cef2b70c",
   "metadata": {},
   "outputs": [],
   "source": [
    "np.random.seed(0)\n",
    "df = df.iloc[np.random.choice(len(df),size=2500,replace=False)].reset_index()"
   ]
  },
  {
   "cell_type": "markdown",
   "id": "c3e43302",
   "metadata": {},
   "source": [
    "Learn about our data"
   ]
  },
  {
   "cell_type": "code",
   "execution_count": 4,
   "id": "c1a3b6ab",
   "metadata": {
    "scrolled": true
   },
   "outputs": [
    {
     "name": "stdout",
     "output_type": "stream",
     "text": [
      "<class 'pandas.core.frame.DataFrame'>\n",
      "RangeIndex: 2500 entries, 0 to 2499\n",
      "Data columns (total 13 columns):\n",
      " #   Column              Non-Null Count  Dtype \n",
      "---  ------              --------------  ----- \n",
      " 0   index               2500 non-null   int64 \n",
      " 1   Id                  2500 non-null   int64 \n",
      " 2   Title               2500 non-null   object\n",
      " 3   FullDescription     2500 non-null   object\n",
      " 4   LocationRaw         2500 non-null   object\n",
      " 5   LocationNormalized  2500 non-null   object\n",
      " 6   ContractType        982 non-null    object\n",
      " 7   ContractTime        1364 non-null   object\n",
      " 8   Company             1731 non-null   object\n",
      " 9   Category            2500 non-null   object\n",
      " 10  SalaryRaw           2500 non-null   object\n",
      " 11  SalaryNormalized    2500 non-null   int64 \n",
      " 12  SourceName          2500 non-null   object\n",
      "dtypes: int64(3), object(10)\n",
      "memory usage: 254.0+ KB\n"
     ]
    }
   ],
   "source": [
    "df.info()"
   ]
  },
  {
   "cell_type": "code",
   "execution_count": 5,
   "id": "85bcbb33",
   "metadata": {},
   "outputs": [
    {
     "data": {
      "text/html": [
       "<div>\n",
       "<style scoped>\n",
       "    .dataframe tbody tr th:only-of-type {\n",
       "        vertical-align: middle;\n",
       "    }\n",
       "\n",
       "    .dataframe tbody tr th {\n",
       "        vertical-align: top;\n",
       "    }\n",
       "\n",
       "    .dataframe thead th {\n",
       "        text-align: right;\n",
       "    }\n",
       "</style>\n",
       "<table border=\"1\" class=\"dataframe\">\n",
       "  <thead>\n",
       "    <tr style=\"text-align: right;\">\n",
       "      <th></th>\n",
       "      <th>index</th>\n",
       "      <th>Id</th>\n",
       "      <th>Title</th>\n",
       "      <th>FullDescription</th>\n",
       "      <th>LocationRaw</th>\n",
       "      <th>LocationNormalized</th>\n",
       "      <th>ContractType</th>\n",
       "      <th>ContractTime</th>\n",
       "      <th>Company</th>\n",
       "      <th>Category</th>\n",
       "      <th>SalaryRaw</th>\n",
       "      <th>SalaryNormalized</th>\n",
       "      <th>SourceName</th>\n",
       "    </tr>\n",
       "  </thead>\n",
       "  <tbody>\n",
       "    <tr>\n",
       "      <th>0</th>\n",
       "      <td>8225</td>\n",
       "      <td>65171667</td>\n",
       "      <td>Senior Graphics Software Engineer</td>\n",
       "      <td>Senior Graphics Engineer needed  Open GL, C , ...</td>\n",
       "      <td>Middlesex</td>\n",
       "      <td>UK</td>\n",
       "      <td>NaN</td>\n",
       "      <td>permanent</td>\n",
       "      <td>NaN</td>\n",
       "      <td>IT Jobs</td>\n",
       "      <td>45000 - 55000 per annum</td>\n",
       "      <td>50000</td>\n",
       "      <td>theitjobboard.co.uk</td>\n",
       "    </tr>\n",
       "    <tr>\n",
       "      <th>1</th>\n",
       "      <td>10794</td>\n",
       "      <td>66434680</td>\n",
       "      <td>Sales Director  Electrical/Connectors  Rail</td>\n",
       "      <td>Excellent new opportunity has arisen due to an...</td>\n",
       "      <td>Saffron Walden</td>\n",
       "      <td>Saffron Walden</td>\n",
       "      <td>NaN</td>\n",
       "      <td>permanent</td>\n",
       "      <td>NaN</td>\n",
       "      <td>IT Jobs</td>\n",
       "      <td>65000 - 75000 per annum + Car, bonus, pension ...</td>\n",
       "      <td>70000</td>\n",
       "      <td>theitjobboard.co.uk</td>\n",
       "    </tr>\n",
       "    <tr>\n",
       "      <th>2</th>\n",
       "      <td>9163</td>\n",
       "      <td>65765218</td>\n",
       "      <td>Junior Project Manager</td>\n",
       "      <td>As a Junior Project Manager you will be respon...</td>\n",
       "      <td>Leeds</td>\n",
       "      <td>Leeds</td>\n",
       "      <td>NaN</td>\n",
       "      <td>NaN</td>\n",
       "      <td>MBN Recruitment</td>\n",
       "      <td>IT Jobs</td>\n",
       "      <td>25,000 + Benefits</td>\n",
       "      <td>25000</td>\n",
       "      <td>MyUkJobs</td>\n",
       "    </tr>\n",
       "  </tbody>\n",
       "</table>\n",
       "</div>"
      ],
      "text/plain": [
       "   index        Id                                        Title  \\\n",
       "0   8225  65171667            Senior Graphics Software Engineer   \n",
       "1  10794  66434680  Sales Director  Electrical/Connectors  Rail   \n",
       "2   9163  65765218                       Junior Project Manager   \n",
       "\n",
       "                                     FullDescription     LocationRaw  \\\n",
       "0  Senior Graphics Engineer needed  Open GL, C , ...       Middlesex   \n",
       "1  Excellent new opportunity has arisen due to an...  Saffron Walden   \n",
       "2  As a Junior Project Manager you will be respon...           Leeds   \n",
       "\n",
       "  LocationNormalized ContractType ContractTime          Company Category  \\\n",
       "0                 UK          NaN    permanent              NaN  IT Jobs   \n",
       "1     Saffron Walden          NaN    permanent              NaN  IT Jobs   \n",
       "2              Leeds          NaN          NaN  MBN Recruitment  IT Jobs   \n",
       "\n",
       "                                           SalaryRaw  SalaryNormalized  \\\n",
       "0                            45000 - 55000 per annum             50000   \n",
       "1  65000 - 75000 per annum + Car, bonus, pension ...             70000   \n",
       "2                                  25,000 + Benefits             25000   \n",
       "\n",
       "            SourceName  \n",
       "0  theitjobboard.co.uk  \n",
       "1  theitjobboard.co.uk  \n",
       "2             MyUkJobs  "
      ]
     },
     "execution_count": 5,
     "metadata": {},
     "output_type": "execute_result"
    }
   ],
   "source": [
    "df.head(3)"
   ]
  },
  {
   "cell_type": "code",
   "execution_count": 6,
   "id": "7dee3731",
   "metadata": {},
   "outputs": [
    {
     "data": {
      "text/plain": [
       "full_time    826\n",
       "part_time    156\n",
       "Name: ContractType, dtype: int64"
      ]
     },
     "execution_count": 6,
     "metadata": {},
     "output_type": "execute_result"
    }
   ],
   "source": [
    "df.ContractType.value_counts()"
   ]
  },
  {
   "cell_type": "code",
   "execution_count": 7,
   "id": "cd8b7ca9",
   "metadata": {},
   "outputs": [],
   "source": [
    "df.dropna(subset = ['FullDescription'],axis=0)\n",
    "df.drop(labels=['index','Id','LocationRaw','SalaryRaw','SourceName'],axis=1,inplace=True)"
   ]
  },
  {
   "cell_type": "code",
   "execution_count": 8,
   "id": "72121d24",
   "metadata": {},
   "outputs": [
    {
     "data": {
      "text/plain": [
       "permanent    1127\n",
       "contract      237\n",
       "Name: ContractTime, dtype: int64"
      ]
     },
     "execution_count": 8,
     "metadata": {},
     "output_type": "execute_result"
    }
   ],
   "source": [
    "df.ContractTime.value_counts()"
   ]
  },
  {
   "cell_type": "code",
   "execution_count": 9,
   "id": "fcd1039c",
   "metadata": {},
   "outputs": [
    {
     "data": {
      "text/plain": [
       "count      2500.000000\n",
       "mean      32543.511600\n",
       "std       18328.214161\n",
       "min        5006.000000\n",
       "25%       20000.000000\n",
       "50%       28000.000000\n",
       "75%       40000.000000\n",
       "max      199680.000000\n",
       "Name: SalaryNormalized, dtype: float64"
      ]
     },
     "execution_count": 9,
     "metadata": {},
     "output_type": "execute_result"
    }
   ],
   "source": [
    "df.SalaryNormalized.describe()"
   ]
  },
  {
   "cell_type": "code",
   "execution_count": 10,
   "id": "4761eddd",
   "metadata": {},
   "outputs": [],
   "source": [
    "df['SalaryNormalized'] = pd.qcut(df['SalaryNormalized'],q=[0,0.75,1],labels=['Low','High'])"
   ]
  },
  {
   "cell_type": "code",
   "execution_count": 11,
   "id": "7e6eca38",
   "metadata": {
    "scrolled": false
   },
   "outputs": [
    {
     "data": {
      "text/html": [
       "<div>\n",
       "<style scoped>\n",
       "    .dataframe tbody tr th:only-of-type {\n",
       "        vertical-align: middle;\n",
       "    }\n",
       "\n",
       "    .dataframe tbody tr th {\n",
       "        vertical-align: top;\n",
       "    }\n",
       "\n",
       "    .dataframe thead th {\n",
       "        text-align: right;\n",
       "    }\n",
       "</style>\n",
       "<table border=\"1\" class=\"dataframe\">\n",
       "  <thead>\n",
       "    <tr style=\"text-align: right;\">\n",
       "      <th></th>\n",
       "      <th>Title</th>\n",
       "      <th>FullDescription</th>\n",
       "      <th>LocationNormalized</th>\n",
       "      <th>ContractType</th>\n",
       "      <th>ContractTime</th>\n",
       "      <th>Company</th>\n",
       "      <th>Category</th>\n",
       "      <th>SalaryNormalized</th>\n",
       "    </tr>\n",
       "  </thead>\n",
       "  <tbody>\n",
       "    <tr>\n",
       "      <th>0</th>\n",
       "      <td>Senior Graphics Software Engineer</td>\n",
       "      <td>Senior Graphics Engineer needed  Open GL, C , ...</td>\n",
       "      <td>UK</td>\n",
       "      <td>NaN</td>\n",
       "      <td>permanent</td>\n",
       "      <td>NaN</td>\n",
       "      <td>IT Jobs</td>\n",
       "      <td>High</td>\n",
       "    </tr>\n",
       "    <tr>\n",
       "      <th>1</th>\n",
       "      <td>Sales Director  Electrical/Connectors  Rail</td>\n",
       "      <td>Excellent new opportunity has arisen due to an...</td>\n",
       "      <td>Saffron Walden</td>\n",
       "      <td>NaN</td>\n",
       "      <td>permanent</td>\n",
       "      <td>NaN</td>\n",
       "      <td>IT Jobs</td>\n",
       "      <td>High</td>\n",
       "    </tr>\n",
       "    <tr>\n",
       "      <th>2</th>\n",
       "      <td>Junior Project Manager</td>\n",
       "      <td>As a Junior Project Manager you will be respon...</td>\n",
       "      <td>Leeds</td>\n",
       "      <td>NaN</td>\n",
       "      <td>NaN</td>\n",
       "      <td>MBN Recruitment</td>\n",
       "      <td>IT Jobs</td>\n",
       "      <td>Low</td>\n",
       "    </tr>\n",
       "  </tbody>\n",
       "</table>\n",
       "</div>"
      ],
      "text/plain": [
       "                                         Title  \\\n",
       "0            Senior Graphics Software Engineer   \n",
       "1  Sales Director  Electrical/Connectors  Rail   \n",
       "2                       Junior Project Manager   \n",
       "\n",
       "                                     FullDescription LocationNormalized  \\\n",
       "0  Senior Graphics Engineer needed  Open GL, C , ...                 UK   \n",
       "1  Excellent new opportunity has arisen due to an...     Saffron Walden   \n",
       "2  As a Junior Project Manager you will be respon...              Leeds   \n",
       "\n",
       "  ContractType ContractTime          Company Category SalaryNormalized  \n",
       "0          NaN    permanent              NaN  IT Jobs             High  \n",
       "1          NaN    permanent              NaN  IT Jobs             High  \n",
       "2          NaN          NaN  MBN Recruitment  IT Jobs              Low  "
      ]
     },
     "execution_count": 11,
     "metadata": {},
     "output_type": "execute_result"
    }
   ],
   "source": [
    "df.head(3)"
   ]
  },
  {
   "cell_type": "code",
   "execution_count": 12,
   "id": "57173b01",
   "metadata": {},
   "outputs": [],
   "source": [
    "df.rename(columns={'LocationNormalized':'Location','SalaryNormalized':'Salary'},inplace=True)"
   ]
  },
  {
   "cell_type": "markdown",
   "id": "75558386",
   "metadata": {},
   "source": [
    "visualize the common words in the description and remove some not informative words"
   ]
  },
  {
   "cell_type": "code",
   "execution_count": 57,
   "id": "896ef874",
   "metadata": {},
   "outputs": [
    {
     "data": {
      "image/png": "[encoded data removed]",
      "text/plain": [
       "<Figure size 576x576 with 1 Axes>"
      ]
     },
     "metadata": {},
     "output_type": "display_data"
    }
   ],
   "source": [
    "from wordcloud import WordCloud, STOPWORDS\n",
    "import matplotlib.pyplot as plt\n",
    "comment_words = ''\n",
    "stopwords1 = set(STOPWORDS)\n",
    "# stopwords1.update(['will','work','role','job','require','required','within','ensure','level','include',\n",
    "#                    'working','need','must','able','ability','candidate','position','application','looking',\n",
    "#                   'apply','opportunity','applicant','join','industry','career','provide','providing','cv',\n",
    "#                          'using','day','including','skill','environment','company'])\n",
    " \n",
    "# iterate through the csv file\n",
    "for val in df.FullDescription:\n",
    "     \n",
    "    # typecaste each val to string\n",
    "    val = str(val)\n",
    " \n",
    "    # split the value\n",
    "    tokens = val.split()\n",
    "     \n",
    "    # Converts each token into lowercase\n",
    "    for i in range(len(tokens)):\n",
    "        tokens[i] = tokens[i].lower()\n",
    "     \n",
    "    comment_words += \" \".join(tokens)+\" \"\n",
    "\n",
    "wordcloud = WordCloud(width = 800, height = 800,\n",
    "                background_color ='white',prefer_horizontal=0.5,\n",
    "                stopwords = stopwords1,\n",
    "                min_font_size = 10).generate(comment_words)\n",
    " \n",
    "# plot the WordCloud image                      \n",
    "plt.figure(figsize = (8, 8), facecolor = None)\n",
    "plt.imshow(wordcloud)\n",
    "plt.axis(\"off\")\n",
    "plt.tight_layout(pad = 0)\n",
    " \n",
    "plt.show()"
   ]
  },
  {
   "cell_type": "code",
   "execution_count": 14,
   "id": "b5fc9b84",
   "metadata": {},
   "outputs": [],
   "source": [
    "train,test = train_test_split(df,test_size=0.2,random_state=0)"
   ]
  },
  {
   "cell_type": "markdown",
   "id": "564daeae",
   "metadata": {},
   "source": [
    "## 1. Build a classification model with text (full job description) as the predictor. "
   ]
  },
  {
   "cell_type": "code",
   "execution_count": 15,
   "id": "15a123fb",
   "metadata": {},
   "outputs": [],
   "source": [
    "X_train,y_train = train['FullDescription'], train['Salary']\n",
    "X_test,y_test = test['FullDescription'], test['Salary']"
   ]
  },
  {
   "cell_type": "code",
   "execution_count": 16,
   "id": "508f7fc7",
   "metadata": {},
   "outputs": [],
   "source": [
    "word_tokenizer=RegexpTokenizer(r'[a-z]+')\n",
    "# word_tokenizer=RegexpTokenizer(r'\\w+')\n",
    "wordnet_lemmatizer = WordNetLemmatizer()\n",
    "stopwords_nltk=set(stopwords.words('english'))\n",
    "stop_words_custom = set(['will','work','role','job','require','required','within','ensure','level','include',\n",
    "                   'working','need','must','able','ability','candidate','position','application','looking',\n",
    "                  'apply','opportunity','applicant','join','industry','career','provide','providing','cv',\n",
    "                         'using','day','including','skill','environment','company'])\n",
    "# We inlucde both original word and its variation such as include and including,\n",
    "# in case the word net lemmatizer cannot do this \n",
    "stop_words = stopwords_nltk | stop_words_custom\n",
    "\n",
    "def remove_stopwords(text):\n",
    "    output= [i for i in text if i not in stop_words]\n",
    "    return output\n",
    "\n",
    "def tokenize_text(version_desc):\n",
    "    lowercase=version_desc.lower()\n",
    "    \n",
    "    tokens = word_tokenizer.tokenize(lowercase)\n",
    "    \n",
    "    tokens_no_stopwords = remove_stopwords(tokens)\n",
    "\n",
    "    text = [wordnet_lemmatizer.lemmatize(word) for word in tokens_no_stopwords]\n",
    "    \n",
    "    return text"
   ]
  },
  {
   "cell_type": "markdown",
   "id": "cf9efda4",
   "metadata": {},
   "source": [
    "### Try Sklearn for classification"
   ]
  },
  {
   "cell_type": "code",
   "execution_count": 17,
   "id": "658d5ea4",
   "metadata": {},
   "outputs": [],
   "source": [
    "vec_words = CountVectorizer(tokenizer=tokenize_text,decode_error='ignore')\n",
    "#vec_words= TfidfVectorizer(tokenizer=tokenize_text,decode_error='ignore') # This method works way worse for our data\n",
    "X_train_vect = vec_words.fit_transform(X_train)"
   ]
  },
  {
   "cell_type": "code",
   "execution_count": 18,
   "id": "dfb1dbaa",
   "metadata": {},
   "outputs": [
    {
     "data": {
      "text/plain": [
       "MultinomialNB()"
      ]
     },
     "execution_count": 18,
     "metadata": {},
     "output_type": "execute_result"
    }
   ],
   "source": [
    "from sklearn.naive_bayes import MultinomialNB\n",
    "model = MultinomialNB()\n",
    "model.fit(X=X_train_vect,y=y_train)"
   ]
  },
  {
   "cell_type": "code",
   "execution_count": 19,
   "id": "e02e2741",
   "metadata": {},
   "outputs": [],
   "source": [
    "X_test_vect = vec_words.transform(X_test)\n",
    "y_pred = model.predict(X_test_vect)"
   ]
  },
  {
   "cell_type": "code",
   "execution_count": 20,
   "id": "c5cc49bf",
   "metadata": {},
   "outputs": [
    {
     "data": {
      "text/plain": [
       "0.824"
      ]
     },
     "execution_count": 20,
     "metadata": {},
     "output_type": "execute_result"
    }
   ],
   "source": [
    "confusion_matrix(y_test,y_pred)\n",
    "accuracy_score(y_test,y_pred)"
   ]
  },
  {
   "cell_type": "code",
   "execution_count": null,
   "id": "b4f39d65",
   "metadata": {},
   "outputs": [],
   "source": []
  },
  {
   "cell_type": "markdown",
   "id": "a1df1080",
   "metadata": {},
   "source": [
    "### Use NLTK for classification\n",
    "### NLTK allows us to see imformative features after fitting to the the models"
   ]
  },
  {
   "cell_type": "code",
   "execution_count": 21,
   "id": "4ea743c0",
   "metadata": {},
   "outputs": [],
   "source": [
    "features = [tokenize_text(X_train_i) for X_train_i in X_train]"
   ]
  },
  {
   "cell_type": "code",
   "execution_count": 22,
   "id": "d7f7a694",
   "metadata": {},
   "outputs": [],
   "source": [
    "features_flatten =[j for sub in features for j in sub]"
   ]
  },
  {
   "cell_type": "code",
   "execution_count": 23,
   "id": "dc5d9c00",
   "metadata": {},
   "outputs": [],
   "source": [
    "all_words = nltk.FreqDist(features_flatten)\n",
    "word_features = list(all_words)"
   ]
  },
  {
   "cell_type": "code",
   "execution_count": 24,
   "id": "a210079c",
   "metadata": {},
   "outputs": [],
   "source": [
    "documents = [(features[i],y_train.iloc[i]) for i in range(len(y_train))]"
   ]
  },
  {
   "cell_type": "code",
   "execution_count": 25,
   "id": "82e91405",
   "metadata": {},
   "outputs": [],
   "source": [
    "def document_features(document):\n",
    "    document_words = set(document)\n",
    "    features = {}\n",
    "    for word in word_features:\n",
    "        features['contains({})'.format(word)] = (word in document_words)\n",
    "    return features"
   ]
  },
  {
   "cell_type": "code",
   "execution_count": 26,
   "id": "aa6cb3a6",
   "metadata": {},
   "outputs": [],
   "source": [
    "featuresets = [(document_features(d), c) for (d,c) in documents]\n",
    "train_set = featuresets\n",
    "classifier = nltk.NaiveBayesClassifier.train(train_set)"
   ]
  },
  {
   "cell_type": "code",
   "execution_count": 27,
   "id": "b3157766",
   "metadata": {},
   "outputs": [
    {
     "data": {
      "text/plain": [
       "[({'contains(experience)': True,\n",
       "   'contains(team)': True,\n",
       "   'contains(client)': False,\n",
       "   'contains(business)': True,\n",
       "   'contains(service)': True,\n",
       "   'contains(skill)': False,\n",
       "   'contains(manager)': True,\n",
       "   'contains(care)': False,\n",
       "   'contains(please)': True,\n",
       "   'contains(management)': True,\n",
       "   'contains(support)': False,\n",
       "   'contains(development)': False,\n",
       "   'contains(sale)': True,\n",
       "   'contains(uk)': True,\n",
       "   'contains(project)': False,\n",
       "   'contains(customer)': True,\n",
       "   'contains(excellent)': True,\n",
       "   'contains(home)': False,\n",
       "   'contains(knowledge)': False,\n",
       "   'contains(system)': True,\n",
       "   'contains(new)': False,\n",
       "   'contains(successful)': False,\n",
       "   'contains(recruitment)': False,\n",
       "   'contains(salary)': True,\n",
       "   'contains(based)': False,\n",
       "   'contains(good)': False,\n",
       "   'contains(design)': False,\n",
       "   'contains(training)': False,\n",
       "   'contains(high)': True,\n",
       "   'contains(year)': True,\n",
       "   'contains(time)': False,\n",
       "   'contains(strong)': False,\n",
       "   'contains(requirement)': True,\n",
       "   'contains(hour)': False,\n",
       "   'contains(technical)': False,\n",
       "   'contains(area)': False,\n",
       "   'contains(candidate)': True,\n",
       "   'contains(also)': True,\n",
       "   'contains(process)': True,\n",
       "   'contains(full)': False,\n",
       "   'contains(essential)': False,\n",
       "   'contains(quality)': True,\n",
       "   'contains(software)': True,\n",
       "   'contains(product)': True,\n",
       "   'contains(staff)': False,\n",
       "   'contains(professional)': False,\n",
       "   'contains(part)': False,\n",
       "   'contains(communication)': True,\n",
       "   'contains(well)': True,\n",
       "   'contains(standard)': False,\n",
       "   'contains(benefit)': False,\n",
       "   'contains(contact)': False,\n",
       "   'contains(would)': False,\n",
       "   'contains(offer)': False,\n",
       "   'contains(responsibility)': True,\n",
       "   'contains(people)': False,\n",
       "   'contains(leading)': False,\n",
       "   'contains(responsible)': False,\n",
       "   'contains(engineer)': False,\n",
       "   'contains(employment)': True,\n",
       "   'contains(information)': False,\n",
       "   'contains(experienced)': False,\n",
       "   'contains(key)': False,\n",
       "   'contains(nursing)': False,\n",
       "   'contains(nurse)': False,\n",
       "   'contains(k)': True,\n",
       "   'contains(office)': True,\n",
       "   'contains(per)': False,\n",
       "   'contains(senior)': False,\n",
       "   'contains(qualification)': False,\n",
       "   'contains(agency)': False,\n",
       "   'contains(opportunity)': False,\n",
       "   'contains(solution)': True,\n",
       "   'contains(vacancy)': False,\n",
       "   'contains(one)': False,\n",
       "   'contains(develop)': True,\n",
       "   'contains(account)': True,\n",
       "   'contains(application)': True,\n",
       "   'contains(u)': False,\n",
       "   'contains(duty)': False,\n",
       "   'contains(call)': True,\n",
       "   'contains(c)': False,\n",
       "   'contains(engineering)': True,\n",
       "   'contains(financial)': False,\n",
       "   'contains(across)': True,\n",
       "   'contains(detail)': False,\n",
       "   'contains(currently)': False,\n",
       "   'contains(health)': False,\n",
       "   'contains(organisation)': False,\n",
       "   'contains(lead)': False,\n",
       "   'contains(plan)': True,\n",
       "   'contains(developer)': False,\n",
       "   'contains(individual)': True,\n",
       "   'contains(london)': True,\n",
       "   'contains(contract)': False,\n",
       "   'contains(ideally)': False,\n",
       "   'contains(consultant)': False,\n",
       "   'contains(market)': False,\n",
       "   'contains(manage)': True,\n",
       "   'contains(data)': False,\n",
       "   'contains(understanding)': False,\n",
       "   'contains(group)': False,\n",
       "   'contains(com)': True,\n",
       "   'contains(email)': False,\n",
       "   'contains(relevant)': False,\n",
       "   'contains(sector)': False,\n",
       "   'contains(commercial)': False,\n",
       "   'contains(week)': False,\n",
       "   'contains(delivery)': False,\n",
       "   'contains(take)': False,\n",
       "   'contains(managing)': False,\n",
       "   'contains(record)': True,\n",
       "   'contains(permanent)': False,\n",
       "   'contains(day)': False,\n",
       "   'contains(performance)': False,\n",
       "   'contains(report)': False,\n",
       "   'contains(technology)': False,\n",
       "   'contains(great)': False,\n",
       "   'contains(best)': False,\n",
       "   'contains(following)': False,\n",
       "   'contains(qualified)': True,\n",
       "   'contains(applicant)': False,\n",
       "   'contains(general)': False,\n",
       "   'contains(site)': False,\n",
       "   'contains(location)': True,\n",
       "   'contains(previous)': False,\n",
       "   'contains(maintain)': False,\n",
       "   'contains(ensuring)': False,\n",
       "   'contains(need)': True,\n",
       "   'contains(available)': False,\n",
       "   'contains(range)': True,\n",
       "   'contains(activity)': False,\n",
       "   'contains(www)': True,\n",
       "   'contains(control)': False,\n",
       "   'contains(school)': False,\n",
       "   'contains(package)': False,\n",
       "   'contains(month)': False,\n",
       "   'contains(scheme)': False,\n",
       "   'contains(social)': False,\n",
       "   'contains(marketing)': False,\n",
       "   'contains(background)': False,\n",
       "   'contains(date)': False,\n",
       "   'contains(reporting)': False,\n",
       "   'contains(centre)': False,\n",
       "   'contains(net)': False,\n",
       "   'contains(send)': False,\n",
       "   'contains(relationship)': True,\n",
       "   'contains(post)': False,\n",
       "   'contains(policy)': False,\n",
       "   'contains(highly)': False,\n",
       "   'contains(exciting)': False,\n",
       "   'contains(procedure)': False,\n",
       "   'contains(proven)': True,\n",
       "   'contains(ideal)': False,\n",
       "   'contains(number)': False,\n",
       "   'contains(use)': False,\n",
       "   'contains(specialist)': False,\n",
       "   'contains(travel)': False,\n",
       "   'contains(co)': False,\n",
       "   'contains(finance)': False,\n",
       "   'contains(department)': False,\n",
       "   'contains(line)': True,\n",
       "   'contains(may)': False,\n",
       "   'contains(registered)': False,\n",
       "   'contains(shift)': False,\n",
       "   'contains(worker)': False,\n",
       "   'contains(practice)': False,\n",
       "   'contains(assist)': False,\n",
       "   'contains(internal)': False,\n",
       "   'contains(due)': False,\n",
       "   'contains(member)': False,\n",
       "   'contains(operation)': False,\n",
       "   'contains(level)': False,\n",
       "   'contains(server)': False,\n",
       "   'contains(issue)': False,\n",
       "   'contains(planning)': False,\n",
       "   'contains(web)': False,\n",
       "   'contains(flexible)': False,\n",
       "   'contains(change)': False,\n",
       "   'contains(help)': False,\n",
       "   'contains(programme)': False,\n",
       "   'contains(developing)': True,\n",
       "   'contains(appropriate)': False,\n",
       "   'contains(approach)': False,\n",
       "   'contains(test)': False,\n",
       "   'contains(target)': False,\n",
       "   'contains(make)': False,\n",
       "   'contains(basic)': False,\n",
       "   'contains(sql)': False,\n",
       "   'contains(order)': False,\n",
       "   'contains(fantastic)': False,\n",
       "   'contains(deliver)': False,\n",
       "   'contains(user)': True,\n",
       "   'contains(degree)': True,\n",
       "   'contains(seeking)': False,\n",
       "   'contains(current)': False,\n",
       "   'contains(large)': False,\n",
       "   'contains(analysis)': False,\n",
       "   'contains(building)': True,\n",
       "   'contains(personal)': False,\n",
       "   'contains(local)': False,\n",
       "   'contains(recruiting)': False,\n",
       "   'contains(basis)': False,\n",
       "   'contains(right)': False,\n",
       "   'contains(effective)': False,\n",
       "   'contains(desirable)': False,\n",
       "   'contains(assistant)': False,\n",
       "   'contains(rgn)': False,\n",
       "   'contains(live)': False,\n",
       "   'contains(online)': False,\n",
       "   'contains(person)': True,\n",
       "   'contains(term)': False,\n",
       "   'contains(provider)': True,\n",
       "   'contains(meet)': False,\n",
       "   'contains(maintenance)': False,\n",
       "   'contains(pension)': False,\n",
       "   'contains(build)': True,\n",
       "   'contains(cost)': False,\n",
       "   'contains(microsoft)': True,\n",
       "   'contains(resident)': False,\n",
       "   'contains(minimum)': False,\n",
       "   'contains(holiday)': False,\n",
       "   'contains(production)': False,\n",
       "   'contains(forward)': False,\n",
       "   'contains(leader)': False,\n",
       "   'contains(risk)': False,\n",
       "   'contains(bonus)': True,\n",
       "   'contains(child)': False,\n",
       "   'contains(competitive)': False,\n",
       "   'contains(community)': False,\n",
       "   'contains(job)': False,\n",
       "   'contains(growth)': True,\n",
       "   'contains(established)': False,\n",
       "   'contains(review)': False,\n",
       "   'contains(start)': False,\n",
       "   'contains(supporting)': False,\n",
       "   'contains(employer)': True,\n",
       "   'contains(analyst)': False,\n",
       "   'contains(problem)': False,\n",
       "   'contains(main)': False,\n",
       "   'contains(related)': False,\n",
       "   'contains(chef)': False,\n",
       "   'contains(growing)': True,\n",
       "   'contains(executive)': True,\n",
       "   'contains(like)': False,\n",
       "   'contains(recruit)': False,\n",
       "   'contains(e)': False,\n",
       "   'contains(healthcare)': False,\n",
       "   'contains(food)': False,\n",
       "   'contains(global)': False,\n",
       "   'contains(track)': True,\n",
       "   'contains(act)': False,\n",
       "   'contains(safety)': False,\n",
       "   'contains(committed)': False,\n",
       "   'contains(manufacturing)': False,\n",
       "   'contains(database)': False,\n",
       "   'contains(task)': False,\n",
       "   'contains(life)': False,\n",
       "   'contains(testing)': False,\n",
       "   'contains(hr)': False,\n",
       "   'contains(etc)': False,\n",
       "   'contains(existing)': False,\n",
       "   'contains(visit)': False,\n",
       "   'contains(note)': False,\n",
       "   'contains(written)': False,\n",
       "   'contains(considered)': False,\n",
       "   'contains(brand)': False,\n",
       "   'contains(delivering)': False,\n",
       "   'contains(network)': True,\n",
       "   'contains(success)': False,\n",
       "   'contains(equivalent)': False,\n",
       "   'contains(drive)': False,\n",
       "   'contains(strategy)': False,\n",
       "   'contains(plus)': False,\n",
       "   'contains(website)': False,\n",
       "   'contains(equipment)': False,\n",
       "   'contains(driving)': False,\n",
       "   'contains(reference)': False,\n",
       "   'contains(field)': False,\n",
       "   'contains(acting)': False,\n",
       "   'contains(temporary)': False,\n",
       "   'contains(supplier)': False,\n",
       "   'contains(car)': False,\n",
       "   'contains(interested)': True,\n",
       "   'contains(pay)': False,\n",
       "   'contains(education)': False,\n",
       "   'contains(rate)': False,\n",
       "   'contains(teacher)': False,\n",
       "   'contains(progress)': False,\n",
       "   'contains(demonstrate)': False,\n",
       "   'contains(relation)': False,\n",
       "   'contains(head)': False,\n",
       "   'contains(return)': False,\n",
       "   'contains(set)': False,\n",
       "   'contains(employee)': False,\n",
       "   'contains(learning)': False,\n",
       "   'contains(medium)': False,\n",
       "   'contains(b)': True,\n",
       "   'contains(tool)': False,\n",
       "   'contains(first)': False,\n",
       "   'contains(throughout)': True,\n",
       "   'contains(least)': False,\n",
       "   'contains(retail)': False,\n",
       "   'contains(check)': False,\n",
       "   'contains(similar)': False,\n",
       "   'contains(pm)': False,\n",
       "   'contains(external)': False,\n",
       "   'contains(supply)': False,\n",
       "   'contains(provided)': False,\n",
       "   'contains(director)': False,\n",
       "   'contains(implementation)': False,\n",
       "   'contains(hold)': False,\n",
       "   'contains(ongoing)': False,\n",
       "   'contains(involved)': False,\n",
       "   'contains(administration)': False,\n",
       "   'contains(busy)': False,\n",
       "   'contains(end)': False,\n",
       "   'contains(elderly)': False,\n",
       "   'contains(security)': False,\n",
       "   'contains(future)': False,\n",
       "   'contains(ltd)': False,\n",
       "   'contains(complex)': False,\n",
       "   'contains(receive)': False,\n",
       "   'contains(potential)': False,\n",
       "   'contains(consultancy)': False,\n",
       "   'contains(free)': False,\n",
       "   'contains(variety)': False,\n",
       "   'contains(cover)': False,\n",
       "   'contains(value)': True,\n",
       "   'contains(place)': False,\n",
       "   'contains(meeting)': False,\n",
       "   'contains(digital)': False,\n",
       "   'contains(clinical)': False,\n",
       "   'contains(maintaining)': False,\n",
       "   'contains(improvement)': False,\n",
       "   'contains(hotel)': False,\n",
       "   'contains(motivated)': False,\n",
       "   'contains(company)': False,\n",
       "   'contains(assessment)': False,\n",
       "   'contains(equal)': True,\n",
       "   'contains(want)': False,\n",
       "   'contains(next)': False,\n",
       "   'contains(telephone)': False,\n",
       "   'contains(asbestos)': False,\n",
       "   'contains(budget)': False,\n",
       "   'contains(dealing)': False,\n",
       "   'contains(result)': False,\n",
       "   'contains(function)': False,\n",
       "   'contains(specification)': False,\n",
       "   'contains(fully)': False,\n",
       "   'contains(get)': False,\n",
       "   'contains(graduate)': False,\n",
       "   'contains(aspect)': False,\n",
       "   'contains(research)': False,\n",
       "   'contains(computer)': False,\n",
       "   'contains(subject)': True,\n",
       "   'contains(posted)': True,\n",
       "   'contains(restaurant)': False,\n",
       "   'contains(dynamic)': False,\n",
       "   'contains(international)': True,\n",
       "   'contains(via)': False,\n",
       "   'contains(role)': False,\n",
       "   'contains(necessary)': False,\n",
       "   'contains(mechanical)': False,\n",
       "   'contains(south)': False,\n",
       "   'contains(achieve)': True,\n",
       "   'contains(top)': False,\n",
       "   'contains(documentation)': False,\n",
       "   'contains(electrical)': False,\n",
       "   'contains(initiative)': False,\n",
       "   'contains(making)': True,\n",
       "   'contains(effectively)': False,\n",
       "   'contains(interview)': False,\n",
       "   'contains(daily)': False,\n",
       "   'contains(excel)': False,\n",
       "   'contains(west)': False,\n",
       "   'contains(volume)': False,\n",
       "   'contains(offering)': False,\n",
       "   'contains(however)': False,\n",
       "   'contains(advantage)': False,\n",
       "   'contains(stakeholder)': False,\n",
       "   'contains(public)': False,\n",
       "   'contains(resource)': False,\n",
       "   'contains(p)': False,\n",
       "   'contains(fast)': True,\n",
       "   'contains(world)': True,\n",
       "   'contains(originally)': True,\n",
       "   'contains(infrastructure)': False,\n",
       "   'contains(around)': False,\n",
       "   'contains(whilst)': False,\n",
       "   'contains(progression)': False,\n",
       "   'contains(corporate)': False,\n",
       "   'contains(jobseeking)': True,\n",
       "   'contains(interest)': True,\n",
       "   'contains(disability)': False,\n",
       "   'contains(passion)': False,\n",
       "   'contains(manner)': False,\n",
       "   'contains(leadership)': False,\n",
       "   'contains(running)': False,\n",
       "   'contains(enthusiastic)': False,\n",
       "   'contains(someone)': False,\n",
       "   'contains(store)': False,\n",
       "   'contains(crb)': False,\n",
       "   'contains(unit)': False,\n",
       "   'contains(suitable)': False,\n",
       "   'contains(setting)': False,\n",
       "   'contains(every)': False,\n",
       "   'contains(national)': False,\n",
       "   'contains(either)': False,\n",
       "   'contains(base)': False,\n",
       "   'contains(complete)': False,\n",
       "   'contains(closely)': False,\n",
       "   'contains(long)': False,\n",
       "   'contains(java)': False,\n",
       "   'contains(produce)': False,\n",
       "   'contains(highest)': False,\n",
       "   'contains(expanding)': False,\n",
       "   'contains(medical)': False,\n",
       "   'contains(family)': False,\n",
       "   'contains(involve)': False,\n",
       "   'contains(insurance)': False,\n",
       "   'contains(limited)': False,\n",
       "   'contains(compliance)': False,\n",
       "   'contains(event)': False,\n",
       "   'contains(model)': False,\n",
       "   'contains(monday)': False,\n",
       "   'contains(strategic)': False,\n",
       "   'contains(challenge)': False,\n",
       "   'contains(small)': True,\n",
       "   'contains(purpose)': False,\n",
       "   'contains(specific)': False,\n",
       "   'contains(licence)': False,\n",
       "   'contains(wide)': False,\n",
       "   'contains(challenging)': False,\n",
       "   'contains(today)': False,\n",
       "   'contains(possible)': False,\n",
       "   'contains(nbsp)': False,\n",
       "   'contains(operational)': False,\n",
       "   'contains(case)': False,\n",
       "   'contains(outstanding)': False,\n",
       "   'contains(closing)': True,\n",
       "   'contains(audit)': False,\n",
       "   'contains(window)': False,\n",
       "   'contains(annum)': False,\n",
       "   'contains(friday)': False,\n",
       "   'contains(patient)': False,\n",
       "   'contains(expected)': False,\n",
       "   'contains(operating)': False,\n",
       "   'contains(accordance)': False,\n",
       "   'contains(focus)': False,\n",
       "   'contains(immediate)': False,\n",
       "   'contains(g)': False,\n",
       "   'contains(undertake)': False,\n",
       "   'contains(vehicle)': False,\n",
       "   'contains(partner)': True,\n",
       "   'contains(identify)': True,\n",
       "   'contains(accurate)': False,\n",
       "   'contains(clear)': False,\n",
       "   'contains(player)': False,\n",
       "   'contains(driven)': False,\n",
       "   'contains(direct)': False,\n",
       "   'contains(document)': False,\n",
       "   'contains(understand)': False,\n",
       "   'contains(advisor)': False,\n",
       "   'contains(english)': False,\n",
       "   'contains(rmn)': False,\n",
       "   'contains(description)': False,\n",
       "   'contains(applying)': False,\n",
       "   'contains(night)': False,\n",
       "   'contains(given)': False,\n",
       "   'contains(teaching)': False,\n",
       "   'contains(active)': False,\n",
       "   'contains(east)': False,\n",
       "   'contains(along)': False,\n",
       "   'contains(posse)': False,\n",
       "   'contains(behalf)': False,\n",
       "   'contains(regular)': False,\n",
       "   'contains(major)': False,\n",
       "   'contains(accountant)': False,\n",
       "   'contains(find)': False,\n",
       "   'contains(form)': False,\n",
       "   'contains(revenue)': False,\n",
       "   'contains(residential)': False,\n",
       "   'contains(deadline)': False,\n",
       "   'contains(deputy)': False,\n",
       "   'contains(search)': False,\n",
       "   'contains(various)': False,\n",
       "   'contains(monthly)': False,\n",
       "   'contains(taking)': False,\n",
       "   'contains(communicate)': False,\n",
       "   'contains(payroll)': False,\n",
       "   'contains(award)': True,\n",
       "   'contains(bank)': False,\n",
       "   'contains(private)': False,\n",
       "   'contains(objective)': False,\n",
       "   'contains(annual)': False,\n",
       "   'contains(sound)': False,\n",
       "   'contains(dementia)': False,\n",
       "   'contains(automotive)': False,\n",
       "   'contains(access)': True,\n",
       "   'contains(expertise)': False,\n",
       "   'contains(weekend)': False,\n",
       "   'contains(city)': False,\n",
       "   'contains(preferred)': False,\n",
       "   'contains(commitment)': False,\n",
       "   'contains(eligible)': False,\n",
       "   'contains(requires)': False,\n",
       "   'contains(monitoring)': False,\n",
       "   'contains(facility)': False,\n",
       "   'contains(assisting)': False,\n",
       "   'contains(way)': False,\n",
       "   'contains(january)': False,\n",
       "   'contains(dedicated)': False,\n",
       "   'contains(discipline)': False,\n",
       "   'contains(two)': False,\n",
       "   'contains(friendly)': False,\n",
       "   'contains(junior)': True,\n",
       "   'contains(class)': False,\n",
       "   'contains(preparation)': False,\n",
       "   'contains(attention)': False,\n",
       "   'contains(advice)': False,\n",
       "   'contains(could)': False,\n",
       "   'contains(confident)': False,\n",
       "   'contains(improve)': False,\n",
       "   'contains(attitude)': False,\n",
       "   'contains(nmc)': False,\n",
       "   'contains(title)': True,\n",
       "   'contains(carry)': False,\n",
       "   'contains(innovative)': False,\n",
       "   'contains(arisen)': False,\n",
       "   'contains(feel)': False,\n",
       "   'contains(provides)': False,\n",
       "   'contains(covering)': False,\n",
       "   'contains(creative)': False,\n",
       "   'contains(accounting)': False,\n",
       "   'contains(exceptional)': False,\n",
       "   'contains(different)': False,\n",
       "   'contains(reputation)': False,\n",
       "   'contains(positive)': False,\n",
       "   'contains(north)': False,\n",
       "   'contains(credit)': False,\n",
       "   'contains(language)': False,\n",
       "   'contains(give)': False,\n",
       "   'contains(technician)': False,\n",
       "   'contains(hand)': False,\n",
       "   'contains(enhanced)': False,\n",
       "   'contains(water)': False,\n",
       "   'contains(real)': False,\n",
       "   'contains(legal)': False,\n",
       "   'contains(m)': False,\n",
       "   'contains(focused)': True,\n",
       "   'contains(country)': True,\n",
       "   'contains(recent)': False,\n",
       "   'contains(division)': False,\n",
       "   'contains(extensive)': False,\n",
       "   'contains(match)': False,\n",
       "   'contains(deal)': True,\n",
       "   'contains(pressure)': False,\n",
       "   'contains(presentation)': False,\n",
       "   'contains(primary)': False,\n",
       "   'contains(portfolio)': False,\n",
       "   'contains(additional)': False,\n",
       "   'contains(architecture)': False,\n",
       "   'contains(mental)': False,\n",
       "   'contains(others)': False,\n",
       "   'contains(property)': False,\n",
       "   'contains(worked)': False,\n",
       "   'contains(decision)': False,\n",
       "   'contains(technique)': False,\n",
       "   'contains(always)': False,\n",
       "   'contains(self)': False,\n",
       "   'contains(word)': False,\n",
       "   'contains(multiple)': False,\n",
       "   'contains(ambitious)': False,\n",
       "   'contains(payment)': False,\n",
       "   'contains(met)': False,\n",
       "   'contains(supervision)': False,\n",
       "   'contains(used)': False,\n",
       "   'contains(immediately)': False,\n",
       "   'contains(commission)': True,\n",
       "   'contains(click)': False,\n",
       "   'contains(regulation)': False,\n",
       "   'contains(follow)': False,\n",
       "   'contains(verbal)': False,\n",
       "   'contains(age)': False,\n",
       "   'contains(trade)': False,\n",
       "   'contains(see)': False,\n",
       "   'contains(many)': False,\n",
       "   'contains(interpersonal)': False,\n",
       "   'contains(colleague)': False,\n",
       "   'contains(create)': False,\n",
       "   'contains(grow)': False,\n",
       "   'contains(alongside)': False,\n",
       "   'contains(action)': False,\n",
       "   'contains(position)': False,\n",
       "   'contains(mobile)': False,\n",
       "   'contains(processing)': False,\n",
       "   'contains(construction)': False,\n",
       "   'contains(administrator)': False,\n",
       "   'contains(firm)': False,\n",
       "   'contains(proactive)': False,\n",
       "   'contains(respond)': False,\n",
       "   'contains(ote)': False,\n",
       "   'contains(efficient)': False,\n",
       "   'contains(driver)': False,\n",
       "   'contains(agreed)': False,\n",
       "   'contains(th)': False,\n",
       "   'contains(passionate)': False,\n",
       "   'contains(exposure)': False,\n",
       "   'contains(keen)': False,\n",
       "   'contains(assurance)': False,\n",
       "   'contains(expert)': False,\n",
       "   'contains(writing)': False,\n",
       "   'contains(contribute)': False,\n",
       "   'contains(code)': False,\n",
       "   'contains(overall)': False,\n",
       "   'contains(liaise)': False,\n",
       "   'contains(stage)': False,\n",
       "   'contains(campaign)': False,\n",
       "   'contains(depending)': False,\n",
       "   'contains(material)': False,\n",
       "   'contains(oracle)': False,\n",
       "   'contains(creating)': False,\n",
       "   'contains(registration)': False,\n",
       "   'contains(significant)': False,\n",
       "   'contains(desire)': False,\n",
       "   'contains(criterion)': False,\n",
       "   'contains(query)': False,\n",
       "   'contains(without)': False,\n",
       "   'contains(investment)': False,\n",
       "   'contains(transport)': False,\n",
       "   'contains(short)': False,\n",
       "   'contains(therefore)': False,\n",
       "   'contains(share)': False,\n",
       "   'contains(plant)': False,\n",
       "   'contains(learn)': False,\n",
       "   'contains(liaising)': False,\n",
       "   'contains(implement)': False,\n",
       "   'contains(letter)': False,\n",
       "   'contains(framework)': False,\n",
       "   'contains(detailed)': False,\n",
       "   'contains(update)': False,\n",
       "   'contains(html)': False,\n",
       "   'contains(come)': False,\n",
       "   'contains(structure)': False,\n",
       "   'contains(chance)': False,\n",
       "   'contains(adult)': False,\n",
       "   'contains(central)': False,\n",
       "   'contains(towards)': False,\n",
       "   'contains(php)': False,\n",
       "   'contains(assignment)': False,\n",
       "   'contains(selection)': False,\n",
       "   'contains(nvq)': False,\n",
       "   'contains(provision)': False,\n",
       "   'contains(assistance)': False,\n",
       "   'contains(appointment)': False,\n",
       "   'contains(young)': False,\n",
       "   'contains(face)': False,\n",
       "   'contains(preferably)': False,\n",
       "   'contains(asp)': False,\n",
       "   'contains(paced)': True,\n",
       "   'contains(enjoy)': False,\n",
       "   'contains(selling)': False,\n",
       "   'contains(student)': False,\n",
       "   'contains(addition)': False,\n",
       "   'contains(winning)': True,\n",
       "   'contains(delivered)': False,\n",
       "   'contains(solving)': False,\n",
       "   'contains(paid)': False,\n",
       "   'contains(legislation)': False,\n",
       "   'contains(platform)': False,\n",
       "   'contains(house)': False,\n",
       "   'contains(manchester)': False,\n",
       "   'contains(point)': False,\n",
       "   'contains(banking)': False,\n",
       "   'contains(already)': True,\n",
       "   'contains(science)': False,\n",
       "   'contains(organisational)': False,\n",
       "   'contains(agile)': False,\n",
       "   'contains(suit)': False,\n",
       "   'contains(reward)': False,\n",
       "   'contains(st)': False,\n",
       "   'contains(participate)': False,\n",
       "   'contains(skilled)': False,\n",
       "   'contains(integration)': False,\n",
       "   'contains(motor)': False,\n",
       "   'contains(discus)': False,\n",
       "   'contains(look)': False,\n",
       "   'contains(includes)': False,\n",
       "   'contains(allowance)': False,\n",
       "   'contains(wish)': False,\n",
       "   'contains(university)': False,\n",
       "   'contains(important)': False,\n",
       "   'contains(analytical)': False,\n",
       "   'contains(weekly)': False,\n",
       "   'contains(willing)': False,\n",
       "   'contains(continuous)': False,\n",
       "   'contains(back)': False,\n",
       "   'contains(industrial)': False,\n",
       "   'contains(stock)': False,\n",
       "   'contains(become)': False,\n",
       "   'contains(period)': False,\n",
       "   'contains(party)': False,\n",
       "   'contains(schedule)': False,\n",
       "   'contains(asset)': False,\n",
       "   'contains(open)': False,\n",
       "   'contains(link)': False,\n",
       "   'contains(pound)': False,\n",
       "   'contains(timely)': False,\n",
       "   'contains(v)': False,\n",
       "   'contains(kitchen)': False,\n",
       "   'contains(cleaning)': False,\n",
       "   'contains(directly)': True,\n",
       "   'contains(associated)': False,\n",
       "   'contains(work)': False,\n",
       "   'contains(awareness)': False,\n",
       "   'contains(love)': False,\n",
       "   'contains(disclosure)': False,\n",
       "   'contains(recognised)': False,\n",
       "   'contains(really)': False,\n",
       "   'contains(promote)': False,\n",
       "   'contains(enquiry)': False,\n",
       "   'contains(advantageous)': False,\n",
       "   'contains(hardware)': True,\n",
       "   'contains(talented)': False,\n",
       "   'contains(hear)': False,\n",
       "   'contains(installation)': False,\n",
       "   'contains(valid)': False,\n",
       "   'contains(seo)': False,\n",
       "   'contains(associate)': False,\n",
       "   'contains(cash)': False,\n",
       "   'contains(programming)': False,\n",
       "   'contains(needed)': False,\n",
       "   'contains(succeed)': False,\n",
       "   'contains(prior)': False,\n",
       "   'contains(modelling)': False,\n",
       "   'contains(energy)': False,\n",
       "   'contains(prospect)': True,\n",
       "   'contains(promoting)': False,\n",
       "   'contains(independent)': False,\n",
       "   'contains(branch)': False,\n",
       "   'contains(opening)': False,\n",
       "   'contains(type)': False,\n",
       "   'contains(removed)': False,\n",
       "   'contains(cs)': False,\n",
       "   'contains(enterprise)': True,\n",
       "   'contains(section)': False,\n",
       "   'contains(condition)': False,\n",
       "   'contains(living)': False,\n",
       "   'contains(comprehensive)': False,\n",
       "   'contains(placement)': False,\n",
       "   'contains(ad)': False,\n",
       "   'contains(asap)': False,\n",
       "   'contains(personnel)': False,\n",
       "   'contains(copy)': False,\n",
       "   'contains(monitor)': False,\n",
       "   'contains(close)': True,\n",
       "   'contains(safe)': False,\n",
       "   'contains(welcome)': False,\n",
       "   'contains(offered)': False,\n",
       "   'contains(workload)': False,\n",
       "   'contains(address)': False,\n",
       "   'contains(although)': False,\n",
       "   'contains(diverse)': False,\n",
       "   'contains(core)': False,\n",
       "   'contains(profile)': False,\n",
       "   'contains(goal)': False,\n",
       "   'contains(accept)': False,\n",
       "   'contains(coordinator)': False,\n",
       "   'contains(advertised)': False,\n",
       "   'contains(carrying)': False,\n",
       "   'contains(implementing)': False,\n",
       "   'contains(rewarding)': False,\n",
       "   'contains(button)': False,\n",
       "   'contains(ref)': False,\n",
       "   'contains(methodology)': False,\n",
       "   'contains(excellence)': False,\n",
       "   'contains(phone)': False,\n",
       "   'contains(physical)': False,\n",
       "   'contains(impact)': False,\n",
       "   'contains(operate)': False,\n",
       "   'contains(authority)': False,\n",
       "   'contains(keep)': False,\n",
       "   'contains(program)': False,\n",
       "   'contains(confidence)': False,\n",
       "   'contains(view)': False,\n",
       "   'contains(advertising)': False,\n",
       "   'contains(solid)': False,\n",
       "   'contains(treatment)': False,\n",
       "   'contains(cycle)': False,\n",
       "   'contains(de)': False,\n",
       "   'contains(varied)': False,\n",
       "   'contains(particular)': False,\n",
       "   'contains(hay)': False,\n",
       "   'contains(architect)': False,\n",
       "   'contains(guidance)': False,\n",
       "   'contains(last)': False,\n",
       "   'contains(expectation)': False,\n",
       "   'contains(going)': False,\n",
       "   'contains(perform)': False,\n",
       "   'contains(advanced)': False,\n",
       "   'contains(holder)': False,\n",
       "   'contains(latest)': False,\n",
       "   'contains(javascript)': False,\n",
       "   'contains(linux)': False,\n",
       "   'contains(conduct)': True,\n",
       "   'contains(europe)': False,\n",
       "   'contains(supervisor)': False,\n",
       "   'contains(expect)': False,\n",
       "   'contains(belfast)': False,\n",
       "   'contains(machine)': False,\n",
       "   'contains(uncapped)': False,\n",
       "   'contains(tender)': False,\n",
       "   'contains(room)': False,\n",
       "   'contains(maintained)': False,\n",
       "   'contains(component)': False,\n",
       "   'contains(pa)': False,\n",
       "   'contains(contacted)': False,\n",
       "   'contains(step)': False,\n",
       "   'contains(know)': False,\n",
       "   'contains(telesales)': False,\n",
       "   'contains(expansion)': False,\n",
       "   'contains(near)': False,\n",
       "   'contains(touch)': False,\n",
       "   'contains(card)': False,\n",
       "   'contains(caring)': False,\n",
       "   'contains(idea)': False,\n",
       "   'contains(crm)': False,\n",
       "   'contains(hygiene)': False,\n",
       "   'contains(located)': True,\n",
       "   'contains(membership)': False,\n",
       "   'contains(enable)': False,\n",
       "   'contains(perfect)': False,\n",
       "   'contains(desk)': False,\n",
       "   'contains(run)': False,\n",
       "   'contains(hospital)': False,\n",
       "   'contains(occasion)': False,\n",
       "   'contains(february)': False,\n",
       "   'contains(continue)': False,\n",
       "   'contains(educated)': False,\n",
       "   'contains(together)': False,\n",
       "   'contains(housing)': False,\n",
       "   'contains(brown)': False,\n",
       "   'contains(move)': False,\n",
       "   'contains(achievement)': False,\n",
       "   'contains(medication)': False,\n",
       "   'contains(negotiation)': False,\n",
       "   'contains(made)': False,\n",
       "   'contains(producing)': False,\n",
       "   'contains(hard)': False,\n",
       "   'contains(longer)': False,\n",
       "   'contains(totaljobs)': True,\n",
       "   'contains(prepare)': False,\n",
       "   'contains(requested)': False,\n",
       "   'contains(present)': False,\n",
       "   'contains(environmental)': False,\n",
       "   'contains(regard)': False,\n",
       "   'contains(file)': False,\n",
       "   'contains(handling)': False,\n",
       "   'contains(principle)': False,\n",
       "   'contains(assigned)': False,\n",
       "   'contains(analytics)': False,\n",
       "   'contains(matter)': False,\n",
       "   'contains(largest)': False,\n",
       "   'contains(alternatively)': False,\n",
       "   'contains(gained)': False,\n",
       "   'contains(front)': False,\n",
       "   'contains(helping)': False,\n",
       "   'contains(particularly)': False,\n",
       "   'contains(continued)': False,\n",
       "   'contains(fixed)': False,\n",
       "   'contains(completion)': False,\n",
       "   'contains(designer)': False,\n",
       "   'contains(managed)': False,\n",
       "   'contains(clean)': False,\n",
       "   'contains(aim)': False,\n",
       "   'contains(completed)': False,\n",
       "   'contains(course)': False,\n",
       "   'contains(contractor)': False,\n",
       "   'contains(method)': False,\n",
       "   'contains(efficiency)': False,\n",
       "   'contains(discount)': False,\n",
       "   'contains(thinking)': False,\n",
       "   'contains(request)': False,\n",
       "   'contains(drawing)': False,\n",
       "   'contains(notice)': False,\n",
       "   'contains(certificate)': False,\n",
       "   'contains(achieved)': False,\n",
       "   'contains(nursery)': False,\n",
       "   'contains(council)': False,\n",
       "   'contains(nature)': False,\n",
       "   'contains(partie)': False,\n",
       "   'contains(capability)': False,\n",
       "   'contains(genuine)': False,\n",
       "   'contains(trained)': False,\n",
       "   'contains(surrey)': False,\n",
       "   'contains(visual)': False,\n",
       "   'contains(insight)': False,\n",
       "   'contains(trading)': False,\n",
       "   'contains(functional)': False,\n",
       "   'contains(organised)': False,\n",
       "   'contains(regional)': False,\n",
       "   'contains(qa)': False,\n",
       "   'contains(ownership)': False,\n",
       "   'contains(debt)': False,\n",
       "   'contains(generation)': False,\n",
       "   'contains(shop)': False,\n",
       "   'contains(achieving)': False,\n",
       "   'contains(status)': False,\n",
       "   'contains(quickly)': False,\n",
       "   'contains(three)': False,\n",
       "   'contains(rapidly)': True,\n",
       "   'contains(chain)': False,\n",
       "   'contains(ireland)': False,\n",
       "   'contains(region)': False,\n",
       "   'contains(go)': False,\n",
       "   'contains(intelligence)': False,\n",
       "   'contains(regarding)': False,\n",
       "   'contains(response)': False,\n",
       "   'contains(motivate)': False,\n",
       "   'contains(electronics)': False,\n",
       "   'contains(environment)': False,\n",
       "   'contains(officer)': False,\n",
       "   'contains(inspection)': False,\n",
       "   'contains(electronic)': False,\n",
       "   'contains(upon)': False,\n",
       "   'contains(secure)': False,\n",
       "   'contains(critical)': False,\n",
       "   'contains(workshop)': False,\n",
       "   'contains(partnership)': False,\n",
       "   'contains(state)': False,\n",
       "   'contains(beneficial)': False,\n",
       "   'contains(pattern)': False,\n",
       "   'contains(warehouse)': False,\n",
       "   'contains(repair)': False,\n",
       "   'contains(attend)': False,\n",
       "   'contains(promotion)': False,\n",
       "   'contains(bar)': False,\n",
       "   'contains(quote)': False,\n",
       "   'contains(unique)': False,\n",
       "   'contains(heart)': False,\n",
       "   'contains(coaching)': False,\n",
       "   'contains(early)': False,\n",
       "   'contains(procurement)': False,\n",
       "   'contains(ass)': False,\n",
       "   'contains(administrative)': False,\n",
       "   'contains(increase)': False,\n",
       "   'contains(sell)': False,\n",
       "   'contains(source)': False,\n",
       "   'contains(category)': False,\n",
       "   'contains(specifically)': False,\n",
       "   'contains(regulatory)': False,\n",
       "   'contains(certification)': False,\n",
       "   'contains(board)': False,\n",
       "   'contains(direction)': False,\n",
       "   'contains(pub)': False,\n",
       "   'contains(generous)': False,\n",
       "   'contains(fresh)': False,\n",
       "   'contains(selfmotivated)': False,\n",
       "   'contains(unsuccessful)': False,\n",
       "   'contains(aerospace)': False,\n",
       "   'contains(pack)': False,\n",
       "   'contains(identifying)': False,\n",
       "   'contains(facing)': False,\n",
       "   'contains(sure)': False,\n",
       "   'contains(german)': False,\n",
       "   'contains(progressive)': False,\n",
       "   'contains(multi)': False,\n",
       "   'contains(feedback)': False,\n",
       "   'contains(rd)': False,\n",
       "   'contains(flexibility)': False,\n",
       "   'contains(storage)': False,\n",
       "   'contains(eden)': False,\n",
       "   'contains(proposal)': False,\n",
       "   'contains(trend)': False,\n",
       "   'contains(finding)': False,\n",
       "   'contains(establish)': False,\n",
       "   'contains(grade)': False,\n",
       "   'contains(developed)': False,\n",
       "   'contains(engagement)': False,\n",
       "   'contains(scope)': False,\n",
       "   'contains(speaking)': False,\n",
       "   'contains(respect)': False,\n",
       "   'contains(meal)': False,\n",
       "   'contains(play)': False,\n",
       "   'contains(cisco)': False,\n",
       "   'contains(train)': False,\n",
       "   'contains(held)': False,\n",
       "   'contains(built)': False,\n",
       "   'contains(maximise)': False,\n",
       "   'contains(safeguarding)': False,\n",
       "   'contains(gas)': False,\n",
       "   'contains(midland)': False,\n",
       "   'contains(consulting)': False,\n",
       "   'contains(sharepoint)': False,\n",
       "   'contains(agent)': False,\n",
       "   'contains(broad)': False,\n",
       "   'contains(starting)': False,\n",
       "   'contains(england)': False,\n",
       "   'contains(guest)': False,\n",
       "   ...},\n",
       "  'Low')]"
      ]
     },
     "execution_count": 27,
     "metadata": {},
     "output_type": "execute_result"
    }
   ],
   "source": [
    "featuresets[:1]"
   ]
  },
  {
   "cell_type": "code",
   "execution_count": 28,
   "id": "935aacac",
   "metadata": {},
   "outputs": [
    {
     "name": "stdout",
     "output_type": "stream",
     "text": [
      "Most Informative Features\n",
      "        contains(backed) = True             High : Low    =     23.1 : 1.0\n",
      "            contains(vp) = True             High : Low    =     18.7 : 1.0\n",
      "          contains(apps) = True             High : Low    =     16.5 : 1.0\n",
      "         contains(night) = True              Low : High   =     14.9 : 1.0\n",
      "     contains(alignment) = True             High : Low    =     14.3 : 1.0\n",
      "       contains(broader) = True             High : Low    =     14.3 : 1.0\n",
      "    contains(derivative) = True             High : Low    =     14.3 : 1.0\n",
      "            contains(fx) = True             High : Low    =     14.3 : 1.0\n",
      "          contains(gaap) = True             High : Low    =     14.3 : 1.0\n",
      "        contains(huxley) = True             High : Low    =     14.3 : 1.0\n",
      "             contains(o) = True             High : Low    =     14.3 : 1.0\n",
      "    contains(partnering) = True             High : Low    =     13.8 : 1.0\n",
      "    contains(governance) = True             High : Low    =     12.5 : 1.0\n",
      "         contains(adept) = True             High : Low    =     12.1 : 1.0\n",
      "        contains(manger) = True             High : Low    =     12.1 : 1.0\n",
      "          contains(slas) = True             High : Low    =     12.1 : 1.0\n",
      "           contains(ssa) = True             High : Low    =     12.1 : 1.0\n",
      "           contains(ten) = True             High : Low    =     12.1 : 1.0\n",
      "      contains(upcoming) = True             High : Low    =     12.1 : 1.0\n",
      "    contains(restaurant) = True              Low : High   =     12.0 : 1.0\n"
     ]
    }
   ],
   "source": [
    "classifier.show_most_informative_features(20)"
   ]
  },
  {
   "cell_type": "code",
   "execution_count": 29,
   "id": "5f8a1f81",
   "metadata": {},
   "outputs": [],
   "source": [
    "features_test = [tokenize_text(X_test_i) for X_test_i in X_test]\n",
    "documents_test = [(features_test[i]) for i in range(len(y_test))]\n",
    "featuresets = [(document_features(d)) for d in documents_test]"
   ]
  },
  {
   "cell_type": "code",
   "execution_count": 30,
   "id": "667b1306",
   "metadata": {},
   "outputs": [],
   "source": [
    "y_pred = [classifier.classify(featuresets[i]) for i in range(len(featuresets))]"
   ]
  },
  {
   "cell_type": "code",
   "execution_count": 31,
   "id": "2fc94d0e",
   "metadata": {},
   "outputs": [
    {
     "data": {
      "text/plain": [
       "0.818"
      ]
     },
     "execution_count": 31,
     "metadata": {},
     "output_type": "execute_result"
    }
   ],
   "source": [
    "accuracy_score(y_test,y_pred)"
   ]
  },
  {
   "cell_type": "code",
   "execution_count": 32,
   "id": "ce83226e",
   "metadata": {},
   "outputs": [
    {
     "data": {
      "text/plain": [
       "array([[ 70,  59],\n",
       "       [ 32, 339]])"
      ]
     },
     "execution_count": 32,
     "metadata": {},
     "output_type": "execute_result"
    }
   ],
   "source": [
    "# [classifier.classify(featuresets[i]) for i in len(featuresets)]\n",
    "confusion_matrix(y_test,y_pred)"
   ]
  },
  {
   "cell_type": "code",
   "execution_count": 33,
   "id": "62bd9e37",
   "metadata": {
    "scrolled": true
   },
   "outputs": [
    {
     "data": {
      "text/html": [
       "<div>\n",
       "<style scoped>\n",
       "    .dataframe tbody tr th:only-of-type {\n",
       "        vertical-align: middle;\n",
       "    }\n",
       "\n",
       "    .dataframe tbody tr th {\n",
       "        vertical-align: top;\n",
       "    }\n",
       "\n",
       "    .dataframe thead th {\n",
       "        text-align: right;\n",
       "    }\n",
       "</style>\n",
       "<table border=\"1\" class=\"dataframe\">\n",
       "  <thead>\n",
       "    <tr style=\"text-align: right;\">\n",
       "      <th></th>\n",
       "      <th>Title</th>\n",
       "      <th>FullDescription</th>\n",
       "      <th>Location</th>\n",
       "      <th>ContractType</th>\n",
       "      <th>ContractTime</th>\n",
       "      <th>Company</th>\n",
       "      <th>Category</th>\n",
       "      <th>Salary</th>\n",
       "    </tr>\n",
       "  </thead>\n",
       "  <tbody>\n",
       "    <tr>\n",
       "      <th>728</th>\n",
       "      <td>Interim Team Manager Disabled Children</td>\n",
       "      <td>Interim Team Manager  Disabled Childrens Team ...</td>\n",
       "      <td>Wales</td>\n",
       "      <td>full_time</td>\n",
       "      <td>NaN</td>\n",
       "      <td>NaN</td>\n",
       "      <td>Healthcare &amp; Nursing Jobs</td>\n",
       "      <td>High</td>\n",
       "    </tr>\n",
       "    <tr>\n",
       "      <th>1073</th>\n",
       "      <td>Consultant Social Worker Children s</td>\n",
       "      <td>Consultant Social Worker  Worcestershire  Dece...</td>\n",
       "      <td>Worcestershire</td>\n",
       "      <td>NaN</td>\n",
       "      <td>NaN</td>\n",
       "      <td>NaN</td>\n",
       "      <td>Healthcare &amp; Nursing Jobs</td>\n",
       "      <td>High</td>\n",
       "    </tr>\n",
       "    <tr>\n",
       "      <th>330</th>\n",
       "      <td>Offshore Specialist Tax Senior</td>\n",
       "      <td>An opportunity to join this leading Top 10 fir...</td>\n",
       "      <td>London</td>\n",
       "      <td>NaN</td>\n",
       "      <td>permanent</td>\n",
       "      <td>NaN</td>\n",
       "      <td>Accounting &amp; Finance Jobs</td>\n",
       "      <td>High</td>\n",
       "    </tr>\n",
       "    <tr>\n",
       "      <th>820</th>\n",
       "      <td>SALES SPECIALIST  FORMWORK, SHUTTERING &amp; FALSE...</td>\n",
       "      <td>Vacancy No **** Job Title SALES SPECIALIST FOR...</td>\n",
       "      <td>West Midlands</td>\n",
       "      <td>NaN</td>\n",
       "      <td>permanent</td>\n",
       "      <td>NaN</td>\n",
       "      <td>Sales Jobs</td>\n",
       "      <td>High</td>\n",
       "    </tr>\n",
       "    <tr>\n",
       "      <th>2108</th>\n",
       "      <td>Business Development Manager</td>\n",
       "      <td>Business Development Manager Field Based (Cove...</td>\n",
       "      <td>South East London</td>\n",
       "      <td>NaN</td>\n",
       "      <td>NaN</td>\n",
       "      <td>Web Recruit Ltd</td>\n",
       "      <td>Sales Jobs</td>\n",
       "      <td>Low</td>\n",
       "    </tr>\n",
       "  </tbody>\n",
       "</table>\n",
       "</div>"
      ],
      "text/plain": [
       "                                                  Title  \\\n",
       "728              Interim Team Manager Disabled Children   \n",
       "1073                Consultant Social Worker Children s   \n",
       "330                      Offshore Specialist Tax Senior   \n",
       "820   SALES SPECIALIST  FORMWORK, SHUTTERING & FALSE...   \n",
       "2108                       Business Development Manager   \n",
       "\n",
       "                                        FullDescription           Location  \\\n",
       "728   Interim Team Manager  Disabled Childrens Team ...              Wales   \n",
       "1073  Consultant Social Worker  Worcestershire  Dece...     Worcestershire   \n",
       "330   An opportunity to join this leading Top 10 fir...             London   \n",
       "820   Vacancy No **** Job Title SALES SPECIALIST FOR...      West Midlands   \n",
       "2108  Business Development Manager Field Based (Cove...  South East London   \n",
       "\n",
       "     ContractType ContractTime          Company                   Category  \\\n",
       "728     full_time          NaN              NaN  Healthcare & Nursing Jobs   \n",
       "1073          NaN          NaN              NaN  Healthcare & Nursing Jobs   \n",
       "330           NaN    permanent              NaN  Accounting & Finance Jobs   \n",
       "820           NaN    permanent              NaN                 Sales Jobs   \n",
       "2108          NaN          NaN  Web Recruit Ltd                 Sales Jobs   \n",
       "\n",
       "     Salary  \n",
       "728    High  \n",
       "1073   High  \n",
       "330    High  \n",
       "820    High  \n",
       "2108    Low  "
      ]
     },
     "execution_count": 33,
     "metadata": {},
     "output_type": "execute_result"
    }
   ],
   "source": [
    "# misclassified samples\n",
    "df.iloc[(y_test!=y_pred)[(y_test!=y_pred)==True].index].head(5)"
   ]
  },
  {
   "cell_type": "code",
   "execution_count": 52,
   "id": "4e338344",
   "metadata": {},
   "outputs": [
    {
     "data": {
      "text/plain": [
       "Low     371\n",
       "High    129\n",
       "Name: Salary, dtype: int64"
      ]
     },
     "execution_count": 52,
     "metadata": {},
     "output_type": "execute_result"
    }
   ],
   "source": [
    "test.Salary.value_counts()"
   ]
  },
  {
   "cell_type": "code",
   "execution_count": 36,
   "id": "f1e00ed9",
   "metadata": {},
   "outputs": [
    {
     "data": {
      "text/plain": [
       "array([[ 70,  59],\n",
       "       [ 32, 339]])"
      ]
     },
     "execution_count": 36,
     "metadata": {},
     "output_type": "execute_result"
    }
   ],
   "source": [
    "confusion_matrix(y_test,y_pred)"
   ]
  },
  {
   "cell_type": "code",
   "execution_count": 55,
   "id": "d8af229b",
   "metadata": {},
   "outputs": [
    {
     "data": {
      "text/html": [
       "<div>\n",
       "<style scoped>\n",
       "    .dataframe tbody tr th:only-of-type {\n",
       "        vertical-align: middle;\n",
       "    }\n",
       "\n",
       "    .dataframe tbody tr th {\n",
       "        vertical-align: top;\n",
       "    }\n",
       "\n",
       "    .dataframe thead th {\n",
       "        text-align: right;\n",
       "    }\n",
       "</style>\n",
       "<table border=\"1\" class=\"dataframe\">\n",
       "  <thead>\n",
       "    <tr style=\"text-align: right;\">\n",
       "      <th></th>\n",
       "      <th>Pred:Low</th>\n",
       "      <th>Pred:High</th>\n",
       "    </tr>\n",
       "  </thead>\n",
       "  <tbody>\n",
       "    <tr>\n",
       "      <th>True:Low</th>\n",
       "      <td>339</td>\n",
       "      <td>32</td>\n",
       "    </tr>\n",
       "    <tr>\n",
       "      <th>True:High</th>\n",
       "      <td>59</td>\n",
       "      <td>70</td>\n",
       "    </tr>\n",
       "  </tbody>\n",
       "</table>\n",
       "</div>"
      ],
      "text/plain": [
       "           Pred:Low  Pred:High\n",
       "True:Low        339         32\n",
       "True:High        59         70"
      ]
     },
     "execution_count": 55,
     "metadata": {},
     "output_type": "execute_result"
    }
   ],
   "source": [
    "pd.DataFrame(confusion_matrix(y_test, y_pred,labels=['Low','High']), index=['True:Low',\n",
    "'True:High'], columns=['Pred:Low', 'Pred:High'])"
   ]
  },
  {
   "cell_type": "code",
   "execution_count": 56,
   "id": "06eb18d8",
   "metadata": {},
   "outputs": [
    {
     "data": {
      "image/png": "[encoded data removed]",
      "text/plain": [
       "<Figure size 432x288 with 2 Axes>"
      ]
     },
     "metadata": {},
     "output_type": "display_data"
    }
   ],
   "source": [
    "import seaborn as sn\n",
    "import pandas as pd\n",
    "import matplotlib.pyplot as plt\n",
    "\n",
    "\n",
    "# plt.figure(figsize=(10,7))\n",
    "plt.ticklabel_format(style='plain',useOffset=False)\n",
    "sn.set(font_scale=1.4) # for label size\n",
    "sn.heatmap(pd.DataFrame(confusion_matrix(y_test, y_pred,labels=['Low','High']), index=['True:Low',\n",
    "'True:High'], columns=['Pred:Low', 'Pred:High']), annot=True, fmt='.3g',annot_kws={\"size\": 16}) # font size\n",
    "\n",
    "plt.show()"
   ]
  },
  {
   "cell_type": "markdown",
   "id": "9d4c3cf0",
   "metadata": {},
   "source": [
    "### Try adding job category as one of the features\n"
   ]
  },
  {
   "cell_type": "code",
   "execution_count": 34,
   "id": "efbbb5c9",
   "metadata": {},
   "outputs": [
    {
     "data": {
      "text/plain": [
       "0        True\n",
       "1        True\n",
       "2        True\n",
       "3       False\n",
       "4       False\n",
       "        ...  \n",
       "2495     True\n",
       "2496    False\n",
       "2497    False\n",
       "2498     True\n",
       "2499     True\n",
       "Name: Category, Length: 2500, dtype: bool"
      ]
     },
     "execution_count": 34,
     "metadata": {},
     "output_type": "execute_result"
    }
   ],
   "source": [
    "df.Category.str.contains('IT')"
   ]
  },
  {
   "cell_type": "code",
   "execution_count": 35,
   "id": "2f6fe1d8",
   "metadata": {},
   "outputs": [],
   "source": [
    "stop_words2 = stop_words.copy()\n",
    "stop_words2.add('jobs')\n",
    "stop_words2.remove(\"it\")\n",
    "\n",
    "def remove_stopwords(text):\n",
    "    output= [i for i in text if i not in stop_words2]\n",
    "    return output\n",
    "\n",
    "def tokenize_text(version_desc):\n",
    "    lowercase=version_desc.lower()\n",
    "    \n",
    "    tokens = word_tokenizer.tokenize(lowercase)\n",
    "    \n",
    "    tokens_no_stopwords = remove_stopwords(tokens)\n",
    "\n",
    "    text = [wordnet_lemmatizer.lemmatize(word) for word in tokens_no_stopwords]\n",
    "    \n",
    "    return text"
   ]
  },
  {
   "cell_type": "code",
   "execution_count": 36,
   "id": "0a04f8b8",
   "metadata": {},
   "outputs": [],
   "source": [
    "X_train_2 = train['Category']\n",
    "X_test_2 = test['Category']"
   ]
  },
  {
   "cell_type": "code",
   "execution_count": 37,
   "id": "882d14f2",
   "metadata": {},
   "outputs": [],
   "source": [
    "categories = [tokenize_text(cat) for cat in X_train_2]"
   ]
  },
  {
   "cell_type": "code",
   "execution_count": 38,
   "id": "b5a1dac7",
   "metadata": {},
   "outputs": [],
   "source": [
    "categories_flatten =[j for sub in categories for j in sub]"
   ]
  },
  {
   "cell_type": "code",
   "execution_count": 39,
   "id": "ab3b6f92",
   "metadata": {},
   "outputs": [],
   "source": [
    "word_categories= list(nltk.FreqDist(categories_flatten))"
   ]
  },
  {
   "cell_type": "code",
   "execution_count": 40,
   "id": "8b963480",
   "metadata": {},
   "outputs": [],
   "source": [
    "def document_features_category(document,category):\n",
    "    document_words = set(document)\n",
    "    document_words2 = set(category)\n",
    "    features = {}\n",
    "    for word in word_features:\n",
    "        features['contains({})'.format(word)] = (word in document_words)\n",
    "    for word in word_categories:\n",
    "        features['category_is({})'.format(word)] = (word in document_words2)\n",
    "    return features"
   ]
  },
  {
   "cell_type": "code",
   "execution_count": 41,
   "id": "53ef6257",
   "metadata": {},
   "outputs": [],
   "source": [
    "documents2 =  [(features[i],categories[i],y_train.iloc[i]) for i in range(len(y_train))]"
   ]
  },
  {
   "cell_type": "code",
   "execution_count": 42,
   "id": "37da2331",
   "metadata": {},
   "outputs": [],
   "source": [
    "featuresets2 = [(document_features_category(d,cat), c) for (d,cat,c) in documents2]"
   ]
  },
  {
   "cell_type": "code",
   "execution_count": 43,
   "id": "74241d25",
   "metadata": {},
   "outputs": [],
   "source": [
    "train_set = featuresets2\n",
    "classifier = nltk.NaiveBayesClassifier.train(train_set)"
   ]
  },
  {
   "cell_type": "code",
   "execution_count": 44,
   "id": "e694a2dd",
   "metadata": {},
   "outputs": [
    {
     "name": "stdout",
     "output_type": "stream",
     "text": [
      "Most Informative Features\n",
      "        contains(backed) = True             High : Low    =     23.1 : 1.0\n",
      "            contains(vp) = True             High : Low    =     18.7 : 1.0\n",
      "          contains(apps) = True             High : Low    =     16.5 : 1.0\n",
      "         contains(night) = True              Low : High   =     14.9 : 1.0\n",
      "     contains(alignment) = True             High : Low    =     14.3 : 1.0\n",
      "       contains(broader) = True             High : Low    =     14.3 : 1.0\n",
      "    contains(derivative) = True             High : Low    =     14.3 : 1.0\n",
      "            contains(fx) = True             High : Low    =     14.3 : 1.0\n",
      "          contains(gaap) = True             High : Low    =     14.3 : 1.0\n",
      "        contains(huxley) = True             High : Low    =     14.3 : 1.0\n",
      "             contains(o) = True             High : Low    =     14.3 : 1.0\n",
      "    contains(partnering) = True             High : Low    =     13.8 : 1.0\n",
      "    contains(governance) = True             High : Low    =     12.5 : 1.0\n",
      "         contains(adept) = True             High : Low    =     12.1 : 1.0\n",
      "        contains(manger) = True             High : Low    =     12.1 : 1.0\n",
      "          contains(slas) = True             High : Low    =     12.1 : 1.0\n",
      "           contains(ssa) = True             High : Low    =     12.1 : 1.0\n",
      "           contains(ten) = True             High : Low    =     12.1 : 1.0\n",
      "      contains(upcoming) = True             High : Low    =     12.1 : 1.0\n",
      "    contains(restaurant) = True              Low : High   =     12.0 : 1.0\n"
     ]
    }
   ],
   "source": [
    "classifier.show_most_informative_features(20)"
   ]
  },
  {
   "cell_type": "code",
   "execution_count": 45,
   "id": "acd7d163",
   "metadata": {},
   "outputs": [],
   "source": [
    "# features_test = [tokenize_text(X_test_i) for X_test_i in X_test]\n",
    "# documents_test = [(features_test[i]) for i in range(len(y_test))]\n",
    "# featuresets = [(document_features(d)) for d in documents_test]"
   ]
  },
  {
   "cell_type": "code",
   "execution_count": 46,
   "id": "9dedffd6",
   "metadata": {},
   "outputs": [],
   "source": [
    "X_test_2 = test['Category']"
   ]
  },
  {
   "cell_type": "code",
   "execution_count": 47,
   "id": "83520b80",
   "metadata": {},
   "outputs": [],
   "source": [
    "categories_test = [tokenize_text(cat) for cat in X_test_2]"
   ]
  },
  {
   "cell_type": "code",
   "execution_count": 48,
   "id": "d83a1207",
   "metadata": {},
   "outputs": [],
   "source": [
    "documents_test_2 =[(features_test[i],categories_test[i]) for i in range(len(y_test))]"
   ]
  },
  {
   "cell_type": "code",
   "execution_count": 49,
   "id": "b3e707a0",
   "metadata": {},
   "outputs": [],
   "source": [
    "featuresets2  = [(document_features_category(d,cat)) for d,cat in documents_test_2]"
   ]
  },
  {
   "cell_type": "code",
   "execution_count": 50,
   "id": "778d899d",
   "metadata": {},
   "outputs": [],
   "source": [
    "y_pred = [classifier.classify(featuresets2[i]) for i in range(len(featuresets2))]"
   ]
  },
  {
   "cell_type": "code",
   "execution_count": 51,
   "id": "39754097",
   "metadata": {},
   "outputs": [
    {
     "data": {
      "text/plain": [
       "0.822"
      ]
     },
     "execution_count": 51,
     "metadata": {},
     "output_type": "execute_result"
    }
   ],
   "source": [
    "accuracy_score(y_test,y_pred)"
   ]
  },
  {
   "cell_type": "code",
   "execution_count": 52,
   "id": "743d4fe3",
   "metadata": {},
   "outputs": [
    {
     "data": {
      "text/plain": [
       "array([[ 73,  56],\n",
       "       [ 33, 338]])"
      ]
     },
     "execution_count": 52,
     "metadata": {},
     "output_type": "execute_result"
    }
   ],
   "source": [
    "# [classifier.classify(featuresets[i]) for i in len(featuresets)]\n",
    "confusion_matrix(y_test,y_pred)"
   ]
  },
  {
   "cell_type": "markdown",
   "id": "83913d85",
   "metadata": {},
   "source": [
    "### Try adding location as one of the features"
   ]
  },
  {
   "cell_type": "code",
   "execution_count": 53,
   "id": "0bd674f5",
   "metadata": {},
   "outputs": [],
   "source": [
    "X_train_2 = train['Location']\n",
    "X_test_2 = test['Location']"
   ]
  },
  {
   "cell_type": "code",
   "execution_count": 54,
   "id": "a104b8b8",
   "metadata": {},
   "outputs": [],
   "source": [
    "locations = [tokenize_text(cat) for cat in X_train_2]"
   ]
  },
  {
   "cell_type": "code",
   "execution_count": 55,
   "id": "47c8f23e",
   "metadata": {},
   "outputs": [],
   "source": [
    "locations_flatten =[j for sub in locations for j in sub]"
   ]
  },
  {
   "cell_type": "code",
   "execution_count": 56,
   "id": "cbbdcfcf",
   "metadata": {},
   "outputs": [],
   "source": [
    "word_locations= list(nltk.FreqDist(locations_flatten))"
   ]
  },
  {
   "cell_type": "code",
   "execution_count": 57,
   "id": "a0925402",
   "metadata": {},
   "outputs": [],
   "source": [
    "def document_features_location(document,location):\n",
    "    document_words = set(document)\n",
    "    document_words2 = set(location)\n",
    "    features = {}\n",
    "    for word in word_features:\n",
    "        features['contains({})'.format(word)] = (word in document_words)\n",
    "    for word in word_locations:\n",
    "        features['location_is({})'.format(word)] = (word in document_words2)\n",
    "    return features"
   ]
  },
  {
   "cell_type": "code",
   "execution_count": 58,
   "id": "92cc792b",
   "metadata": {},
   "outputs": [],
   "source": [
    "documents2 =  [(features[i],locations[i],y_train.iloc[i]) for i in range(len(y_train))]"
   ]
  },
  {
   "cell_type": "code",
   "execution_count": 59,
   "id": "db854318",
   "metadata": {},
   "outputs": [],
   "source": [
    "featuresets2 = [(document_features_location(d,cat), c) for (d,cat,c) in documents2]"
   ]
  },
  {
   "cell_type": "code",
   "execution_count": 60,
   "id": "8c034f71",
   "metadata": {},
   "outputs": [],
   "source": [
    "train_set = featuresets2\n",
    "classifier = nltk.NaiveBayesClassifier.train(train_set)"
   ]
  },
  {
   "cell_type": "code",
   "execution_count": 61,
   "id": "5851f719",
   "metadata": {},
   "outputs": [
    {
     "name": "stdout",
     "output_type": "stream",
     "text": [
      "Most Informative Features\n",
      "        contains(backed) = True             High : Low    =     23.1 : 1.0\n",
      "            contains(vp) = True             High : Low    =     18.7 : 1.0\n",
      "          contains(apps) = True             High : Low    =     16.5 : 1.0\n",
      "         contains(night) = True              Low : High   =     14.9 : 1.0\n",
      "     contains(alignment) = True             High : Low    =     14.3 : 1.0\n",
      "       contains(broader) = True             High : Low    =     14.3 : 1.0\n",
      "    contains(derivative) = True             High : Low    =     14.3 : 1.0\n",
      "            contains(fx) = True             High : Low    =     14.3 : 1.0\n",
      "          contains(gaap) = True             High : Low    =     14.3 : 1.0\n",
      "        contains(huxley) = True             High : Low    =     14.3 : 1.0\n",
      "             contains(o) = True             High : Low    =     14.3 : 1.0\n",
      "    contains(partnering) = True             High : Low    =     13.8 : 1.0\n",
      "    contains(governance) = True             High : Low    =     12.5 : 1.0\n",
      "         contains(adept) = True             High : Low    =     12.1 : 1.0\n",
      "        contains(manger) = True             High : Low    =     12.1 : 1.0\n",
      "          contains(slas) = True             High : Low    =     12.1 : 1.0\n",
      "           contains(ssa) = True             High : Low    =     12.1 : 1.0\n",
      "           contains(ten) = True             High : Low    =     12.1 : 1.0\n",
      "      contains(upcoming) = True             High : Low    =     12.1 : 1.0\n",
      "    contains(restaurant) = True              Low : High   =     12.0 : 1.0\n"
     ]
    }
   ],
   "source": [
    "classifier.show_most_informative_features(20)"
   ]
  },
  {
   "cell_type": "code",
   "execution_count": 62,
   "id": "c51c5761",
   "metadata": {},
   "outputs": [],
   "source": [
    "X_test_2 = test['Location']"
   ]
  },
  {
   "cell_type": "code",
   "execution_count": 63,
   "id": "5ad5a0bd",
   "metadata": {},
   "outputs": [],
   "source": [
    "locations_test = [tokenize_text(cat) for cat in X_test_2]"
   ]
  },
  {
   "cell_type": "code",
   "execution_count": 64,
   "id": "5d46f4db",
   "metadata": {},
   "outputs": [],
   "source": [
    "documents_test_2 =[(features_test[i],locations_test[i]) for i in range(len(y_test))]"
   ]
  },
  {
   "cell_type": "code",
   "execution_count": 65,
   "id": "dcdd617e",
   "metadata": {},
   "outputs": [],
   "source": [
    "featuresets2  = [(document_features_location(d,cat)) for d,cat in documents_test_2]"
   ]
  },
  {
   "cell_type": "code",
   "execution_count": 66,
   "id": "01b00939",
   "metadata": {},
   "outputs": [],
   "source": [
    "y_pred = [classifier.classify(featuresets2[i]) for i in range(len(featuresets2))]"
   ]
  },
  {
   "cell_type": "code",
   "execution_count": 67,
   "id": "34858e46",
   "metadata": {},
   "outputs": [
    {
     "data": {
      "text/plain": [
       "0.818"
      ]
     },
     "execution_count": 67,
     "metadata": {},
     "output_type": "execute_result"
    }
   ],
   "source": [
    "accuracy_score(y_test,y_pred)"
   ]
  },
  {
   "cell_type": "code",
   "execution_count": 68,
   "id": "a6733bf3",
   "metadata": {},
   "outputs": [
    {
     "data": {
      "text/plain": [
       "array([[ 70,  59],\n",
       "       [ 32, 339]])"
      ]
     },
     "execution_count": 68,
     "metadata": {},
     "output_type": "execute_result"
    }
   ],
   "source": [
    "# [classifier.classify(featuresets[i]) for i in len(featuresets)]\n",
    "confusion_matrix(y_test,y_pred)"
   ]
  },
  {
   "cell_type": "code",
   "execution_count": null,
   "id": "9029140f",
   "metadata": {},
   "outputs": [],
   "source": []
  },
  {
   "cell_type": "code",
   "execution_count": null,
   "id": "a5a83f1e",
   "metadata": {},
   "outputs": [],
   "source": []
  }
 ],
 "metadata": {
  "kernelspec": {
   "display_name": "Python 3 (ipykernel)",
   "language": "python",
   "name": "python3"
  },
  "language_info": {
   "codemirror_mode": {
    "name": "ipython",
    "version": 3
   },
   "file_extension": ".py",
   "mimetype": "text/x-python",
   "name": "python",
   "nbconvert_exporter": "python",
   "pygments_lexer": "ipython3",
   "version": "3.9.7"
  },
  "toc": {
   "base_numbering": 1,
   "nav_menu": {},
   "number_sections": true,
   "sideBar": true,
   "skip_h1_title": false,
   "title_cell": "Table of Contents",
   "title_sidebar": "Contents",
   "toc_cell": false,
   "toc_position": {},
   "toc_section_display": true,
   "toc_window_display": false
  }
 },
 "nbformat": 4,
 "nbformat_minor": 5
}
